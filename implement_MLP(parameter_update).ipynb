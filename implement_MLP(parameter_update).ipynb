{
  "nbformat": 4,
  "nbformat_minor": 0,
  "metadata": {
    "colab": {
      "provenance": []
    },
    "kernelspec": {
      "name": "python3",
      "display_name": "Python 3"
    },
    "language_info": {
      "name": "python"
    }
  },
  "cells": [
    {
      "cell_type": "code",
      "execution_count": 116,
      "metadata": {
        "id": "VV1YFBuM-x-u"
      },
      "outputs": [],
      "source": [
        "import numpy as np"
      ]
    },
    {
      "cell_type": "markdown",
      "source": [
        "입력값과 임의의 타겟값의 지정"
      ],
      "metadata": {
        "id": "nPGhJkoLA7AR"
      }
    },
    {
      "cell_type": "code",
      "source": [
        "data = np.array(([1],[2],[3]))\n",
        "data"
      ],
      "metadata": {
        "colab": {
          "base_uri": "https://localhost:8080/"
        },
        "id": "qTjBHhDL_IVo",
        "outputId": "1dc2a4d1-9741-4f46-a88a-afbb7ae07318"
      },
      "execution_count": 117,
      "outputs": [
        {
          "output_type": "execute_result",
          "data": {
            "text/plain": [
              "array([[1],\n",
              "       [2],\n",
              "       [3]])"
            ]
          },
          "metadata": {},
          "execution_count": 117
        }
      ]
    },
    {
      "cell_type": "code",
      "source": [
        "target = np.array(([0.5],[0.1]))\n",
        "target"
      ],
      "metadata": {
        "colab": {
          "base_uri": "https://localhost:8080/"
        },
        "id": "U0irQbth_pG3",
        "outputId": "25d59b50-d2d7-427d-94d0-f8ff7391779e"
      },
      "execution_count": 118,
      "outputs": [
        {
          "output_type": "execute_result",
          "data": {
            "text/plain": [
              "array([[0.5],\n",
              "       [0.1]])"
            ]
          },
          "metadata": {},
          "execution_count": 118
        }
      ]
    },
    {
      "cell_type": "markdown",
      "source": [
        "임의의 가중치 지정"
      ],
      "metadata": {
        "id": "zCuqhvEMA96W"
      }
    },
    {
      "cell_type": "code",
      "source": [
        "w1 = [[[0.1, 0.2], [0.3, 0.4], [0.5, 0.6]]]\n",
        "w1"
      ],
      "metadata": {
        "colab": {
          "base_uri": "https://localhost:8080/"
        },
        "id": "4B9m38nKqHOK",
        "outputId": "c014eeb6-d60f-4697-e8f9-21dff872b2c6"
      },
      "execution_count": 119,
      "outputs": [
        {
          "output_type": "execute_result",
          "data": {
            "text/plain": [
              "[[[0.1, 0.2], [0.3, 0.4], [0.5, 0.6]]]"
            ]
          },
          "metadata": {},
          "execution_count": 119
        }
      ]
    },
    {
      "cell_type": "code",
      "source": [
        "w2 = [[0.7, 0.8], [0.9, 0.1]]\n",
        "w2"
      ],
      "metadata": {
        "colab": {
          "base_uri": "https://localhost:8080/"
        },
        "id": "rn03Ulw_qXrI",
        "outputId": "c2f68c00-faa6-4df1-bf54-7968d81eb005"
      },
      "execution_count": 120,
      "outputs": [
        {
          "output_type": "execute_result",
          "data": {
            "text/plain": [
              "[[0.7, 0.8], [0.9, 0.1]]"
            ]
          },
          "metadata": {},
          "execution_count": 120
        }
      ]
    },
    {
      "cell_type": "code",
      "source": [
        "w1.append(w2)\n",
        "w1"
      ],
      "metadata": {
        "colab": {
          "base_uri": "https://localhost:8080/"
        },
        "id": "zrkt0XvPqRHq",
        "outputId": "90588d15-fe8d-4171-d011-3d4e10f7133e"
      },
      "execution_count": 121,
      "outputs": [
        {
          "output_type": "execute_result",
          "data": {
            "text/plain": [
              "[[[0.1, 0.2], [0.3, 0.4], [0.5, 0.6]], [[0.7, 0.8], [0.9, 0.1]]]"
            ]
          },
          "metadata": {},
          "execution_count": 121
        }
      ]
    },
    {
      "cell_type": "code",
      "source": [
        "w = w1\n",
        "w"
      ],
      "metadata": {
        "colab": {
          "base_uri": "https://localhost:8080/"
        },
        "id": "B69v13USsQQM",
        "outputId": "3aff34a4-0c1e-440a-f602-e71cd95f6dbb"
      },
      "execution_count": 122,
      "outputs": [
        {
          "output_type": "execute_result",
          "data": {
            "text/plain": [
              "[[[0.1, 0.2], [0.3, 0.4], [0.5, 0.6]], [[0.7, 0.8], [0.9, 0.1]]]"
            ]
          },
          "metadata": {},
          "execution_count": 122
        }
      ]
    },
    {
      "cell_type": "code",
      "source": [
        "w[0]"
      ],
      "metadata": {
        "colab": {
          "base_uri": "https://localhost:8080/"
        },
        "id": "ztSPGCvhuMvd",
        "outputId": "f172969e-13e8-43db-e42c-a5442f5ec1bf"
      },
      "execution_count": 123,
      "outputs": [
        {
          "output_type": "execute_result",
          "data": {
            "text/plain": [
              "[[0.1, 0.2], [0.3, 0.4], [0.5, 0.6]]"
            ]
          },
          "metadata": {},
          "execution_count": 123
        }
      ]
    },
    {
      "cell_type": "code",
      "source": [
        "w[1]"
      ],
      "metadata": {
        "colab": {
          "base_uri": "https://localhost:8080/"
        },
        "id": "pz1-xi1TovnN",
        "outputId": "d07413c4-f8b8-4e4b-a3ca-43aed6c1ea54"
      },
      "execution_count": 124,
      "outputs": [
        {
          "output_type": "execute_result",
          "data": {
            "text/plain": [
              "[[0.7, 0.8], [0.9, 0.1]]"
            ]
          },
          "metadata": {},
          "execution_count": 124
        }
      ]
    },
    {
      "cell_type": "code",
      "source": [
        "w[0][0]"
      ],
      "metadata": {
        "colab": {
          "base_uri": "https://localhost:8080/"
        },
        "id": "fp2K1d-7uRHv",
        "outputId": "5ff16b0d-288f-4d65-cff9-7e15f44b1c26"
      },
      "execution_count": 125,
      "outputs": [
        {
          "output_type": "execute_result",
          "data": {
            "text/plain": [
              "[0.1, 0.2]"
            ]
          },
          "metadata": {},
          "execution_count": 125
        }
      ]
    },
    {
      "cell_type": "code",
      "source": [
        "w[0][0][0]"
      ],
      "metadata": {
        "colab": {
          "base_uri": "https://localhost:8080/"
        },
        "id": "3YWR9gU3ughA",
        "outputId": "10ef0a75-87b2-40aa-cbb7-4d904f20d88a"
      },
      "execution_count": 126,
      "outputs": [
        {
          "output_type": "execute_result",
          "data": {
            "text/plain": [
              "0.1"
            ]
          },
          "metadata": {},
          "execution_count": 126
        }
      ]
    },
    {
      "cell_type": "code",
      "source": [
        "b = [[[0.5]],[[0.3]]]\n",
        "b"
      ],
      "metadata": {
        "colab": {
          "base_uri": "https://localhost:8080/"
        },
        "id": "tT8IVfoO0vt_",
        "outputId": "417a8404-5eee-4c69-bed3-bbc2fc8a41b8"
      },
      "execution_count": 127,
      "outputs": [
        {
          "output_type": "execute_result",
          "data": {
            "text/plain": [
              "[[[0.5]], [[0.3]]]"
            ]
          },
          "metadata": {},
          "execution_count": 127
        }
      ]
    },
    {
      "cell_type": "code",
      "source": [
        "b[1]"
      ],
      "metadata": {
        "colab": {
          "base_uri": "https://localhost:8080/"
        },
        "id": "VOLPmdDA01aa",
        "outputId": "61bfafee-822b-4ed0-dadd-1adc6e515a52"
      },
      "execution_count": 128,
      "outputs": [
        {
          "output_type": "execute_result",
          "data": {
            "text/plain": [
              "[[0.3]]"
            ]
          },
          "metadata": {},
          "execution_count": 128
        }
      ]
    },
    {
      "cell_type": "code",
      "source": [
        "b[0][0]"
      ],
      "metadata": {
        "colab": {
          "base_uri": "https://localhost:8080/"
        },
        "id": "PpCkueKz03MK",
        "outputId": "03428442-cfbb-4e90-bc79-a76c772dbf77"
      },
      "execution_count": 129,
      "outputs": [
        {
          "output_type": "execute_result",
          "data": {
            "text/plain": [
              "[0.5]"
            ]
          },
          "metadata": {},
          "execution_count": 129
        }
      ]
    },
    {
      "cell_type": "code",
      "source": [
        "b[0][0][0]"
      ],
      "metadata": {
        "colab": {
          "base_uri": "https://localhost:8080/"
        },
        "id": "nIYNnwrG05Co",
        "outputId": "d2850627-51ed-4941-a05f-c76cf830815d"
      },
      "execution_count": 130,
      "outputs": [
        {
          "output_type": "execute_result",
          "data": {
            "text/plain": [
              "0.5"
            ]
          },
          "metadata": {},
          "execution_count": 130
        }
      ]
    },
    {
      "cell_type": "markdown",
      "source": [
        "순전파의 계산 과정 - 은닉층 입력"
      ],
      "metadata": {
        "id": "cWwZ8du4B_-_"
      }
    },
    {
      "cell_type": "code",
      "source": [
        "w_array = np.array(w[0])\n",
        "w_array"
      ],
      "metadata": {
        "colab": {
          "base_uri": "https://localhost:8080/"
        },
        "id": "OKM-4XUm3KH8",
        "outputId": "cbd0ac3a-5b21-4b47-dd62-e4355c378c29"
      },
      "execution_count": 131,
      "outputs": [
        {
          "output_type": "execute_result",
          "data": {
            "text/plain": [
              "array([[0.1, 0.2],\n",
              "       [0.3, 0.4],\n",
              "       [0.5, 0.6]])"
            ]
          },
          "metadata": {},
          "execution_count": 131
        }
      ]
    },
    {
      "cell_type": "code",
      "source": [
        "hidden_input1 = w_array.T @ data + b[0][0][0]\n",
        "hidden_input1"
      ],
      "metadata": {
        "id": "-0UFQdxAB61c",
        "colab": {
          "base_uri": "https://localhost:8080/"
        },
        "outputId": "bc4afeda-52d1-4993-f9ab-e05a522d773f"
      },
      "execution_count": 132,
      "outputs": [
        {
          "output_type": "execute_result",
          "data": {
            "text/plain": [
              "array([[2.7],\n",
              "       [3.3]])"
            ]
          },
          "metadata": {},
          "execution_count": 132
        }
      ]
    },
    {
      "cell_type": "markdown",
      "source": [
        "순전파의 계산 과정 - 은닉층 출력(활성화 함수 연산-시그모이드 함수)"
      ],
      "metadata": {
        "id": "S5XQsZYWDzqX"
      }
    },
    {
      "cell_type": "code",
      "source": [
        "class activation:\n",
        "  def sigmoid(self, x):\n",
        "    return 1 / (1+np.e**-x)"
      ],
      "metadata": {
        "id": "nHMaPGJbC0Ck"
      },
      "execution_count": 133,
      "outputs": []
    },
    {
      "cell_type": "code",
      "source": [
        "def forward_cal(input, w, b):\n",
        "  activation1 = activation()\n",
        "  hidden_output = input\n",
        "  for i in range(len(w)):\n",
        "    w_numpy_array = np.array(w[i])\n",
        "    hidden_input = w_numpy_array.T @ hidden_output + b[i][0][0]\n",
        "    hidden_output = activation1.sigmoid(hidden_input)\n",
        "    \n",
        "    print(hidden_output)"
      ],
      "metadata": {
        "id": "UKQDydu9lhhh"
      },
      "execution_count": 139,
      "outputs": []
    },
    {
      "cell_type": "code",
      "source": [
        "forward_cal(data, w, b)"
      ],
      "metadata": {
        "colab": {
          "base_uri": "https://localhost:8080/"
        },
        "id": "j8B_VjsSmNmy",
        "outputId": "ec47c83c-7693-470a-e57a-9a76901d3663"
      },
      "execution_count": 140,
      "outputs": [
        {
          "output_type": "stream",
          "name": "stdout",
          "text": [
            "[[0.93702664]\n",
            " [0.96442881]]\n",
            "[[0.86103399]\n",
            " [0.75879129]]\n"
          ]
        }
      ]
    },
    {
      "cell_type": "code",
      "source": [
        "act = activation()"
      ],
      "metadata": {
        "id": "tp1MGFYuEq4w"
      },
      "execution_count": 136,
      "outputs": []
    },
    {
      "cell_type": "code",
      "source": [
        "hidden_output1 = act.sigmoid(hidden_input1)\n",
        "hidden_output1"
      ],
      "metadata": {
        "id": "fN_C2zQYE1FC",
        "colab": {
          "base_uri": "https://localhost:8080/"
        },
        "outputId": "39968f16-b75a-4287-eeb5-6732e3f904c8"
      },
      "execution_count": 137,
      "outputs": [
        {
          "output_type": "execute_result",
          "data": {
            "text/plain": [
              "array([[0.93702664],\n",
              "       [0.96442881]])"
            ]
          },
          "metadata": {},
          "execution_count": 137
        }
      ]
    },
    {
      "cell_type": "markdown",
      "source": [
        "은닉층-출력층까지의 계산(활성화 함수-시그모이드)"
      ],
      "metadata": {
        "id": "6aenqY3OHU6f"
      }
    },
    {
      "cell_type": "code",
      "source": [
        "hidden_input2 = w2.T @ hidden_output1 + b2\n",
        "hidden_input2"
      ],
      "metadata": {
        "id": "RjBZcPY0EtTQ",
        "colab": {
          "base_uri": "https://localhost:8080/",
          "height": 193
        },
        "outputId": "91e51ec5-4eb6-4eef-bc82-4760368ad5f3"
      },
      "execution_count": 138,
      "outputs": [
        {
          "output_type": "error",
          "ename": "AttributeError",
          "evalue": "ignored",
          "traceback": [
            "\u001b[0;31m---------------------------------------------------------------------------\u001b[0m",
            "\u001b[0;31mAttributeError\u001b[0m                            Traceback (most recent call last)",
            "\u001b[0;32m<ipython-input-138-fd2d2294e059>\u001b[0m in \u001b[0;36m<module>\u001b[0;34m\u001b[0m\n\u001b[0;32m----> 1\u001b[0;31m \u001b[0mhidden_input2\u001b[0m \u001b[0;34m=\u001b[0m \u001b[0mw2\u001b[0m\u001b[0;34m.\u001b[0m\u001b[0mT\u001b[0m \u001b[0;34m@\u001b[0m \u001b[0mhidden_output1\u001b[0m \u001b[0;34m+\u001b[0m \u001b[0mb2\u001b[0m\u001b[0;34m\u001b[0m\u001b[0;34m\u001b[0m\u001b[0m\n\u001b[0m\u001b[1;32m      2\u001b[0m \u001b[0mhidden_input2\u001b[0m\u001b[0;34m\u001b[0m\u001b[0;34m\u001b[0m\u001b[0m\n",
            "\u001b[0;31mAttributeError\u001b[0m: 'list' object has no attribute 'T'"
          ]
        }
      ]
    },
    {
      "cell_type": "code",
      "source": [
        "hidden_output2 = act.sigmoid(hidden_input2)\n",
        "hidden_output2"
      ],
      "metadata": {
        "id": "0_oH6TPDOm_6"
      },
      "execution_count": null,
      "outputs": []
    },
    {
      "cell_type": "code",
      "source": [
        "predict = hidden_output2\n",
        "predict"
      ],
      "metadata": {
        "id": "XUvrUArvzGqj"
      },
      "execution_count": null,
      "outputs": []
    },
    {
      "cell_type": "markdown",
      "source": [
        "비용함수의 정의(오차 제곱합)"
      ],
      "metadata": {
        "id": "WIfKUd-vwr3c"
      }
    },
    {
      "cell_type": "code",
      "source": [
        "target"
      ],
      "metadata": {
        "id": "jhrwTXT6TV8n"
      },
      "execution_count": null,
      "outputs": []
    },
    {
      "cell_type": "code",
      "source": [
        "predict"
      ],
      "metadata": {
        "id": "5IpH0TytTX7t"
      },
      "execution_count": null,
      "outputs": []
    },
    {
      "cell_type": "code",
      "source": [
        "class cost_function:\n",
        "  def error_squared_sum(self, predict, target):\n",
        "    return 0.5*((predict - target)**2)"
      ],
      "metadata": {
        "id": "ONuhynuSRCWD"
      },
      "execution_count": null,
      "outputs": []
    },
    {
      "cell_type": "code",
      "source": [
        "cost_function = cost_function()"
      ],
      "metadata": {
        "id": "S1eTwoyVzeeH"
      },
      "execution_count": null,
      "outputs": []
    },
    {
      "cell_type": "code",
      "source": [
        "cost_function.error_squared_sum(predict, target)"
      ],
      "metadata": {
        "id": "g5z9Gj2D1-jH"
      },
      "execution_count": null,
      "outputs": []
    },
    {
      "cell_type": "markdown",
      "source": [
        "역전파 계산\n",
        "\n",
        "역전파 계산을 위해서는 미분식을 구할 수 있어야 한다. \n",
        "\n",
        "오차 함수를 정하면서 해당 함수의 미분식을 미리 알고 있으므로 미분식에 대한 함수를 미리 만들 수 있다."
      ],
      "metadata": {
        "id": "KPQAXyPaXhFX"
      }
    },
    {
      "cell_type": "markdown",
      "source": [
        "활성화 함수의 미분함수"
      ],
      "metadata": {
        "id": "CAvI-LpYr4dY"
      }
    },
    {
      "cell_type": "code",
      "source": [
        "class activation:\n",
        "  def sigmoid(self, x):\n",
        "    return 1 / (1+np.e**-x)\n",
        "  \n",
        "  def sigmoid_diff(self, x):\n",
        "  # 활성화 함수의 계산 값이 예측값이다.\n",
        "    return x * (1 - x)"
      ],
      "metadata": {
        "id": "C8SHQyA52CP4"
      },
      "execution_count": null,
      "outputs": []
    },
    {
      "cell_type": "markdown",
      "source": [
        "오차 역전파(델타값 계산 : 노드 입력의 변화에 따른 비용 함수의 변화량)"
      ],
      "metadata": {
        "id": "5iJzkZQWZndz"
      }
    },
    {
      "cell_type": "code",
      "source": [
        "activation = activation()"
      ],
      "metadata": {
        "id": "dLjx7Y6kaHyp"
      },
      "execution_count": null,
      "outputs": []
    },
    {
      "cell_type": "code",
      "source": [
        "delta2 = (predict - target) * activation.sigmoid_diff(predict)\n",
        "delta2"
      ],
      "metadata": {
        "id": "5udu8TiIZjDM"
      },
      "execution_count": null,
      "outputs": []
    },
    {
      "cell_type": "markdown",
      "source": [
        "해당 델타값은 출력층의 각 노드들의 입력값의 변화량에 따른 오차 함수의 변화량이다."
      ],
      "metadata": {
        "id": "61ovAlaKa0IG"
      }
    },
    {
      "cell_type": "markdown",
      "source": [
        "델타값을 통해 가중치 변화량에 따른 오차함수의 변화량을 구할 수 있다."
      ],
      "metadata": {
        "id": "ibcQiyc8bDSu"
      }
    },
    {
      "cell_type": "markdown",
      "source": [
        "가중치 변화에 따른 오차함수의 변화량은 이전 노드의 출력값이다."
      ],
      "metadata": {
        "id": "HN7hGyDKbOPD"
      }
    },
    {
      "cell_type": "code",
      "source": [
        "hidden_output1"
      ],
      "metadata": {
        "id": "48Koh8evbow0"
      },
      "execution_count": null,
      "outputs": []
    },
    {
      "cell_type": "code",
      "source": [
        "w2_diff = (delta2 @ hidden_output1.T).T\n",
        "w2_diff"
      ],
      "metadata": {
        "id": "WOId4V57a-qk"
      },
      "execution_count": null,
      "outputs": []
    },
    {
      "cell_type": "code",
      "source": [
        "b2_diff = np.sum(delta2*b2)\n",
        "b2_diff"
      ],
      "metadata": {
        "id": "h_6ypnNlaVgj"
      },
      "execution_count": null,
      "outputs": []
    },
    {
      "cell_type": "markdown",
      "source": [
        "은닉층-출력층 사이 가중치 변화량에 따른 오차 함수의 변화량을 구할 수 있었다."
      ],
      "metadata": {
        "id": "hBnFYUXhdSIX"
      }
    },
    {
      "cell_type": "markdown",
      "source": [
        "delta 값을 이용하여 입력-은닉층까지의 가중치 변화량에 따른 오차 함수의 변화량을 계산한다."
      ],
      "metadata": {
        "id": "lBxph0DYdYgq"
      }
    },
    {
      "cell_type": "code",
      "source": [
        "delta2"
      ],
      "metadata": {
        "id": "VM5G7QZmdrBV"
      },
      "execution_count": null,
      "outputs": []
    },
    {
      "cell_type": "code",
      "source": [
        "w2"
      ],
      "metadata": {
        "id": "M9fVvINFeVc1"
      },
      "execution_count": null,
      "outputs": []
    },
    {
      "cell_type": "markdown",
      "source": [
        "각 은닉노드의 출력에 대한 오차 함수의 변화량을 계산하기 위해서는 delta 값에 노드 입력에 대한 변화량을 곱해준다."
      ],
      "metadata": {
        "id": "pDVtdaTidujo"
      }
    },
    {
      "cell_type": "code",
      "source": [
        "delta2.T @ w2.T"
      ],
      "metadata": {
        "id": "v1SrTSh1dE-7"
      },
      "execution_count": null,
      "outputs": []
    },
    {
      "cell_type": "markdown",
      "source": [
        "이는 각 은닉노드 출력의 변화에 따른 오차 함수의 변화량이다."
      ],
      "metadata": {
        "id": "g89ZZzlPemtX"
      }
    },
    {
      "cell_type": "markdown",
      "source": [
        "은닉노드의 입력의 변화에 따른 오차 함수의 변화량, 즉 delta1 을 계산한다."
      ],
      "metadata": {
        "id": "8Tk1lRCwfaRE"
      }
    },
    {
      "cell_type": "code",
      "source": [
        "delta1 = (delta2.T @ w2.T).T * activation.sigmoid_diff(hidden_output1)\n",
        "delta1"
      ],
      "metadata": {
        "id": "JKaWoScodhT9"
      },
      "execution_count": null,
      "outputs": []
    },
    {
      "cell_type": "markdown",
      "source": [
        "이후 동일하게 은닉 노드의 입력, 즉 데이터값을 통해 입력-은닉 노드의 가중치 변화량에 대한 오차 함수의 변화량을 계산한다."
      ],
      "metadata": {
        "id": "TXDBw29VgHGx"
      }
    },
    {
      "cell_type": "code",
      "source": [
        "w1_diff = (data * delta1.T).T\n",
        "w1_diff"
      ],
      "metadata": {
        "id": "rtrhjxyXf7TQ"
      },
      "execution_count": null,
      "outputs": []
    },
    {
      "cell_type": "code",
      "source": [
        "b1_diff = np.sum(delta1*b1)\n",
        "b1_diff"
      ],
      "metadata": {
        "id": "3B6vnzJXgXRx"
      },
      "execution_count": null,
      "outputs": []
    },
    {
      "cell_type": "code",
      "source": [],
      "metadata": {
        "id": "V_1G1mNsIMpM"
      },
      "execution_count": null,
      "outputs": []
    }
  ]
}