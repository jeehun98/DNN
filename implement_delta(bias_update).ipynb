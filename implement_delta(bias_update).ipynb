{
  "nbformat": 4,
  "nbformat_minor": 0,
  "metadata": {
    "colab": {
      "provenance": []
    },
    "kernelspec": {
      "name": "python3",
      "display_name": "Python 3"
    },
    "language_info": {
      "name": "python"
    }
  },
  "cells": [
    {
      "cell_type": "code",
      "execution_count": 66,
      "metadata": {
        "id": "tmiMCncq1Sj_"
      },
      "outputs": [],
      "source": [
        "import numpy as np"
      ]
    },
    {
      "cell_type": "code",
      "source": [
        "import sympy"
      ],
      "metadata": {
        "id": "46_qwvI9VstQ"
      },
      "execution_count": 67,
      "outputs": []
    },
    {
      "cell_type": "code",
      "source": [
        "perch_length = np.array(\n",
        "    [8.4, 13.7, 15.0, 16.2, 17.4, 18.0, 18.7, 19.0, 19.6, 20.0, \n",
        "     21.0, 21.0, 21.0, 21.3, 22.0, 22.0, 22.0, 22.0, 22.0, 22.5, \n",
        "     22.5, 22.7, 23.0, 23.5, 24.0, 24.0, 24.6, 25.0, 25.6, 26.5, \n",
        "     27.3, 27.5, 27.5, 27.5, 28.0, 28.7, 30.0, 32.8, 34.5, 35.0, \n",
        "     36.5, 36.0, 37.0, 37.0, 39.0, 39.0, 39.0, 40.0, 40.0, 40.0, \n",
        "     40.0, 42.0, 43.0, 43.0, 43.5, 44.0]\n",
        "     )\n",
        "perch_weight = np.array(\n",
        "    [5.9, 32.0, 40.0, 51.5, 70.0, 100.0, 78.0, 80.0, 85.0, 85.0, \n",
        "     110.0, 115.0, 125.0, 130.0, 120.0, 120.0, 130.0, 135.0, 110.0, \n",
        "     130.0, 150.0, 145.0, 150.0, 170.0, 225.0, 145.0, 188.0, 180.0, \n",
        "     197.0, 218.0, 300.0, 260.0, 265.0, 250.0, 250.0, 300.0, 320.0, \n",
        "     514.0, 556.0, 840.0, 685.0, 700.0, 700.0, 690.0, 900.0, 650.0, \n",
        "     820.0, 850.0, 900.0, 1015.0, 820.0, 1100.0, 1000.0, 1100.0, \n",
        "     1000.0, 1000.0]\n",
        "     )"
      ],
      "metadata": {
        "id": "luITXD-QV0_m"
      },
      "execution_count": 68,
      "outputs": []
    },
    {
      "cell_type": "code",
      "source": [
        "input = perch_length[:5].reshape(-1,1)\n",
        "target = perch_weight[:2].reshape(-1,1)\n",
        "\n",
        "input.shape"
      ],
      "metadata": {
        "colab": {
          "base_uri": "https://localhost:8080/"
        },
        "id": "oJEficfNV4hs",
        "outputId": "8b094eec-8d3e-4f58-9464-5ff0604f8cc6"
      },
      "execution_count": 69,
      "outputs": [
        {
          "output_type": "execute_result",
          "data": {
            "text/plain": [
              "(5, 1)"
            ]
          },
          "metadata": {},
          "execution_count": 69
        }
      ]
    },
    {
      "cell_type": "markdown",
      "source": [
        "활성화 함수와 그 미분값을 미리 정해야 한다."
      ],
      "metadata": {
        "id": "ne3gWbi65ar8"
      }
    },
    {
      "cell_type": "code",
      "source": [
        "class Activation:\n",
        "  \"\"\"\n",
        "  데이터의 활성화 함수 연산 결과를 얻기 위함\n",
        "  추가로 역전파 계산에 필요한 활성화 함수의 미분 함수\n",
        "  \"\"\"\n",
        "  # 활성화 함수\n",
        "  fx = 0\n",
        "  # 활성화 함수의 미분 함수\n",
        "  d_fx = 0\n",
        "\n",
        "  def sigmoid_fun(self, input):\n",
        "    \"\"\"\n",
        "    시그모이드 함수\n",
        "    자연 상수의 지수 함수를 사용한 0~1 사이의 값 출력\n",
        "    Args:\n",
        "      input : 입력값\n",
        "    Return:\n",
        "      0~1 사이의 값\n",
        "    \"\"\"\n",
        "    x = sympy.Symbol('x')\n",
        "    result = []\n",
        "\n",
        "    self.fx = 1/(1+np.e**(-x))\n",
        "\n",
        "    self.d_fx = sympy.diff(self.fx, x)\n",
        "\n",
        "    for i in range(input.shape[0]):\n",
        "      result.append(self.fx.subs([(x, input[i][0])]))\n",
        "\n",
        "    return np.array(result).reshape(-1, 1)\n",
        "\n",
        "  def d_sigmoid_fun(self, input):\n",
        "    \"\"\"\n",
        "    시그모이드 함수의 미분값, 노드의 출력이 입력된다.\n",
        "    arg\n",
        "      input : 입력값\n",
        "    return\n",
        "      시그모이드 미분 함수의 계산 값\n",
        "    \"\"\"\n",
        "    result = []\n",
        "\n",
        "    x = sympy.Symbol('x')\n",
        "\n",
        "    for i in range(input.shape[0]):\n",
        "      result.append(self.d_fx.subs([(x,input[i][0])]))\n",
        "\n",
        "    return np.array(result).reshape(-1, 1)"
      ],
      "metadata": {
        "id": "uG-6NTNW5ZdN"
      },
      "execution_count": 70,
      "outputs": []
    },
    {
      "cell_type": "markdown",
      "source": [
        "오차 함수와 그 미분값의 정의"
      ],
      "metadata": {
        "id": "xBMB78Al5efZ"
      }
    },
    {
      "cell_type": "code",
      "source": [
        "class Error:\n",
        "  \"\"\"\n",
        "  오차 함수와 오차 함수의 미분 함수를 얻을 수 있다.  \n",
        "  \"\"\"\n",
        "  # 오차 함수\n",
        "  fx = 0\n",
        "  \n",
        "  # 오차 함수의 미분값\n",
        "  d_fx = 0\n",
        "  \n",
        "  def RMSE(self, target, predict):\n",
        "    \"\"\"\n",
        "    일반적인 제곱 오차 함수\n",
        "    args:\n",
        "      target : 목표 변수\n",
        "      predict : 예측 변수\n",
        "    return:\n",
        "      제곱 오차 평균 값\n",
        "    \"\"\"\n",
        "    result = (predict - target)**2\n",
        "    self.result = np.mean(result)\n",
        "\n",
        "    t = sympy.Symbol('t')\n",
        "    y = sympy.Symbol('y')\n",
        "\n",
        "    self.fx = 1/2*((y-t)**2)\n",
        "\n",
        "    self.d_fx = sympy.diff(self.fx, y)\n",
        "\n",
        "    return self.result\n",
        "\n",
        "  def d_RMSE(self, target, predict):\n",
        "    \"\"\"\n",
        "    RMSE 의 미분 함수\n",
        "    args\n",
        "      target : 목표 변수\n",
        "      predict : 예측 변수\n",
        "    return:\n",
        "      미분 함수의 계산 값\n",
        "    \"\"\"\n",
        "    result = []\n",
        "\n",
        "    t = sympy.Symbol('t')\n",
        "    y = sympy.Symbol('y')\n",
        "\n",
        "    for i in range(target.shape[0]):\n",
        "      result.append(self.d_fx.subs([(t, target[i][0]), (y, predict[i][0])]))\n",
        "    \n",
        "    return np.array(result).reshape(-1, 1)\n"
      ],
      "metadata": {
        "id": "7zzvCA0C5eBs"
      },
      "execution_count": 71,
      "outputs": []
    },
    {
      "cell_type": "code",
      "source": [
        "class Dense:\n",
        "  \"\"\"\n",
        "  완전 연결층의 계산\n",
        "  \"\"\"\n",
        "  # 가중치 w\n",
        "  w = []\n",
        "\n",
        "  # 편향 값 bais\n",
        "  bias = []\n",
        "\n",
        "  def cal_dense(self, input, unit, w = [], bias = []):\n",
        "    \"\"\"\n",
        "    args\n",
        "      input : 입력 데이터\n",
        "      unit : 은닉층 노드의 개수\n",
        "    return \n",
        "      각 가중치 별 입력 데이터와의 연산 결과\n",
        "    \"\"\"\n",
        "    # 가중치 w의 생성\n",
        "    if not w:\n",
        "      w = np.random.rand(input.shape[0], unit)\n",
        "    \n",
        "    if not bias:\n",
        "      bias = np.random.rand()\n",
        "\n",
        "    self.w.append(w)\n",
        "\n",
        "    self.bias.append(bias)\n",
        "\n",
        "    return w.T.dot(input) + bias"
      ],
      "metadata": {
        "id": "gj1AWF1L3rng"
      },
      "execution_count": 72,
      "outputs": []
    },
    {
      "cell_type": "code",
      "source": [
        "class Delta:\n",
        "  def cal_delta(activation, error):\n",
        "    return 0"
      ],
      "metadata": {
        "id": "PvHLIjtd1joj"
      },
      "execution_count": 73,
      "outputs": []
    },
    {
      "cell_type": "code",
      "source": [
        "dense = Dense()"
      ],
      "metadata": {
        "id": "gL3hPWkf7sLE"
      },
      "execution_count": 74,
      "outputs": []
    },
    {
      "cell_type": "code",
      "source": [
        "hidden_input = dense.cal_dense(input, 3)\n",
        "hidden_input"
      ],
      "metadata": {
        "colab": {
          "base_uri": "https://localhost:8080/"
        },
        "id": "T45Kl3-m7tZG",
        "outputId": "aa8bbcd2-cece-4a69-ec7b-16981e532dd5"
      },
      "execution_count": 75,
      "outputs": [
        {
          "output_type": "execute_result",
          "data": {
            "text/plain": [
              "array([[47.59187272],\n",
              "       [28.45064092],\n",
              "       [34.26519866]])"
            ]
          },
          "metadata": {},
          "execution_count": 75
        }
      ]
    },
    {
      "cell_type": "markdown",
      "source": [
        "행의 개수는 입력의 개수, 열은 은닉층의 개수이다."
      ],
      "metadata": {
        "id": "hE_m2deVR7pM"
      }
    },
    {
      "cell_type": "code",
      "source": [
        "dense.w"
      ],
      "metadata": {
        "colab": {
          "base_uri": "https://localhost:8080/"
        },
        "id": "zmu26iupGOy3",
        "outputId": "893eb5a1-68c8-44d0-b917-33a315f246db"
      },
      "execution_count": 76,
      "outputs": [
        {
          "output_type": "execute_result",
          "data": {
            "text/plain": [
              "[array([[0.63113348, 0.57498164, 0.3605419 ],\n",
              "        [0.07980582, 0.99839562, 0.77162014],\n",
              "        [0.81066848, 0.09121302, 0.1622115 ],\n",
              "        [0.78716419, 0.1368372 , 0.81220765],\n",
              "        [0.92282849, 0.35230508, 0.27855203]])]"
            ]
          },
          "metadata": {},
          "execution_count": 76
        }
      ]
    },
    {
      "cell_type": "code",
      "source": [
        "dense.bias"
      ],
      "metadata": {
        "colab": {
          "base_uri": "https://localhost:8080/"
        },
        "id": "MYnQmsV99ulu",
        "outputId": "3f3dc70e-f288-4014-dbde-ff6f0c96de31"
      },
      "execution_count": 77,
      "outputs": [
        {
          "output_type": "execute_result",
          "data": {
            "text/plain": [
              "[0.2277088768265767]"
            ]
          },
          "metadata": {},
          "execution_count": 77
        }
      ]
    },
    {
      "cell_type": "code",
      "source": [
        "act = Activation()"
      ],
      "metadata": {
        "id": "fgIt7FSLSEIy"
      },
      "execution_count": 78,
      "outputs": []
    },
    {
      "cell_type": "code",
      "source": [
        "hidden_input"
      ],
      "metadata": {
        "colab": {
          "base_uri": "https://localhost:8080/"
        },
        "id": "7uUe0sUOUBJp",
        "outputId": "73f2d9ce-30d5-4497-94cc-e87bf09aea83"
      },
      "execution_count": 79,
      "outputs": [
        {
          "output_type": "execute_result",
          "data": {
            "text/plain": [
              "array([[47.59187272],\n",
              "       [28.45064092],\n",
              "       [34.26519866]])"
            ]
          },
          "metadata": {},
          "execution_count": 79
        }
      ]
    },
    {
      "cell_type": "code",
      "source": [
        "hidden_output = act.sigmoid_fun(hidden_input)\n",
        "hidden_output"
      ],
      "metadata": {
        "colab": {
          "base_uri": "https://localhost:8080/"
        },
        "id": "s6IVHAq_Tf_d",
        "outputId": "e879c206-510e-4f86-dda5-31d3fcf7596a"
      },
      "execution_count": 80,
      "outputs": [
        {
          "output_type": "execute_result",
          "data": {
            "text/plain": [
              "array([[1.00000000000000],\n",
              "       [0.999999999999559],\n",
              "       [0.999999999999999]], dtype=object)"
            ]
          },
          "metadata": {},
          "execution_count": 80
        }
      ]
    },
    {
      "cell_type": "code",
      "source": [
        "result_input = dense.cal_dense(hidden_output, 2)\n",
        "result_input"
      ],
      "metadata": {
        "colab": {
          "base_uri": "https://localhost:8080/"
        },
        "id": "0fuO0RR2T2vw",
        "outputId": "f0775d85-68f4-4c48-a76f-d3be39a49dc5"
      },
      "execution_count": 81,
      "outputs": [
        {
          "output_type": "execute_result",
          "data": {
            "text/plain": [
              "array([[1.94768461470366],\n",
              "       [2.35572345793080]], dtype=object)"
            ]
          },
          "metadata": {},
          "execution_count": 81
        }
      ]
    },
    {
      "cell_type": "code",
      "source": [
        "result_output = act.sigmoid_fun(result_input)\n",
        "result_output"
      ],
      "metadata": {
        "colab": {
          "base_uri": "https://localhost:8080/"
        },
        "id": "GgdaZqVCV79O",
        "outputId": "fe6029d5-ac15-4d5d-f87b-1974145c12fb"
      },
      "execution_count": 82,
      "outputs": [
        {
          "output_type": "execute_result",
          "data": {
            "text/plain": [
              "array([[0.875193953068249],\n",
              "       [0.913388084576171]], dtype=object)"
            ]
          },
          "metadata": {},
          "execution_count": 82
        }
      ]
    },
    {
      "cell_type": "code",
      "source": [
        "err = Error()"
      ],
      "metadata": {
        "id": "QVjM_AStV-nD"
      },
      "execution_count": 83,
      "outputs": []
    },
    {
      "cell_type": "code",
      "source": [
        "result = err.RMSE(target, result_output)"
      ],
      "metadata": {
        "id": "WAXkFMAcZj4G"
      },
      "execution_count": 84,
      "outputs": []
    },
    {
      "cell_type": "markdown",
      "source": [
        "출력층의 델타 계산\n",
        "오차함수 변화량 * 활성화 함수 변화량"
      ],
      "metadata": {
        "id": "rkhunyAojUdN"
      }
    },
    {
      "cell_type": "code",
      "source": [
        "err.d_fx"
      ],
      "metadata": {
        "colab": {
          "base_uri": "https://localhost:8080/",
          "height": 38
        },
        "id": "JYNmwkWJbB4g",
        "outputId": "2b16e2bc-5af0-4cc8-9c9d-90a9282c6140"
      },
      "execution_count": 85,
      "outputs": [
        {
          "output_type": "execute_result",
          "data": {
            "text/plain": [
              "-1.0*t + 1.0*y"
            ],
            "text/latex": "$\\displaystyle - 1.0 t + 1.0 y$"
          },
          "metadata": {},
          "execution_count": 85
        }
      ]
    },
    {
      "cell_type": "code",
      "source": [
        "d_err = err.d_RMSE(target, result_output)\n",
        "d_err"
      ],
      "metadata": {
        "id": "3gp7VxIywoJY",
        "colab": {
          "base_uri": "https://localhost:8080/"
        },
        "outputId": "db42fa9c-6848-4ac2-975f-ab0edec3cc3a"
      },
      "execution_count": 86,
      "outputs": [
        {
          "output_type": "execute_result",
          "data": {
            "text/plain": [
              "array([[-5.02480604693175],\n",
              "       [-31.0866119154238]], dtype=object)"
            ]
          },
          "metadata": {},
          "execution_count": 86
        }
      ]
    },
    {
      "cell_type": "code",
      "source": [
        "act.d_fx"
      ],
      "metadata": {
        "colab": {
          "base_uri": "https://localhost:8080/",
          "height": 60
        },
        "id": "CiQXfx1rlREd",
        "outputId": "aa11698f-41b5-4243-e12b-fd058f074c0a"
      },
      "execution_count": 87,
      "outputs": [
        {
          "output_type": "execute_result",
          "data": {
            "text/plain": [
              "1.0*2.71828182845905**(-x)/(1 + 2.71828182845905**(-x))**2"
            ],
            "text/latex": "$\\displaystyle \\frac{1.0 \\cdot 2.71828182845905^{- x}}{\\left(1 + 2.71828182845905^{- x}\\right)^{2}}$"
          },
          "metadata": {},
          "execution_count": 87
        }
      ]
    },
    {
      "cell_type": "code",
      "source": [
        "d_act = act.d_sigmoid_fun(result_output)\n",
        "d_act"
      ],
      "metadata": {
        "colab": {
          "base_uri": "https://localhost:8080/"
        },
        "id": "QbIlDnGrkzpi",
        "outputId": "3262e879-1ab1-4c77-998a-9cc8f23e73f5"
      },
      "execution_count": 88,
      "outputs": [
        {
          "output_type": "execute_result",
          "data": {
            "text/plain": [
              "array([[0.207635945438082],\n",
              "       [0.204335314992613]], dtype=object)"
            ]
          },
          "metadata": {},
          "execution_count": 88
        }
      ]
    },
    {
      "cell_type": "code",
      "source": [
        "result_delta = d_err * d_act\n",
        "result_delta"
      ],
      "metadata": {
        "colab": {
          "base_uri": "https://localhost:8080/"
        },
        "id": "6wXQIS76lE0r",
        "outputId": "725dc965-2ac3-4e83-9c11-70f967c92930"
      },
      "execution_count": 89,
      "outputs": [
        {
          "output_type": "execute_result",
          "data": {
            "text/plain": [
              "array([[-1.04333035419767],\n",
              "       [-6.35209263779123]], dtype=object)"
            ]
          },
          "metadata": {},
          "execution_count": 89
        }
      ]
    },
    {
      "cell_type": "markdown",
      "source": [
        "은닉층 가중치 변화량의 계산"
      ],
      "metadata": {
        "id": "l6Ek1tDLulUP"
      }
    },
    {
      "cell_type": "code",
      "source": [
        "hidden_output"
      ],
      "metadata": {
        "colab": {
          "base_uri": "https://localhost:8080/"
        },
        "id": "g5koTjB2tjjt",
        "outputId": "a03800ea-f2c4-4da9-b57b-6668549e4fb3"
      },
      "execution_count": 90,
      "outputs": [
        {
          "output_type": "execute_result",
          "data": {
            "text/plain": [
              "array([[1.00000000000000],\n",
              "       [0.999999999999559],\n",
              "       [0.999999999999999]], dtype=object)"
            ]
          },
          "metadata": {},
          "execution_count": 90
        }
      ]
    },
    {
      "cell_type": "code",
      "source": [
        "hidden_w_diff = hidden_output * result_delta.T\n",
        "hidden_w_diff"
      ],
      "metadata": {
        "colab": {
          "base_uri": "https://localhost:8080/"
        },
        "id": "y8ZXMLM_pDHX",
        "outputId": "4a02ace5-4fc1-4426-c06d-a271bedcc8c5"
      },
      "execution_count": 91,
      "outputs": [
        {
          "output_type": "execute_result",
          "data": {
            "text/plain": [
              "array([[-1.04333035419767, -6.35209263779123],\n",
              "       [-1.04333035419721, -6.35209263778843],\n",
              "       [-1.04333035419767, -6.35209263779122]], dtype=object)"
            ]
          },
          "metadata": {},
          "execution_count": 91
        }
      ]
    },
    {
      "cell_type": "markdown",
      "source": [
        "은닉층의 델타 계산"
      ],
      "metadata": {
        "id": "l5bkjw93undj"
      }
    },
    {
      "cell_type": "code",
      "source": [
        "result_delta.shape"
      ],
      "metadata": {
        "colab": {
          "base_uri": "https://localhost:8080/"
        },
        "id": "XpxBZLQQSnm8",
        "outputId": "8508e9e8-44c4-4b39-abcc-fed55f62ad3a"
      },
      "execution_count": 92,
      "outputs": [
        {
          "output_type": "execute_result",
          "data": {
            "text/plain": [
              "(2, 1)"
            ]
          },
          "metadata": {},
          "execution_count": 92
        }
      ]
    },
    {
      "cell_type": "code",
      "source": [
        "dense.w[1]"
      ],
      "metadata": {
        "colab": {
          "base_uri": "https://localhost:8080/"
        },
        "id": "WiNymjrWSaAT",
        "outputId": "ca0b753e-92fc-4fe7-e57e-876b987059c4"
      },
      "execution_count": 93,
      "outputs": [
        {
          "output_type": "execute_result",
          "data": {
            "text/plain": [
              "array([[0.19441735, 0.83040762],\n",
              "       [0.55190935, 0.44372727],\n",
              "       [0.87323673, 0.75346737]])"
            ]
          },
          "metadata": {},
          "execution_count": 93
        }
      ]
    },
    {
      "cell_type": "code",
      "source": [
        "d_hidden_output = (result_delta.T @ dense.w[1].T).T\n",
        "d_hidden_output"
      ],
      "metadata": {
        "id": "snyNoJTluqCS",
        "colab": {
          "base_uri": "https://localhost:8080/"
        },
        "outputId": "cce41eaa-f6f6-4423-cc7a-d7e3a8f3b891"
      },
      "execution_count": 94,
      "outputs": [
        {
          "output_type": "execute_result",
          "data": {
            "text/plain": [
              "array([[-5.47766765715545],\n",
              "       [-3.39442052815990],\n",
              "       [-5.69716891123862]], dtype=object)"
            ]
          },
          "metadata": {},
          "execution_count": 94
        }
      ]
    },
    {
      "cell_type": "code",
      "source": [
        "hidden_delta = d_hidden_output * act.d_sigmoid_fun(hidden_output)\n",
        "hidden_delta"
      ],
      "metadata": {
        "colab": {
          "base_uri": "https://localhost:8080/"
        },
        "id": "L6OfNnuBTFlB",
        "outputId": "b3f05809-2002-4ba0-9bc3-036da1fc7c72"
      },
      "execution_count": 95,
      "outputs": [
        {
          "output_type": "execute_result",
          "data": {
            "text/plain": [
              "array([[-1.07697482772767],\n",
              "       [-0.667383582276225],\n",
              "       [-1.12013139364189]], dtype=object)"
            ]
          },
          "metadata": {},
          "execution_count": 95
        }
      ]
    },
    {
      "cell_type": "code",
      "source": [
        "input_w_diff = input * hidden_delta.T\n",
        "input_w_diff"
      ],
      "metadata": {
        "colab": {
          "base_uri": "https://localhost:8080/"
        },
        "id": "Bdx5OCYKVRMr",
        "outputId": "9d0dea8a-e8dd-4368-ccbc-21f7f967b822"
      },
      "execution_count": 96,
      "outputs": [
        {
          "output_type": "execute_result",
          "data": {
            "text/plain": [
              "array([[-9.04658855291244, -5.60602209112029, -9.40910370659192],\n",
              "       [-14.7545551398691, -9.14315507718428, -15.3458000928940],\n",
              "       [-16.1546224159151, -10.0107537341434, -16.8019709046284],\n",
              "       [-17.4469922091883, -10.8116140328748, -18.1461285769987],\n",
              "       [-18.7393620024615, -11.6124743316063, -19.4902862493690]],\n",
              "      dtype=object)"
            ]
          },
          "metadata": {},
          "execution_count": 96
        }
      ]
    },
    {
      "cell_type": "markdown",
      "source": [
        "편향 값에 대한 업데이트"
      ],
      "metadata": {
        "id": "IhHfDwxRaSaP"
      }
    },
    {
      "cell_type": "code",
      "source": [
        "result_delta"
      ],
      "metadata": {
        "colab": {
          "base_uri": "https://localhost:8080/"
        },
        "id": "DqdkjzHMbP8T",
        "outputId": "70a473a5-ad2a-4df7-d525-61626fd5080c"
      },
      "execution_count": 99,
      "outputs": [
        {
          "output_type": "execute_result",
          "data": {
            "text/plain": [
              "array([[-1.04333035419767],\n",
              "       [-6.35209263779123]], dtype=object)"
            ]
          },
          "metadata": {},
          "execution_count": 99
        }
      ]
    },
    {
      "cell_type": "code",
      "source": [
        "dense.bias"
      ],
      "metadata": {
        "colab": {
          "base_uri": "https://localhost:8080/"
        },
        "id": "mAohHwEWcYrG",
        "outputId": "3c3ef768-50a1-468c-a6e3-2dce194f5819"
      },
      "execution_count": 100,
      "outputs": [
        {
          "output_type": "execute_result",
          "data": {
            "text/plain": [
              "[0.2277088768265767, 0.3281211931751068]"
            ]
          },
          "metadata": {},
          "execution_count": 100
        }
      ]
    },
    {
      "cell_type": "code",
      "source": [
        "d_hidden_bias = np.sum(result_delta * dense.bias[1])\n",
        "d_hidden_bias"
      ],
      "metadata": {
        "colab": {
          "base_uri": "https://localhost:8080/",
          "height": 37
        },
        "id": "2k9Jela2aTt9",
        "outputId": "df480544-d95f-40f3-bd2a-f1ef51aef878"
      },
      "execution_count": 106,
      "outputs": [
        {
          "output_type": "execute_result",
          "data": {
            "text/plain": [
              "-2.42659501616602"
            ],
            "text/latex": "$\\displaystyle -2.42659501616602$"
          },
          "metadata": {},
          "execution_count": 106
        }
      ]
    },
    {
      "cell_type": "code",
      "source": [
        "hidden_delta"
      ],
      "metadata": {
        "colab": {
          "base_uri": "https://localhost:8080/"
        },
        "id": "sCE3LMiFdKFX",
        "outputId": "e05dd756-a0ec-4310-9abb-de92d9b72cd1"
      },
      "execution_count": 108,
      "outputs": [
        {
          "output_type": "execute_result",
          "data": {
            "text/plain": [
              "array([[-1.07697482772767],\n",
              "       [-0.667383582276225],\n",
              "       [-1.12013139364189]], dtype=object)"
            ]
          },
          "metadata": {},
          "execution_count": 108
        }
      ]
    },
    {
      "cell_type": "code",
      "source": [
        "d_input_bias = np.sum(hidden_delta * dense.bias[0])\n",
        "d_input_bias"
      ],
      "metadata": {
        "colab": {
          "base_uri": "https://localhost:8080/",
          "height": 37
        },
        "id": "QnUT06xCca_Y",
        "outputId": "b9909640-6dd8-4c05-ddcc-7ac8eb04c272"
      },
      "execution_count": 107,
      "outputs": [
        {
          "output_type": "execute_result",
          "data": {
            "text/plain": [
              "-0.652269755869364"
            ],
            "text/latex": "$\\displaystyle -0.652269755869364$"
          },
          "metadata": {},
          "execution_count": 107
        }
      ]
    },
    {
      "cell_type": "code",
      "source": [],
      "metadata": {
        "id": "DlKjHKAqdI7j"
      },
      "execution_count": null,
      "outputs": []
    }
  ]
}