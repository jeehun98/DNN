{
  "nbformat": 4,
  "nbformat_minor": 0,
  "metadata": {
    "colab": {
      "provenance": []
    },
    "kernelspec": {
      "name": "python3",
      "display_name": "Python 3"
    },
    "language_info": {
      "name": "python"
    },
    "accelerator": "GPU",
    "gpuClass": "standard"
  },
  "cells": [
    {
      "cell_type": "code",
      "execution_count": 322,
      "metadata": {
        "id": "VV1YFBuM-x-u"
      },
      "outputs": [],
      "source": [
        "import numpy as np"
      ]
    },
    {
      "cell_type": "markdown",
      "source": [
        "입력값과 임의의 타겟값의 지정"
      ],
      "metadata": {
        "id": "nPGhJkoLA7AR"
      }
    },
    {
      "cell_type": "code",
      "source": [
        "data = np.array(([1],[2],[3]))\n",
        "data"
      ],
      "metadata": {
        "colab": {
          "base_uri": "https://localhost:8080/"
        },
        "id": "qTjBHhDL_IVo",
        "outputId": "a0d1625a-8bfc-4773-e000-96fa7a4a7434"
      },
      "execution_count": 323,
      "outputs": [
        {
          "output_type": "execute_result",
          "data": {
            "text/plain": [
              "array([[1],\n",
              "       [2],\n",
              "       [3]])"
            ]
          },
          "metadata": {},
          "execution_count": 323
        }
      ]
    },
    {
      "cell_type": "code",
      "source": [
        "target = np.array(([0.5],[0.1]))\n",
        "target"
      ],
      "metadata": {
        "colab": {
          "base_uri": "https://localhost:8080/"
        },
        "id": "U0irQbth_pG3",
        "outputId": "dc0e92c7-6084-4552-f609-2e67390df287"
      },
      "execution_count": 324,
      "outputs": [
        {
          "output_type": "execute_result",
          "data": {
            "text/plain": [
              "array([[0.5],\n",
              "       [0.1]])"
            ]
          },
          "metadata": {},
          "execution_count": 324
        }
      ]
    },
    {
      "cell_type": "markdown",
      "source": [
        "임의의 가중치 지정"
      ],
      "metadata": {
        "id": "zCuqhvEMA96W"
      }
    },
    {
      "cell_type": "code",
      "source": [
        "w1 = [[[0.1, 0.2], [0.3, 0.4], [0.5, 0.6]]]\n",
        "w1"
      ],
      "metadata": {
        "colab": {
          "base_uri": "https://localhost:8080/"
        },
        "id": "4B9m38nKqHOK",
        "outputId": "6e58e0b0-94b4-4dac-a1f3-4bb637ae8f8d"
      },
      "execution_count": 325,
      "outputs": [
        {
          "output_type": "execute_result",
          "data": {
            "text/plain": [
              "[[[0.1, 0.2], [0.3, 0.4], [0.5, 0.6]]]"
            ]
          },
          "metadata": {},
          "execution_count": 325
        }
      ]
    },
    {
      "cell_type": "code",
      "source": [
        "w2 = [[0.7, 0.8], [0.9, 0.1]]\n",
        "w2"
      ],
      "metadata": {
        "colab": {
          "base_uri": "https://localhost:8080/"
        },
        "id": "rn03Ulw_qXrI",
        "outputId": "ea9cf4ff-08b5-498f-8550-b197cbe23b6c"
      },
      "execution_count": 326,
      "outputs": [
        {
          "output_type": "execute_result",
          "data": {
            "text/plain": [
              "[[0.7, 0.8], [0.9, 0.1]]"
            ]
          },
          "metadata": {},
          "execution_count": 326
        }
      ]
    },
    {
      "cell_type": "code",
      "source": [
        "w1.append(w2)\n",
        "w1"
      ],
      "metadata": {
        "colab": {
          "base_uri": "https://localhost:8080/"
        },
        "id": "zrkt0XvPqRHq",
        "outputId": "96e0f215-98e0-4099-fde2-6758ae3c9212"
      },
      "execution_count": 327,
      "outputs": [
        {
          "output_type": "execute_result",
          "data": {
            "text/plain": [
              "[[[0.1, 0.2], [0.3, 0.4], [0.5, 0.6]], [[0.7, 0.8], [0.9, 0.1]]]"
            ]
          },
          "metadata": {},
          "execution_count": 327
        }
      ]
    },
    {
      "cell_type": "code",
      "source": [
        "w = w1\n",
        "w"
      ],
      "metadata": {
        "colab": {
          "base_uri": "https://localhost:8080/"
        },
        "id": "B69v13USsQQM",
        "outputId": "2f37074e-b74a-44e9-e296-2d7b13fab6bc"
      },
      "execution_count": 328,
      "outputs": [
        {
          "output_type": "execute_result",
          "data": {
            "text/plain": [
              "[[[0.1, 0.2], [0.3, 0.4], [0.5, 0.6]], [[0.7, 0.8], [0.9, 0.1]]]"
            ]
          },
          "metadata": {},
          "execution_count": 328
        }
      ]
    },
    {
      "cell_type": "code",
      "source": [
        "w[0]"
      ],
      "metadata": {
        "colab": {
          "base_uri": "https://localhost:8080/"
        },
        "id": "ztSPGCvhuMvd",
        "outputId": "cba2f42c-12f3-4c6b-e9bd-2a74751c8410"
      },
      "execution_count": 329,
      "outputs": [
        {
          "output_type": "execute_result",
          "data": {
            "text/plain": [
              "[[0.1, 0.2], [0.3, 0.4], [0.5, 0.6]]"
            ]
          },
          "metadata": {},
          "execution_count": 329
        }
      ]
    },
    {
      "cell_type": "code",
      "source": [
        "w[1]"
      ],
      "metadata": {
        "colab": {
          "base_uri": "https://localhost:8080/"
        },
        "id": "pz1-xi1TovnN",
        "outputId": "ff228c95-c1da-4ecd-99e5-aab18ed3b6e2"
      },
      "execution_count": 330,
      "outputs": [
        {
          "output_type": "execute_result",
          "data": {
            "text/plain": [
              "[[0.7, 0.8], [0.9, 0.1]]"
            ]
          },
          "metadata": {},
          "execution_count": 330
        }
      ]
    },
    {
      "cell_type": "code",
      "source": [
        "w[0][0]"
      ],
      "metadata": {
        "colab": {
          "base_uri": "https://localhost:8080/"
        },
        "id": "fp2K1d-7uRHv",
        "outputId": "a93ceff4-d8c9-4c42-fb50-6f5a0fb10f44"
      },
      "execution_count": 331,
      "outputs": [
        {
          "output_type": "execute_result",
          "data": {
            "text/plain": [
              "[0.1, 0.2]"
            ]
          },
          "metadata": {},
          "execution_count": 331
        }
      ]
    },
    {
      "cell_type": "code",
      "source": [
        "w[0][0][0]"
      ],
      "metadata": {
        "colab": {
          "base_uri": "https://localhost:8080/"
        },
        "id": "3YWR9gU3ughA",
        "outputId": "5425ca80-e718-4965-c62d-05af22d19bee"
      },
      "execution_count": 332,
      "outputs": [
        {
          "output_type": "execute_result",
          "data": {
            "text/plain": [
              "0.1"
            ]
          },
          "metadata": {},
          "execution_count": 332
        }
      ]
    },
    {
      "cell_type": "code",
      "source": [
        "b = [[[0.5]],[[0.3]]]\n",
        "b"
      ],
      "metadata": {
        "colab": {
          "base_uri": "https://localhost:8080/"
        },
        "id": "tT8IVfoO0vt_",
        "outputId": "66b40750-4315-41f3-fad6-83fa0801df8d"
      },
      "execution_count": 333,
      "outputs": [
        {
          "output_type": "execute_result",
          "data": {
            "text/plain": [
              "[[[0.5]], [[0.3]]]"
            ]
          },
          "metadata": {},
          "execution_count": 333
        }
      ]
    },
    {
      "cell_type": "code",
      "source": [
        "b[1]"
      ],
      "metadata": {
        "colab": {
          "base_uri": "https://localhost:8080/"
        },
        "id": "VOLPmdDA01aa",
        "outputId": "45162840-bb89-49c9-94ad-da49b554a667"
      },
      "execution_count": 334,
      "outputs": [
        {
          "output_type": "execute_result",
          "data": {
            "text/plain": [
              "[[0.3]]"
            ]
          },
          "metadata": {},
          "execution_count": 334
        }
      ]
    },
    {
      "cell_type": "code",
      "source": [
        "b[0][0]"
      ],
      "metadata": {
        "colab": {
          "base_uri": "https://localhost:8080/"
        },
        "id": "PpCkueKz03MK",
        "outputId": "359775b2-eea1-48c6-be64-a5584ec188e2"
      },
      "execution_count": 335,
      "outputs": [
        {
          "output_type": "execute_result",
          "data": {
            "text/plain": [
              "[0.5]"
            ]
          },
          "metadata": {},
          "execution_count": 335
        }
      ]
    },
    {
      "cell_type": "code",
      "source": [
        "b[0][0][0]"
      ],
      "metadata": {
        "colab": {
          "base_uri": "https://localhost:8080/"
        },
        "id": "nIYNnwrG05Co",
        "outputId": "144e6722-199d-4031-f665-f00e3c52cf69"
      },
      "execution_count": 336,
      "outputs": [
        {
          "output_type": "execute_result",
          "data": {
            "text/plain": [
              "0.5"
            ]
          },
          "metadata": {},
          "execution_count": 336
        }
      ]
    },
    {
      "cell_type": "markdown",
      "source": [
        "순전파의 계산 과정 - 은닉층 입력"
      ],
      "metadata": {
        "id": "cWwZ8du4B_-_"
      }
    },
    {
      "cell_type": "code",
      "source": [
        "w_array = np.array(w[0])\n",
        "w_array"
      ],
      "metadata": {
        "colab": {
          "base_uri": "https://localhost:8080/"
        },
        "id": "OKM-4XUm3KH8",
        "outputId": "241312f8-3080-4b75-b93a-86cfb1056226"
      },
      "execution_count": 337,
      "outputs": [
        {
          "output_type": "execute_result",
          "data": {
            "text/plain": [
              "array([[0.1, 0.2],\n",
              "       [0.3, 0.4],\n",
              "       [0.5, 0.6]])"
            ]
          },
          "metadata": {},
          "execution_count": 337
        }
      ]
    },
    {
      "cell_type": "code",
      "source": [
        "hidden_input1 = w_array.T @ data + b[0][0][0]\n",
        "hidden_input1"
      ],
      "metadata": {
        "id": "-0UFQdxAB61c",
        "colab": {
          "base_uri": "https://localhost:8080/"
        },
        "outputId": "64e483e7-be87-45a0-8db2-a685bf827284"
      },
      "execution_count": 338,
      "outputs": [
        {
          "output_type": "execute_result",
          "data": {
            "text/plain": [
              "array([[2.7],\n",
              "       [3.3]])"
            ]
          },
          "metadata": {},
          "execution_count": 338
        }
      ]
    },
    {
      "cell_type": "markdown",
      "source": [
        "순전파의 계산 과정 - 은닉층 출력(활성화 함수 연산-시그모이드 함수)"
      ],
      "metadata": {
        "id": "S5XQsZYWDzqX"
      }
    },
    {
      "cell_type": "code",
      "source": [
        "class activation:\n",
        "  def sigmoid(self, x):\n",
        "    return 1 / (1+np.e**-x)\n",
        "  \n",
        "  def sigmoid_diff(self, x):\n",
        "  # 활성화 함수의 계산 값이 예측값이다.\n",
        "    return x * (1 - x)"
      ],
      "metadata": {
        "id": "C8SHQyA52CP4"
      },
      "execution_count": 339,
      "outputs": []
    },
    {
      "cell_type": "code",
      "source": [
        "def forward_cal(input, w, b):\n",
        "  activation1 = activation()\n",
        "  hidden_output = input\n",
        "  hidden_output_array = []\n",
        "  hidden_output_array.append(hidden_output)\n",
        "  \n",
        "  for i in range(len(w)):\n",
        "    w_numpy_array = np.array(w[i])\n",
        "    hidden_input = w_numpy_array.T @ hidden_output + b[i][0][0]\n",
        "    hidden_output = activation1.sigmoid(hidden_input)\n",
        "    hidden_output_array.append(hidden_output)\n",
        "\n",
        "  predict = hidden_output\n",
        "\n",
        "  return predict, hidden_output_array"
      ],
      "metadata": {
        "id": "UKQDydu9lhhh"
      },
      "execution_count": 340,
      "outputs": []
    },
    {
      "cell_type": "code",
      "source": [
        "predict, hidden_output_array = forward_cal(data, w, b)\n",
        "predict"
      ],
      "metadata": {
        "colab": {
          "base_uri": "https://localhost:8080/"
        },
        "id": "j8B_VjsSmNmy",
        "outputId": "0a74daae-387a-4f0d-f860-59f9c0aaeb15"
      },
      "execution_count": 341,
      "outputs": [
        {
          "output_type": "execute_result",
          "data": {
            "text/plain": [
              "array([[0.86103399],\n",
              "       [0.75879129]])"
            ]
          },
          "metadata": {},
          "execution_count": 341
        }
      ]
    },
    {
      "cell_type": "code",
      "source": [
        "hidden_output_array"
      ],
      "metadata": {
        "colab": {
          "base_uri": "https://localhost:8080/"
        },
        "id": "LcOjHwnnzqYp",
        "outputId": "f156b9f8-befd-4692-c94a-a3ab2883cd83"
      },
      "execution_count": 342,
      "outputs": [
        {
          "output_type": "execute_result",
          "data": {
            "text/plain": [
              "[array([[1],\n",
              "        [2],\n",
              "        [3]]), array([[0.93702664],\n",
              "        [0.96442881]]), array([[0.86103399],\n",
              "        [0.75879129]])]"
            ]
          },
          "metadata": {},
          "execution_count": 342
        }
      ]
    },
    {
      "cell_type": "code",
      "source": [
        "hidden_output_array[0]"
      ],
      "metadata": {
        "colab": {
          "base_uri": "https://localhost:8080/"
        },
        "id": "t54cIq2lzvKJ",
        "outputId": "dc20777e-ede0-4fe9-a887-b57ba1e6be8b"
      },
      "execution_count": 343,
      "outputs": [
        {
          "output_type": "execute_result",
          "data": {
            "text/plain": [
              "array([[1],\n",
              "       [2],\n",
              "       [3]])"
            ]
          },
          "metadata": {},
          "execution_count": 343
        }
      ]
    },
    {
      "cell_type": "code",
      "source": [
        "hidden_output_array[1]"
      ],
      "metadata": {
        "colab": {
          "base_uri": "https://localhost:8080/"
        },
        "id": "qRHVSL8czxzh",
        "outputId": "55466372-7bda-4307-999e-06830dcbf106"
      },
      "execution_count": 344,
      "outputs": [
        {
          "output_type": "execute_result",
          "data": {
            "text/plain": [
              "array([[0.93702664],\n",
              "       [0.96442881]])"
            ]
          },
          "metadata": {},
          "execution_count": 344
        }
      ]
    },
    {
      "cell_type": "markdown",
      "source": [
        "비용함수의 정의(오차 제곱합)"
      ],
      "metadata": {
        "id": "WIfKUd-vwr3c"
      }
    },
    {
      "cell_type": "code",
      "source": [
        "target"
      ],
      "metadata": {
        "id": "jhrwTXT6TV8n",
        "colab": {
          "base_uri": "https://localhost:8080/"
        },
        "outputId": "0283ec03-7e85-4293-8d28-496c27cf6213"
      },
      "execution_count": 345,
      "outputs": [
        {
          "output_type": "execute_result",
          "data": {
            "text/plain": [
              "array([[0.5],\n",
              "       [0.1]])"
            ]
          },
          "metadata": {},
          "execution_count": 345
        }
      ]
    },
    {
      "cell_type": "code",
      "source": [
        "predict"
      ],
      "metadata": {
        "id": "5IpH0TytTX7t",
        "colab": {
          "base_uri": "https://localhost:8080/"
        },
        "outputId": "218e8d1d-89f9-478e-88e9-32f44f0863ae"
      },
      "execution_count": 346,
      "outputs": [
        {
          "output_type": "execute_result",
          "data": {
            "text/plain": [
              "array([[0.86103399],\n",
              "       [0.75879129]])"
            ]
          },
          "metadata": {},
          "execution_count": 346
        }
      ]
    },
    {
      "cell_type": "code",
      "source": [
        "class cost_function:\n",
        "  def error_squared_sum(self, predict, target):\n",
        "    return 0.5*((predict - target)**2)"
      ],
      "metadata": {
        "id": "ONuhynuSRCWD"
      },
      "execution_count": 347,
      "outputs": []
    },
    {
      "cell_type": "code",
      "source": [
        "cost_function = cost_function()"
      ],
      "metadata": {
        "id": "S1eTwoyVzeeH"
      },
      "execution_count": 348,
      "outputs": []
    },
    {
      "cell_type": "code",
      "source": [
        "cost_function.error_squared_sum(predict, target)"
      ],
      "metadata": {
        "id": "g5z9Gj2D1-jH",
        "colab": {
          "base_uri": "https://localhost:8080/"
        },
        "outputId": "6dfd0ad6-c6d0-4eb5-811c-02e6d4853beb"
      },
      "execution_count": 349,
      "outputs": [
        {
          "output_type": "execute_result",
          "data": {
            "text/plain": [
              "array([[0.06517277],\n",
              "       [0.21700298]])"
            ]
          },
          "metadata": {},
          "execution_count": 349
        }
      ]
    },
    {
      "cell_type": "markdown",
      "source": [
        "역전파 계산\n",
        "\n",
        "역전파 계산을 위해서는 미분식을 구할 수 있어야 한다. \n",
        "\n",
        "오차 함수를 정하면서 해당 함수의 미분식을 미리 알고 있으므로 미분식에 대한 함수를 미리 만들 수 있다."
      ],
      "metadata": {
        "id": "KPQAXyPaXhFX"
      }
    },
    {
      "cell_type": "markdown",
      "source": [
        "활성화 함수의 미분함수"
      ],
      "metadata": {
        "id": "CAvI-LpYr4dY"
      }
    },
    {
      "cell_type": "markdown",
      "source": [
        "오차 역전파(델타값 계산 : 노드 입력의 변화에 따른 비용 함수의 변화량)"
      ],
      "metadata": {
        "id": "5iJzkZQWZndz"
      }
    },
    {
      "cell_type": "code",
      "source": [
        "w"
      ],
      "metadata": {
        "colab": {
          "base_uri": "https://localhost:8080/"
        },
        "id": "cOnFEj7hhrQL",
        "outputId": "049baba7-ee37-4b40-e2b6-cb9bf317a37d"
      },
      "execution_count": 350,
      "outputs": [
        {
          "output_type": "execute_result",
          "data": {
            "text/plain": [
              "[[[0.1, 0.2], [0.3, 0.4], [0.5, 0.6]], [[0.7, 0.8], [0.9, 0.1]]]"
            ]
          },
          "metadata": {},
          "execution_count": 350
        }
      ]
    },
    {
      "cell_type": "code",
      "source": [
        "w = w[::-1]\n",
        "w"
      ],
      "metadata": {
        "colab": {
          "base_uri": "https://localhost:8080/"
        },
        "id": "3sIqCPYxjYEQ",
        "outputId": "b71d5aad-c3e4-4edf-eed4-07afd82d9aa2"
      },
      "execution_count": 351,
      "outputs": [
        {
          "output_type": "execute_result",
          "data": {
            "text/plain": [
              "[[[0.7, 0.8], [0.9, 0.1]], [[0.1, 0.2], [0.3, 0.4], [0.5, 0.6]]]"
            ]
          },
          "metadata": {},
          "execution_count": 351
        }
      ]
    },
    {
      "cell_type": "code",
      "source": [
        "b"
      ],
      "metadata": {
        "colab": {
          "base_uri": "https://localhost:8080/"
        },
        "id": "C0TDemVRxHwU",
        "outputId": "b680f21d-1126-4635-e049-84c0e54c35e9"
      },
      "execution_count": 352,
      "outputs": [
        {
          "output_type": "execute_result",
          "data": {
            "text/plain": [
              "[[[0.5]], [[0.3]]]"
            ]
          },
          "metadata": {},
          "execution_count": 352
        }
      ]
    },
    {
      "cell_type": "code",
      "source": [
        "b = b[::-1]\n",
        "b"
      ],
      "metadata": {
        "colab": {
          "base_uri": "https://localhost:8080/"
        },
        "id": "RDv2WmZjxIiv",
        "outputId": "cc7dfe5e-ef0d-4c74-fedd-dcb57d4458ff"
      },
      "execution_count": 353,
      "outputs": [
        {
          "output_type": "execute_result",
          "data": {
            "text/plain": [
              "[[[0.3]], [[0.5]]]"
            ]
          },
          "metadata": {},
          "execution_count": 353
        }
      ]
    },
    {
      "cell_type": "code",
      "source": [
        "hidden_output_array = hidden_output_array[::-1]\n",
        "hidden_output_array"
      ],
      "metadata": {
        "colab": {
          "base_uri": "https://localhost:8080/"
        },
        "id": "24yBMzEykGp4",
        "outputId": "36efd92d-7653-4b29-cef3-93f32cea6c01"
      },
      "execution_count": 354,
      "outputs": [
        {
          "output_type": "execute_result",
          "data": {
            "text/plain": [
              "[array([[0.86103399],\n",
              "        [0.75879129]]), array([[0.93702664],\n",
              "        [0.96442881]]), array([[1],\n",
              "        [2],\n",
              "        [3]])]"
            ]
          },
          "metadata": {},
          "execution_count": 354
        }
      ]
    },
    {
      "cell_type": "code",
      "source": [
        "def cal_delta(target, predict, w, hidden_output_array):\n",
        "  activation1 = activation()\n",
        "  delta = ((predict - target) * activation1.sigmoid_diff(predict).tolist())\n",
        "  delta_array = []\n",
        "  delta_array.append(delta.tolist())\n",
        "  \n",
        "  # 출력층 이전의 층들에 대한 delta 값을 계산한다.\n",
        "  for i in range(len(w) - 1):\n",
        "    delta = (np.array(delta_array[i]).T @ np.array(w[0]).T).T * activation1.sigmoid_diff(np.array(hidden_output_array[1+i]))\n",
        "    delta_array.append(delta.tolist())\n",
        "  return delta_array"
      ],
      "metadata": {
        "id": "wdKSKg1Xe_QJ"
      },
      "execution_count": 355,
      "outputs": []
    },
    {
      "cell_type": "code",
      "source": [
        "delta_array = cal_delta(target, predict, w, hidden_output_array)\n",
        "delta_array"
      ],
      "metadata": {
        "colab": {
          "base_uri": "https://localhost:8080/"
        },
        "id": "ebSlR9L_kFNb",
        "outputId": "d9c67a35-7bce-4445-b28c-808c3f33c4a1"
      },
      "execution_count": 356,
      "outputs": [
        {
          "output_type": "execute_result",
          "data": {
            "text/plain": [
              "[[[0.043199326918126744], [0.1205766380251159]],\n",
              " [[0.007476326694688966], [0.001747440588389323]]]"
            ]
          },
          "metadata": {},
          "execution_count": 356
        }
      ]
    },
    {
      "cell_type": "code",
      "source": [
        "hidden_output_array"
      ],
      "metadata": {
        "colab": {
          "base_uri": "https://localhost:8080/"
        },
        "id": "nNIotZGeev6e",
        "outputId": "e2b3aea0-e0b8-4540-872b-3a75b5d7a3f8"
      },
      "execution_count": 357,
      "outputs": [
        {
          "output_type": "execute_result",
          "data": {
            "text/plain": [
              "[array([[0.86103399],\n",
              "        [0.75879129]]), array([[0.93702664],\n",
              "        [0.96442881]]), array([[1],\n",
              "        [2],\n",
              "        [3]])]"
            ]
          },
          "metadata": {},
          "execution_count": 357
        }
      ]
    },
    {
      "cell_type": "code",
      "source": [
        "delta_array[0]"
      ],
      "metadata": {
        "colab": {
          "base_uri": "https://localhost:8080/"
        },
        "id": "PioLH7Iooe8S",
        "outputId": "5d7b2c21-a49f-47d5-b5c5-8f1b531d95ea"
      },
      "execution_count": 358,
      "outputs": [
        {
          "output_type": "execute_result",
          "data": {
            "text/plain": [
              "[[0.043199326918126744], [0.1205766380251159]]"
            ]
          },
          "metadata": {},
          "execution_count": 358
        }
      ]
    },
    {
      "cell_type": "code",
      "source": [
        "np.array(delta_array[0]).shape"
      ],
      "metadata": {
        "colab": {
          "base_uri": "https://localhost:8080/"
        },
        "id": "xf7Lg0ERosHv",
        "outputId": "cb66d73c-e530-42a5-be48-3a3afd87ceef"
      },
      "execution_count": 359,
      "outputs": [
        {
          "output_type": "execute_result",
          "data": {
            "text/plain": [
              "(2, 1)"
            ]
          },
          "metadata": {},
          "execution_count": 359
        }
      ]
    },
    {
      "cell_type": "markdown",
      "source": [
        "해당 델타값은 출력층의 각 노드들의 입력값의 변화량에 따른 오차 함수의 변화량이다."
      ],
      "metadata": {
        "id": "61ovAlaKa0IG"
      }
    },
    {
      "cell_type": "markdown",
      "source": [
        "델타값을 통해 가중치 변화량에 따른 오차함수의 변화량을 구할 수 있다."
      ],
      "metadata": {
        "id": "ibcQiyc8bDSu"
      }
    },
    {
      "cell_type": "markdown",
      "source": [
        "가중치 변화에 따른 오차함수의 변화량은 이전 노드의 출력값이다."
      ],
      "metadata": {
        "id": "HN7hGyDKbOPD"
      }
    },
    {
      "cell_type": "code",
      "source": [
        "def cal_w_update(delta_array, hidden_output_array, b):\n",
        "  w_diff = []\n",
        "  b_diff = []\n",
        "  for i in range(len(delta_array)):\n",
        "    w_diff_list = (np.array(delta_array[i]) @ np.array(hidden_output_array[i+1]).T).tolist()\n",
        "    w_diff.append(w_diff_list)\n",
        "\n",
        "    b_diff_list = np.sum(np.array(delta_array[i]) * np.array(b[i]))\n",
        "    b_diff.append(b_diff_list)\n",
        "  \n",
        "  return w_diff, b_diff"
      ],
      "metadata": {
        "id": "b1fv5YpbrqK4"
      },
      "execution_count": 373,
      "outputs": []
    },
    {
      "cell_type": "code",
      "source": [
        "w_diff, b_diff = cal_w_update(delta_array, hidden_output_array, b)"
      ],
      "metadata": {
        "id": "WLXd6gyct8fB"
      },
      "execution_count": 374,
      "outputs": []
    },
    {
      "cell_type": "code",
      "source": [
        "w_diff"
      ],
      "metadata": {
        "colab": {
          "base_uri": "https://localhost:8080/"
        },
        "id": "wuXWc6lQxA7T",
        "outputId": "c6dd34ad-2fac-41eb-d8c8-7834e75f87a4"
      },
      "execution_count": 375,
      "outputs": [
        {
          "output_type": "execute_result",
          "data": {
            "text/plain": [
              "[[[0.040478920322688954, 0.04166267548387157],\n",
              "  [0.11298352246660469, 0.11628758361206636]],\n",
              " [[0.007476326694688966, 0.014952653389377932, 0.0224289800840669],\n",
              "  [0.001747440588389323, 0.003494881176778646, 0.005242321765167969]]]"
            ]
          },
          "metadata": {},
          "execution_count": 375
        }
      ]
    },
    {
      "cell_type": "code",
      "source": [
        "b_diff"
      ],
      "metadata": {
        "colab": {
          "base_uri": "https://localhost:8080/"
        },
        "id": "e-Iuaf7VxTEn",
        "outputId": "bf2e877e-2dda-4c53-f631-6c902c5d2f26"
      },
      "execution_count": 376,
      "outputs": [
        {
          "output_type": "execute_result",
          "data": {
            "text/plain": [
              "[0.04913278948297279, 0.0046118836415391445]"
            ]
          },
          "metadata": {},
          "execution_count": 376
        }
      ]
    },
    {
      "cell_type": "markdown",
      "source": [
        "은닉층-출력층 사이 가중치 변화량에 따른 오차 함수의 변화량을 구할 수 있었다."
      ],
      "metadata": {
        "id": "hBnFYUXhdSIX"
      }
    },
    {
      "cell_type": "markdown",
      "source": [
        "delta 값을 이용하여 입력-은닉층까지의 가중치 변화량에 따른 오차 함수의 변화량을 계산한다."
      ],
      "metadata": {
        "id": "lBxph0DYdYgq"
      }
    },
    {
      "cell_type": "markdown",
      "source": [
        "각 은닉노드의 출력에 대한 오차 함수의 변화량을 계산하기 위해서는 delta 값에 노드 입력에 대한 변화량을 곱해준다."
      ],
      "metadata": {
        "id": "pDVtdaTidujo"
      }
    },
    {
      "cell_type": "markdown",
      "source": [
        "이는 각 은닉노드 출력의 변화에 따른 오차 함수의 변화량이다."
      ],
      "metadata": {
        "id": "g89ZZzlPemtX"
      }
    },
    {
      "cell_type": "markdown",
      "source": [
        "은닉노드의 입력의 변화에 따른 오차 함수의 변화량, 즉 delta1 을 계산한다."
      ],
      "metadata": {
        "id": "8Tk1lRCwfaRE"
      }
    },
    {
      "cell_type": "markdown",
      "source": [
        "이후 동일하게 은닉 노드의 입력, 즉 데이터값을 통해 입력-은닉 노드의 가중치 변화량에 대한 오차 함수의 변화량을 계산한다."
      ],
      "metadata": {
        "id": "TXDBw29VgHGx"
      }
    },
    {
      "cell_type": "code",
      "source": [
        "w_diff = w_diff[::-1]\n",
        "w_diff"
      ],
      "metadata": {
        "id": "V_1G1mNsIMpM",
        "colab": {
          "base_uri": "https://localhost:8080/"
        },
        "outputId": "5ff3fb4c-49eb-476a-d1d0-7a877ffa552a"
      },
      "execution_count": 377,
      "outputs": [
        {
          "output_type": "execute_result",
          "data": {
            "text/plain": [
              "[[[0.007476326694688966, 0.014952653389377932, 0.0224289800840669],\n",
              "  [0.001747440588389323, 0.003494881176778646, 0.005242321765167969]],\n",
              " [[0.040478920322688954, 0.04166267548387157],\n",
              "  [0.11298352246660469, 0.11628758361206636]]]"
            ]
          },
          "metadata": {},
          "execution_count": 377
        }
      ]
    },
    {
      "cell_type": "code",
      "source": [
        "b_diff = b_diff[::-1]\n",
        "b_diff"
      ],
      "metadata": {
        "colab": {
          "base_uri": "https://localhost:8080/"
        },
        "id": "JZ5ZVy0Q1_ql",
        "outputId": "a90ae499-b277-4433-da4d-2b5fdd0b8fa6"
      },
      "execution_count": 378,
      "outputs": [
        {
          "output_type": "execute_result",
          "data": {
            "text/plain": [
              "[0.0046118836415391445, 0.04913278948297279]"
            ]
          },
          "metadata": {},
          "execution_count": 378
        }
      ]
    },
    {
      "cell_type": "code",
      "source": [
        "w = w[::-1]\n",
        "w"
      ],
      "metadata": {
        "colab": {
          "base_uri": "https://localhost:8080/"
        },
        "id": "lG_gq6dF2bej",
        "outputId": "3b6e1ad4-c804-4ada-e461-506116f8e8ef"
      },
      "execution_count": 384,
      "outputs": [
        {
          "output_type": "execute_result",
          "data": {
            "text/plain": [
              "[[[0.1, 0.2], [0.3, 0.4], [0.5, 0.6]], [[0.7, 0.8], [0.9, 0.1]]]"
            ]
          },
          "metadata": {},
          "execution_count": 384
        }
      ]
    },
    {
      "cell_type": "code",
      "source": [
        "b = b[::-1]\n",
        "b"
      ],
      "metadata": {
        "colab": {
          "base_uri": "https://localhost:8080/"
        },
        "id": "9i6duVhA2hLh",
        "outputId": "9191e35a-090a-4213-cd62-e5ee4a5e9c47"
      },
      "execution_count": 386,
      "outputs": [
        {
          "output_type": "execute_result",
          "data": {
            "text/plain": [
              "[[[0.5]], [[0.3]]]"
            ]
          },
          "metadata": {},
          "execution_count": 386
        }
      ]
    },
    {
      "cell_type": "code",
      "source": [],
      "metadata": {
        "colab": {
          "base_uri": "https://localhost:8080/",
          "height": 230
        },
        "id": "w9CcSfPC2X54",
        "outputId": "3893e5e9-0eed-4fb0-8958-ec76d8ca253c"
      },
      "execution_count": 387,
      "outputs": [
        {
          "output_type": "error",
          "ename": "TypeError",
          "evalue": "ignored",
          "traceback": [
            "\u001b[0;31m---------------------------------------------------------------------------\u001b[0m",
            "\u001b[0;31mTypeError\u001b[0m                                 Traceback (most recent call last)",
            "\u001b[0;32m<ipython-input-387-a30d35355c99>\u001b[0m in \u001b[0;36m<module>\u001b[0;34m\u001b[0m\n\u001b[0;32m----> 1\u001b[0;31m \u001b[0mprint\u001b[0m\u001b[0;34m(\u001b[0m\u001b[0;34m[\u001b[0m\u001b[0mwi\u001b[0m \u001b[0;34m-\u001b[0m \u001b[0mw_diffi\u001b[0m \u001b[0;32mfor\u001b[0m \u001b[0mwi\u001b[0m\u001b[0;34m,\u001b[0m \u001b[0mw_diffi\u001b[0m \u001b[0;32min\u001b[0m \u001b[0mzip\u001b[0m\u001b[0;34m(\u001b[0m\u001b[0mw\u001b[0m\u001b[0;34m,\u001b[0m \u001b[0mw_diff\u001b[0m\u001b[0;34m)\u001b[0m\u001b[0;34m]\u001b[0m\u001b[0;34m)\u001b[0m\u001b[0;34m\u001b[0m\u001b[0;34m\u001b[0m\u001b[0m\n\u001b[0m",
            "\u001b[0;32m<ipython-input-387-a30d35355c99>\u001b[0m in \u001b[0;36m<listcomp>\u001b[0;34m(.0)\u001b[0m\n\u001b[0;32m----> 1\u001b[0;31m \u001b[0mprint\u001b[0m\u001b[0;34m(\u001b[0m\u001b[0;34m[\u001b[0m\u001b[0mwi\u001b[0m \u001b[0;34m-\u001b[0m \u001b[0mw_diffi\u001b[0m \u001b[0;32mfor\u001b[0m \u001b[0mwi\u001b[0m\u001b[0;34m,\u001b[0m \u001b[0mw_diffi\u001b[0m \u001b[0;32min\u001b[0m \u001b[0mzip\u001b[0m\u001b[0;34m(\u001b[0m\u001b[0mw\u001b[0m\u001b[0;34m,\u001b[0m \u001b[0mw_diff\u001b[0m\u001b[0;34m)\u001b[0m\u001b[0;34m]\u001b[0m\u001b[0;34m)\u001b[0m\u001b[0;34m\u001b[0m\u001b[0;34m\u001b[0m\u001b[0m\n\u001b[0m",
            "\u001b[0;31mTypeError\u001b[0m: unsupported operand type(s) for -: 'list' and 'list'"
          ]
        }
      ]
    },
    {
      "cell_type": "code",
      "source": [],
      "metadata": {
        "id": "r14hW8v02ZVi"
      },
      "execution_count": null,
      "outputs": []
    }
  ]
}