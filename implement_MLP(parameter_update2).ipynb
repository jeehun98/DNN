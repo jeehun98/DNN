{
  "nbformat": 4,
  "nbformat_minor": 0,
  "metadata": {
    "colab": {
      "provenance": []
    },
    "kernelspec": {
      "name": "python3",
      "display_name": "Python 3"
    },
    "language_info": {
      "name": "python"
    }
  },
  "cells": [
    {
      "cell_type": "code",
      "execution_count": 111,
      "metadata": {
        "id": "GsvYoHfOkeT1"
      },
      "outputs": [],
      "source": []
    },
    {
      "cell_type": "code",
      "execution_count": 112,
      "metadata": {
        "id": "VV1YFBuM-x-u"
      },
      "outputs": [],
      "source": [
        "import numpy as np"
      ]
    },
    {
      "cell_type": "markdown",
      "source": [
        "입력값과 임의의 타겟값의 지정"
      ],
      "metadata": {
        "id": "nPGhJkoLA7AR"
      }
    },
    {
      "cell_type": "code",
      "source": [
        "data = np.array(([1],[2],[3]))\n",
        "data"
      ],
      "metadata": {
        "colab": {
          "base_uri": "https://localhost:8080/"
        },
        "id": "qTjBHhDL_IVo",
        "outputId": "1e1545ef-415e-429e-af3c-9abd1ca1cddb"
      },
      "execution_count": 113,
      "outputs": [
        {
          "output_type": "execute_result",
          "data": {
            "text/plain": [
              "array([[1],\n",
              "       [2],\n",
              "       [3]])"
            ]
          },
          "metadata": {},
          "execution_count": 113
        }
      ]
    },
    {
      "cell_type": "code",
      "source": [
        "target = np.array(([0.5],[0.1]))\n",
        "target"
      ],
      "metadata": {
        "colab": {
          "base_uri": "https://localhost:8080/"
        },
        "id": "U0irQbth_pG3",
        "outputId": "6e280f23-b420-489a-a18d-c97bb9c41b9e"
      },
      "execution_count": 114,
      "outputs": [
        {
          "output_type": "execute_result",
          "data": {
            "text/plain": [
              "array([[0.5],\n",
              "       [0.1]])"
            ]
          },
          "metadata": {},
          "execution_count": 114
        }
      ]
    },
    {
      "cell_type": "markdown",
      "source": [
        "임의의 가중치 지정"
      ],
      "metadata": {
        "id": "zCuqhvEMA96W"
      }
    },
    {
      "cell_type": "code",
      "source": [
        "w1 = [[[0.1, 0.2], [0.3, 0.4], [0.5, 0.6]]]\n",
        "w1"
      ],
      "metadata": {
        "colab": {
          "base_uri": "https://localhost:8080/"
        },
        "id": "4B9m38nKqHOK",
        "outputId": "6ae97ee2-19e6-4672-f9d6-ed780b0d62a2"
      },
      "execution_count": 115,
      "outputs": [
        {
          "output_type": "execute_result",
          "data": {
            "text/plain": [
              "[[[0.1, 0.2], [0.3, 0.4], [0.5, 0.6]]]"
            ]
          },
          "metadata": {},
          "execution_count": 115
        }
      ]
    },
    {
      "cell_type": "code",
      "source": [
        "w2 = [[0.7, 0.8], [0.9, 0.1]]\n",
        "w2"
      ],
      "metadata": {
        "colab": {
          "base_uri": "https://localhost:8080/"
        },
        "id": "rn03Ulw_qXrI",
        "outputId": "1f6c1d2d-96f5-4e6f-c9d9-ee0e3138a070"
      },
      "execution_count": 116,
      "outputs": [
        {
          "output_type": "execute_result",
          "data": {
            "text/plain": [
              "[[0.7, 0.8], [0.9, 0.1]]"
            ]
          },
          "metadata": {},
          "execution_count": 116
        }
      ]
    },
    {
      "cell_type": "code",
      "source": [
        "w1.append(w2)\n",
        "w1"
      ],
      "metadata": {
        "colab": {
          "base_uri": "https://localhost:8080/"
        },
        "id": "zrkt0XvPqRHq",
        "outputId": "8b0577eb-340f-4149-f3db-ecd2cad887f3"
      },
      "execution_count": 117,
      "outputs": [
        {
          "output_type": "execute_result",
          "data": {
            "text/plain": [
              "[[[0.1, 0.2], [0.3, 0.4], [0.5, 0.6]], [[0.7, 0.8], [0.9, 0.1]]]"
            ]
          },
          "metadata": {},
          "execution_count": 117
        }
      ]
    },
    {
      "cell_type": "code",
      "source": [
        "w = w1\n",
        "w"
      ],
      "metadata": {
        "colab": {
          "base_uri": "https://localhost:8080/"
        },
        "id": "B69v13USsQQM",
        "outputId": "d96f5d58-e476-4f23-d9ff-6cd5091e417b"
      },
      "execution_count": 118,
      "outputs": [
        {
          "output_type": "execute_result",
          "data": {
            "text/plain": [
              "[[[0.1, 0.2], [0.3, 0.4], [0.5, 0.6]], [[0.7, 0.8], [0.9, 0.1]]]"
            ]
          },
          "metadata": {},
          "execution_count": 118
        }
      ]
    },
    {
      "cell_type": "code",
      "source": [
        "w[0]"
      ],
      "metadata": {
        "colab": {
          "base_uri": "https://localhost:8080/"
        },
        "id": "ztSPGCvhuMvd",
        "outputId": "ac68c676-78c5-4949-c55d-4c100849287a"
      },
      "execution_count": 119,
      "outputs": [
        {
          "output_type": "execute_result",
          "data": {
            "text/plain": [
              "[[0.1, 0.2], [0.3, 0.4], [0.5, 0.6]]"
            ]
          },
          "metadata": {},
          "execution_count": 119
        }
      ]
    },
    {
      "cell_type": "code",
      "source": [
        "w[1]"
      ],
      "metadata": {
        "colab": {
          "base_uri": "https://localhost:8080/"
        },
        "id": "pz1-xi1TovnN",
        "outputId": "f8a937b1-2610-4cfc-9795-7c8cd3af7c38"
      },
      "execution_count": 120,
      "outputs": [
        {
          "output_type": "execute_result",
          "data": {
            "text/plain": [
              "[[0.7, 0.8], [0.9, 0.1]]"
            ]
          },
          "metadata": {},
          "execution_count": 120
        }
      ]
    },
    {
      "cell_type": "code",
      "source": [
        "w[0][0]"
      ],
      "metadata": {
        "colab": {
          "base_uri": "https://localhost:8080/"
        },
        "id": "fp2K1d-7uRHv",
        "outputId": "5cd7aa9e-9769-490f-859f-2a8d9838a8b0"
      },
      "execution_count": 121,
      "outputs": [
        {
          "output_type": "execute_result",
          "data": {
            "text/plain": [
              "[0.1, 0.2]"
            ]
          },
          "metadata": {},
          "execution_count": 121
        }
      ]
    },
    {
      "cell_type": "code",
      "source": [
        "w[0][0][0]"
      ],
      "metadata": {
        "colab": {
          "base_uri": "https://localhost:8080/"
        },
        "id": "3YWR9gU3ughA",
        "outputId": "aa0b6a9f-cace-4282-96ac-b9709bff3ace"
      },
      "execution_count": 122,
      "outputs": [
        {
          "output_type": "execute_result",
          "data": {
            "text/plain": [
              "0.1"
            ]
          },
          "metadata": {},
          "execution_count": 122
        }
      ]
    },
    {
      "cell_type": "code",
      "source": [
        "b = [[0.5],[0.3]]\n",
        "b"
      ],
      "metadata": {
        "colab": {
          "base_uri": "https://localhost:8080/"
        },
        "id": "tT8IVfoO0vt_",
        "outputId": "3e272937-1a24-4832-8eef-1cae4182e4ee"
      },
      "execution_count": 123,
      "outputs": [
        {
          "output_type": "execute_result",
          "data": {
            "text/plain": [
              "[[0.5], [0.3]]"
            ]
          },
          "metadata": {},
          "execution_count": 123
        }
      ]
    },
    {
      "cell_type": "code",
      "source": [
        "b[1]"
      ],
      "metadata": {
        "colab": {
          "base_uri": "https://localhost:8080/"
        },
        "id": "VOLPmdDA01aa",
        "outputId": "3dc01f9f-7221-4adb-d967-0e2faa0a790a"
      },
      "execution_count": 124,
      "outputs": [
        {
          "output_type": "execute_result",
          "data": {
            "text/plain": [
              "[0.3]"
            ]
          },
          "metadata": {},
          "execution_count": 124
        }
      ]
    },
    {
      "cell_type": "code",
      "source": [
        "b[0][0]"
      ],
      "metadata": {
        "colab": {
          "base_uri": "https://localhost:8080/"
        },
        "id": "PpCkueKz03MK",
        "outputId": "601d6cd4-5cff-4cf8-fa24-d89bc9333465"
      },
      "execution_count": 125,
      "outputs": [
        {
          "output_type": "execute_result",
          "data": {
            "text/plain": [
              "0.5"
            ]
          },
          "metadata": {},
          "execution_count": 125
        }
      ]
    },
    {
      "cell_type": "markdown",
      "source": [
        "순전파의 계산 과정 - 은닉층 입력"
      ],
      "metadata": {
        "id": "cWwZ8du4B_-_"
      }
    },
    {
      "cell_type": "code",
      "source": [
        "w_array = np.array(w[0])\n",
        "w_array"
      ],
      "metadata": {
        "colab": {
          "base_uri": "https://localhost:8080/"
        },
        "id": "OKM-4XUm3KH8",
        "outputId": "42f411f3-4aa6-493b-c8f8-d68369cfadb6"
      },
      "execution_count": 126,
      "outputs": [
        {
          "output_type": "execute_result",
          "data": {
            "text/plain": [
              "array([[0.1, 0.2],\n",
              "       [0.3, 0.4],\n",
              "       [0.5, 0.6]])"
            ]
          },
          "metadata": {},
          "execution_count": 126
        }
      ]
    },
    {
      "cell_type": "markdown",
      "source": [
        "순전파의 계산 과정 - 은닉층 출력(활성화 함수 연산-시그모이드 함수)"
      ],
      "metadata": {
        "id": "S5XQsZYWDzqX"
      }
    },
    {
      "cell_type": "code",
      "source": [
        "class activation:\n",
        "  def sigmoid(self, x):\n",
        "    return 1 / (1+np.e**-x)\n",
        "  \n",
        "  def sigmoid_diff(self, x):\n",
        "  # 활성화 함수의 계산 값이 예측값이다.\n",
        "    return x * (1 - x)"
      ],
      "metadata": {
        "id": "C8SHQyA52CP4"
      },
      "execution_count": 127,
      "outputs": []
    },
    {
      "cell_type": "code",
      "source": [
        "def forward_cal(input, w, b):\n",
        "  activation1 = activation()\n",
        "  hidden_output = input\n",
        "  hidden_output_array = []\n",
        "  hidden_output_array.append(hidden_output)\n",
        "  \n",
        "  for i in range(len(w)):\n",
        "    w_numpy_array = np.array(w[i])\n",
        "    hidden_input = w_numpy_array.T @ hidden_output + b[i][0]\n",
        "    hidden_output = activation1.sigmoid(hidden_input)\n",
        "    hidden_output_array.append(hidden_output)\n",
        "\n",
        "  predict = hidden_output\n",
        "\n",
        "  return predict, hidden_output_array"
      ],
      "metadata": {
        "id": "UKQDydu9lhhh"
      },
      "execution_count": 128,
      "outputs": []
    },
    {
      "cell_type": "code",
      "source": [
        "predict, hidden_output_array = forward_cal(data, w, b)\n",
        "predict"
      ],
      "metadata": {
        "colab": {
          "base_uri": "https://localhost:8080/"
        },
        "id": "j8B_VjsSmNmy",
        "outputId": "2179e139-ac25-43ea-d194-9bb7eb53be6a"
      },
      "execution_count": 129,
      "outputs": [
        {
          "output_type": "execute_result",
          "data": {
            "text/plain": [
              "array([[0.86103399],\n",
              "       [0.75879129]])"
            ]
          },
          "metadata": {},
          "execution_count": 129
        }
      ]
    },
    {
      "cell_type": "code",
      "source": [
        "hidden_output_array"
      ],
      "metadata": {
        "colab": {
          "base_uri": "https://localhost:8080/"
        },
        "id": "LcOjHwnnzqYp",
        "outputId": "045534a9-b4ca-403b-865d-54c67b85b804"
      },
      "execution_count": 130,
      "outputs": [
        {
          "output_type": "execute_result",
          "data": {
            "text/plain": [
              "[array([[1],\n",
              "        [2],\n",
              "        [3]]), array([[0.93702664],\n",
              "        [0.96442881]]), array([[0.86103399],\n",
              "        [0.75879129]])]"
            ]
          },
          "metadata": {},
          "execution_count": 130
        }
      ]
    },
    {
      "cell_type": "code",
      "source": [
        "hidden_output_array[0]"
      ],
      "metadata": {
        "colab": {
          "base_uri": "https://localhost:8080/"
        },
        "id": "t54cIq2lzvKJ",
        "outputId": "59fb480b-a136-4e32-e3e4-7ce93d9291c3"
      },
      "execution_count": 131,
      "outputs": [
        {
          "output_type": "execute_result",
          "data": {
            "text/plain": [
              "array([[1],\n",
              "       [2],\n",
              "       [3]])"
            ]
          },
          "metadata": {},
          "execution_count": 131
        }
      ]
    },
    {
      "cell_type": "code",
      "source": [
        "hidden_output_array[1]"
      ],
      "metadata": {
        "colab": {
          "base_uri": "https://localhost:8080/"
        },
        "id": "qRHVSL8czxzh",
        "outputId": "308a70bb-28d1-4d17-d5ba-28425b5e396c"
      },
      "execution_count": 132,
      "outputs": [
        {
          "output_type": "execute_result",
          "data": {
            "text/plain": [
              "array([[0.93702664],\n",
              "       [0.96442881]])"
            ]
          },
          "metadata": {},
          "execution_count": 132
        }
      ]
    },
    {
      "cell_type": "markdown",
      "source": [
        "비용함수의 정의(오차 제곱합)"
      ],
      "metadata": {
        "id": "WIfKUd-vwr3c"
      }
    },
    {
      "cell_type": "code",
      "source": [
        "target"
      ],
      "metadata": {
        "id": "jhrwTXT6TV8n",
        "colab": {
          "base_uri": "https://localhost:8080/"
        },
        "outputId": "b99ed74f-784d-483a-8a00-8dc298753d34"
      },
      "execution_count": 133,
      "outputs": [
        {
          "output_type": "execute_result",
          "data": {
            "text/plain": [
              "array([[0.5],\n",
              "       [0.1]])"
            ]
          },
          "metadata": {},
          "execution_count": 133
        }
      ]
    },
    {
      "cell_type": "code",
      "source": [
        "predict"
      ],
      "metadata": {
        "id": "5IpH0TytTX7t",
        "colab": {
          "base_uri": "https://localhost:8080/"
        },
        "outputId": "d1fa81d8-fd4e-42ee-920b-ae224bc4549f"
      },
      "execution_count": 134,
      "outputs": [
        {
          "output_type": "execute_result",
          "data": {
            "text/plain": [
              "array([[0.86103399],\n",
              "       [0.75879129]])"
            ]
          },
          "metadata": {},
          "execution_count": 134
        }
      ]
    },
    {
      "cell_type": "code",
      "source": [
        "class cost_function:\n",
        "  def error_squared_sum(self, predict, target):\n",
        "    return 0.5*((predict - target)**2)"
      ],
      "metadata": {
        "id": "ONuhynuSRCWD"
      },
      "execution_count": 135,
      "outputs": []
    },
    {
      "cell_type": "code",
      "source": [
        "cost_function = cost_function()"
      ],
      "metadata": {
        "id": "S1eTwoyVzeeH"
      },
      "execution_count": 136,
      "outputs": []
    },
    {
      "cell_type": "code",
      "source": [
        "cost_function.error_squared_sum(predict, target)"
      ],
      "metadata": {
        "id": "g5z9Gj2D1-jH",
        "colab": {
          "base_uri": "https://localhost:8080/"
        },
        "outputId": "68476e6f-a397-44dc-af4d-eec3b0b5b443"
      },
      "execution_count": 137,
      "outputs": [
        {
          "output_type": "execute_result",
          "data": {
            "text/plain": [
              "array([[0.06517277],\n",
              "       [0.21700298]])"
            ]
          },
          "metadata": {},
          "execution_count": 137
        }
      ]
    },
    {
      "cell_type": "markdown",
      "source": [
        "역전파 계산\n",
        "\n",
        "역전파 계산을 위해서는 미분식을 구할 수 있어야 한다. \n",
        "\n",
        "오차 함수를 정하면서 해당 함수의 미분식을 미리 알고 있으므로 미분식에 대한 함수를 미리 만들 수 있다."
      ],
      "metadata": {
        "id": "KPQAXyPaXhFX"
      }
    },
    {
      "cell_type": "markdown",
      "source": [
        "활성화 함수의 미분함수"
      ],
      "metadata": {
        "id": "CAvI-LpYr4dY"
      }
    },
    {
      "cell_type": "markdown",
      "source": [
        "오차 역전파(델타값 계산 : 노드 입력의 변화에 따른 비용 함수의 변화량)"
      ],
      "metadata": {
        "id": "5iJzkZQWZndz"
      }
    },
    {
      "cell_type": "code",
      "source": [
        "w"
      ],
      "metadata": {
        "colab": {
          "base_uri": "https://localhost:8080/"
        },
        "id": "cOnFEj7hhrQL",
        "outputId": "033bdb7c-be87-4ecc-bb13-4a65049b0ad4"
      },
      "execution_count": 138,
      "outputs": [
        {
          "output_type": "execute_result",
          "data": {
            "text/plain": [
              "[[[0.1, 0.2], [0.3, 0.4], [0.5, 0.6]], [[0.7, 0.8], [0.9, 0.1]]]"
            ]
          },
          "metadata": {},
          "execution_count": 138
        }
      ]
    },
    {
      "cell_type": "code",
      "source": [
        "w = w[::-1]\n",
        "w"
      ],
      "metadata": {
        "colab": {
          "base_uri": "https://localhost:8080/"
        },
        "id": "3sIqCPYxjYEQ",
        "outputId": "07b69022-1106-4aa0-b082-5d60b103c04f"
      },
      "execution_count": 139,
      "outputs": [
        {
          "output_type": "execute_result",
          "data": {
            "text/plain": [
              "[[[0.7, 0.8], [0.9, 0.1]], [[0.1, 0.2], [0.3, 0.4], [0.5, 0.6]]]"
            ]
          },
          "metadata": {},
          "execution_count": 139
        }
      ]
    },
    {
      "cell_type": "code",
      "source": [
        "b"
      ],
      "metadata": {
        "colab": {
          "base_uri": "https://localhost:8080/"
        },
        "id": "C0TDemVRxHwU",
        "outputId": "6a384e1d-57c4-460c-b3f3-a79124ad1316"
      },
      "execution_count": 140,
      "outputs": [
        {
          "output_type": "execute_result",
          "data": {
            "text/plain": [
              "[[0.5], [0.3]]"
            ]
          },
          "metadata": {},
          "execution_count": 140
        }
      ]
    },
    {
      "cell_type": "code",
      "source": [
        "b = b[::-1]\n",
        "b"
      ],
      "metadata": {
        "colab": {
          "base_uri": "https://localhost:8080/"
        },
        "id": "RDv2WmZjxIiv",
        "outputId": "81097b8c-d96d-4ce3-be19-87da6c7665f2"
      },
      "execution_count": 141,
      "outputs": [
        {
          "output_type": "execute_result",
          "data": {
            "text/plain": [
              "[[0.3], [0.5]]"
            ]
          },
          "metadata": {},
          "execution_count": 141
        }
      ]
    },
    {
      "cell_type": "code",
      "source": [
        "hidden_output_array = hidden_output_array[::-1]\n",
        "hidden_output_array"
      ],
      "metadata": {
        "colab": {
          "base_uri": "https://localhost:8080/"
        },
        "id": "24yBMzEykGp4",
        "outputId": "17e2f425-e183-46a2-b6c9-273d4fb4cbf8"
      },
      "execution_count": 142,
      "outputs": [
        {
          "output_type": "execute_result",
          "data": {
            "text/plain": [
              "[array([[0.86103399],\n",
              "        [0.75879129]]), array([[0.93702664],\n",
              "        [0.96442881]]), array([[1],\n",
              "        [2],\n",
              "        [3]])]"
            ]
          },
          "metadata": {},
          "execution_count": 142
        }
      ]
    },
    {
      "cell_type": "code",
      "source": [
        "def cal_delta(target, predict, w, hidden_output_array):\n",
        "  activation1 = activation()\n",
        "  delta = ((predict - target) * activation1.sigmoid_diff(predict).tolist())\n",
        "  delta_array = []\n",
        "  delta_array.append(delta.tolist())\n",
        "  \n",
        "  # 출력층 이전의 층들에 대한 delta 값을 계산한다.\n",
        "  for i in range(len(w) - 1):\n",
        "    delta = (np.array(delta_array[i]).T @ np.array(w[0]).T).T * activation1.sigmoid_diff(np.array(hidden_output_array[1+i]))\n",
        "    delta_array.append(delta.tolist())\n",
        "  return delta_array"
      ],
      "metadata": {
        "id": "wdKSKg1Xe_QJ"
      },
      "execution_count": 143,
      "outputs": []
    },
    {
      "cell_type": "code",
      "source": [
        "delta_array = cal_delta(target, predict, w, hidden_output_array)\n",
        "delta_array"
      ],
      "metadata": {
        "colab": {
          "base_uri": "https://localhost:8080/"
        },
        "id": "ebSlR9L_kFNb",
        "outputId": "b13ddfee-e9a7-4b63-dc8a-4ffaa5f64fd9"
      },
      "execution_count": 144,
      "outputs": [
        {
          "output_type": "execute_result",
          "data": {
            "text/plain": [
              "[[[0.043199326918126744], [0.1205766380251159]],\n",
              " [[0.007476326694688966], [0.001747440588389323]]]"
            ]
          },
          "metadata": {},
          "execution_count": 144
        }
      ]
    },
    {
      "cell_type": "code",
      "source": [
        "hidden_output_array"
      ],
      "metadata": {
        "colab": {
          "base_uri": "https://localhost:8080/"
        },
        "id": "nNIotZGeev6e",
        "outputId": "bb7b65b2-a302-48c0-d5f2-3bf65daf8ca1"
      },
      "execution_count": 145,
      "outputs": [
        {
          "output_type": "execute_result",
          "data": {
            "text/plain": [
              "[array([[0.86103399],\n",
              "        [0.75879129]]), array([[0.93702664],\n",
              "        [0.96442881]]), array([[1],\n",
              "        [2],\n",
              "        [3]])]"
            ]
          },
          "metadata": {},
          "execution_count": 145
        }
      ]
    },
    {
      "cell_type": "code",
      "source": [
        "delta_array[0]"
      ],
      "metadata": {
        "colab": {
          "base_uri": "https://localhost:8080/"
        },
        "id": "PioLH7Iooe8S",
        "outputId": "2c959d35-066b-4c8c-db94-12aed1156fa4"
      },
      "execution_count": 146,
      "outputs": [
        {
          "output_type": "execute_result",
          "data": {
            "text/plain": [
              "[[0.043199326918126744], [0.1205766380251159]]"
            ]
          },
          "metadata": {},
          "execution_count": 146
        }
      ]
    },
    {
      "cell_type": "code",
      "source": [
        "np.array(delta_array[0]).shape"
      ],
      "metadata": {
        "colab": {
          "base_uri": "https://localhost:8080/"
        },
        "id": "xf7Lg0ERosHv",
        "outputId": "3e02f104-ac60-4a41-eaad-8cae69f30f0f"
      },
      "execution_count": 147,
      "outputs": [
        {
          "output_type": "execute_result",
          "data": {
            "text/plain": [
              "(2, 1)"
            ]
          },
          "metadata": {},
          "execution_count": 147
        }
      ]
    },
    {
      "cell_type": "markdown",
      "source": [
        "해당 델타값은 출력층의 각 노드들의 입력값의 변화량에 따른 오차 함수의 변화량이다."
      ],
      "metadata": {
        "id": "61ovAlaKa0IG"
      }
    },
    {
      "cell_type": "markdown",
      "source": [
        "델타값을 통해 가중치 변화량에 따른 오차함수의 변화량을 구할 수 있다."
      ],
      "metadata": {
        "id": "ibcQiyc8bDSu"
      }
    },
    {
      "cell_type": "markdown",
      "source": [
        "가중치 변화에 따른 오차함수의 변화량은 이전 노드의 출력값이다."
      ],
      "metadata": {
        "id": "HN7hGyDKbOPD"
      }
    },
    {
      "cell_type": "code",
      "source": [
        "def cal_w_update(delta_array, hidden_output_array, b):\n",
        "  w_diff = []\n",
        "  b_diff = []\n",
        "  for i in range(len(delta_array)):\n",
        "    w_diff_list = (np.array(delta_array[i]) @ np.array(hidden_output_array[i+1]).T).tolist()\n",
        "    w_diff.append(w_diff_list)\n",
        "\n",
        "    b_diff_list = np.sum(np.array(delta_array[i]) * np.array(b[i]))\n",
        "    b_diff.append(b_diff_list)\n",
        "  \n",
        "  return w_diff, b_diff"
      ],
      "metadata": {
        "id": "b1fv5YpbrqK4"
      },
      "execution_count": 148,
      "outputs": []
    },
    {
      "cell_type": "code",
      "source": [
        "w_diff, b_diff = cal_w_update(delta_array, hidden_output_array, b)"
      ],
      "metadata": {
        "id": "WLXd6gyct8fB"
      },
      "execution_count": 149,
      "outputs": []
    },
    {
      "cell_type": "code",
      "source": [
        "w_diff"
      ],
      "metadata": {
        "colab": {
          "base_uri": "https://localhost:8080/"
        },
        "id": "wuXWc6lQxA7T",
        "outputId": "1ea8d999-c361-4866-b570-eed47f6daea5"
      },
      "execution_count": 150,
      "outputs": [
        {
          "output_type": "execute_result",
          "data": {
            "text/plain": [
              "[[[0.040478920322688954, 0.04166267548387157],\n",
              "  [0.11298352246660469, 0.11628758361206636]],\n",
              " [[0.007476326694688966, 0.014952653389377932, 0.0224289800840669],\n",
              "  [0.001747440588389323, 0.003494881176778646, 0.005242321765167969]]]"
            ]
          },
          "metadata": {},
          "execution_count": 150
        }
      ]
    },
    {
      "cell_type": "code",
      "source": [
        "b_diff"
      ],
      "metadata": {
        "colab": {
          "base_uri": "https://localhost:8080/"
        },
        "id": "e-Iuaf7VxTEn",
        "outputId": "24edb9da-4044-4a55-caa6-73c2afc6e48c"
      },
      "execution_count": 151,
      "outputs": [
        {
          "output_type": "execute_result",
          "data": {
            "text/plain": [
              "[0.04913278948297279, 0.0046118836415391445]"
            ]
          },
          "metadata": {},
          "execution_count": 151
        }
      ]
    },
    {
      "cell_type": "markdown",
      "source": [
        "은닉층-출력층 사이 가중치 변화량에 따른 오차 함수의 변화량을 구할 수 있었다."
      ],
      "metadata": {
        "id": "hBnFYUXhdSIX"
      }
    },
    {
      "cell_type": "markdown",
      "source": [
        "delta 값을 이용하여 입력-은닉층까지의 가중치 변화량에 따른 오차 함수의 변화량을 계산한다."
      ],
      "metadata": {
        "id": "lBxph0DYdYgq"
      }
    },
    {
      "cell_type": "markdown",
      "source": [
        "각 은닉노드의 출력에 대한 오차 함수의 변화량을 계산하기 위해서는 delta 값에 노드 입력에 대한 변화량을 곱해준다."
      ],
      "metadata": {
        "id": "pDVtdaTidujo"
      }
    },
    {
      "cell_type": "markdown",
      "source": [
        "이는 각 은닉노드 출력의 변화에 따른 오차 함수의 변화량이다."
      ],
      "metadata": {
        "id": "g89ZZzlPemtX"
      }
    },
    {
      "cell_type": "markdown",
      "source": [
        "은닉노드의 입력의 변화에 따른 오차 함수의 변화량, 즉 delta1 을 계산한다."
      ],
      "metadata": {
        "id": "8Tk1lRCwfaRE"
      }
    },
    {
      "cell_type": "markdown",
      "source": [
        "이후 동일하게 은닉 노드의 입력, 즉 데이터값을 통해 입력-은닉 노드의 가중치 변화량에 대한 오차 함수의 변화량을 계산한다."
      ],
      "metadata": {
        "id": "TXDBw29VgHGx"
      }
    },
    {
      "cell_type": "code",
      "source": [
        "w_diff = w_diff[::-1]\n",
        "w_diff"
      ],
      "metadata": {
        "id": "V_1G1mNsIMpM",
        "colab": {
          "base_uri": "https://localhost:8080/"
        },
        "outputId": "809fb31e-5566-4488-f67f-02e25fdf45b2"
      },
      "execution_count": 152,
      "outputs": [
        {
          "output_type": "execute_result",
          "data": {
            "text/plain": [
              "[[[0.007476326694688966, 0.014952653389377932, 0.0224289800840669],\n",
              "  [0.001747440588389323, 0.003494881176778646, 0.005242321765167969]],\n",
              " [[0.040478920322688954, 0.04166267548387157],\n",
              "  [0.11298352246660469, 0.11628758361206636]]]"
            ]
          },
          "metadata": {},
          "execution_count": 152
        }
      ]
    },
    {
      "cell_type": "code",
      "source": [
        "b_diff = b_diff[::-1]\n",
        "b_diff"
      ],
      "metadata": {
        "colab": {
          "base_uri": "https://localhost:8080/"
        },
        "id": "JZ5ZVy0Q1_ql",
        "outputId": "16a72b33-c54f-43b8-bd87-482e064958fa"
      },
      "execution_count": 153,
      "outputs": [
        {
          "output_type": "execute_result",
          "data": {
            "text/plain": [
              "[0.0046118836415391445, 0.04913278948297279]"
            ]
          },
          "metadata": {},
          "execution_count": 153
        }
      ]
    },
    {
      "cell_type": "code",
      "source": [
        "w = w[::-1]\n",
        "w"
      ],
      "metadata": {
        "colab": {
          "base_uri": "https://localhost:8080/"
        },
        "id": "lG_gq6dF2bej",
        "outputId": "a4b688a2-b927-4ffb-a293-f0c2dcd00aac"
      },
      "execution_count": 154,
      "outputs": [
        {
          "output_type": "execute_result",
          "data": {
            "text/plain": [
              "[[[0.1, 0.2], [0.3, 0.4], [0.5, 0.6]], [[0.7, 0.8], [0.9, 0.1]]]"
            ]
          },
          "metadata": {},
          "execution_count": 154
        }
      ]
    },
    {
      "cell_type": "code",
      "source": [
        "b = b[::-1]\n",
        "b"
      ],
      "metadata": {
        "colab": {
          "base_uri": "https://localhost:8080/"
        },
        "id": "9i6duVhA2hLh",
        "outputId": "9f5083ae-d1f4-4722-dffb-0ebf55daf11b"
      },
      "execution_count": 155,
      "outputs": [
        {
          "output_type": "execute_result",
          "data": {
            "text/plain": [
              "[[0.5], [0.3]]"
            ]
          },
          "metadata": {},
          "execution_count": 155
        }
      ]
    },
    {
      "cell_type": "code",
      "source": [
        "w_diff[0]"
      ],
      "metadata": {
        "colab": {
          "base_uri": "https://localhost:8080/"
        },
        "id": "Ays6cxZFPd8N",
        "outputId": "235ae89d-73a1-43b2-fe53-0a64b305d5be"
      },
      "execution_count": 156,
      "outputs": [
        {
          "output_type": "execute_result",
          "data": {
            "text/plain": [
              "[[0.007476326694688966, 0.014952653389377932, 0.0224289800840669],\n",
              " [0.001747440588389323, 0.003494881176778646, 0.005242321765167969]]"
            ]
          },
          "metadata": {},
          "execution_count": 156
        }
      ]
    },
    {
      "cell_type": "code",
      "source": [
        "w[0]"
      ],
      "metadata": {
        "colab": {
          "base_uri": "https://localhost:8080/"
        },
        "id": "4_NBY1dp_wjD",
        "outputId": "ac15b698-a0d6-4b86-c493-ace1ff92d121"
      },
      "execution_count": 157,
      "outputs": [
        {
          "output_type": "execute_result",
          "data": {
            "text/plain": [
              "[[0.1, 0.2], [0.3, 0.4], [0.5, 0.6]]"
            ]
          },
          "metadata": {},
          "execution_count": 157
        }
      ]
    },
    {
      "cell_type": "code",
      "source": [
        "for i in range(len(w)):\n",
        "  w_narray = np.array(w[i])\n",
        "  print(w_narray)\n",
        "\n",
        "  w_diff_narray = np.array(w_diff[i]).T\n",
        "  print(w_diff_narray)\n",
        "\n",
        "  new_w = w_narray - w_diff_narray\n",
        "  print(new_w)\n",
        "\n",
        "  b_narray = np.array(b[i])\n",
        "  print(b_narray, \"b\")\n",
        "\n",
        "  b_diff_narray = np.array(b_diff[i])\n",
        "  print(b_diff_narray)\n",
        "\n",
        "  new_b = b_narray - b_diff_narray\n",
        "  print(new_b)\n"
      ],
      "metadata": {
        "colab": {
          "base_uri": "https://localhost:8080/"
        },
        "id": "Bg60ewh0_yxQ",
        "outputId": "54ccef29-04d0-4e51-ae17-2e273c0b75bd"
      },
      "execution_count": 158,
      "outputs": [
        {
          "output_type": "stream",
          "name": "stdout",
          "text": [
            "[[0.1 0.2]\n",
            " [0.3 0.4]\n",
            " [0.5 0.6]]\n",
            "[[0.00747633 0.00174744]\n",
            " [0.01495265 0.00349488]\n",
            " [0.02242898 0.00524232]]\n",
            "[[0.09252367 0.19825256]\n",
            " [0.28504735 0.39650512]\n",
            " [0.47757102 0.59475768]]\n",
            "[0.5] b\n",
            "0.0046118836415391445\n",
            "[0.49538812]\n",
            "[[0.7 0.8]\n",
            " [0.9 0.1]]\n",
            "[[0.04047892 0.11298352]\n",
            " [0.04166268 0.11628758]]\n",
            "[[ 0.65952108  0.68701648]\n",
            " [ 0.85833732 -0.01628758]]\n",
            "[0.3] b\n",
            "0.04913278948297279\n",
            "[0.25086721]\n"
          ]
        }
      ]
    },
    {
      "cell_type": "code",
      "source": [
        "def w_parameter_update(w, w_diff, b, b_diff):\n",
        "  new_w_array = []\n",
        "  new_b_array = []\n",
        "\n",
        "  for i in range(len(w)):\n",
        "    w_narray = np.array(w[i])\n",
        "    w_diff_narray = np.array(w_diff[i]).T\n",
        "\n",
        "    new_w = w_narray - w_diff_narray\n",
        "    \n",
        "    new_w_array.append(new_w.tolist())\n",
        "\n",
        "    b_narray = np.array(b[i])\n",
        "    b_diff_narray = np.array(b_diff[i])\n",
        "  \n",
        "    new_b = b_narray - b_diff_narray\n",
        "\n",
        "    new_b_array.append(new_b.tolist())\n",
        "\n",
        "  return new_w_array, new_b_array"
      ],
      "metadata": {
        "id": "X10tsJCK_11U"
      },
      "execution_count": 193,
      "outputs": []
    },
    {
      "cell_type": "code",
      "source": [
        "new_w, new_b = w_parameter_update(w, w_diff, b, b_diff)"
      ],
      "metadata": {
        "id": "4Uda6QCbJ4im"
      },
      "execution_count": 194,
      "outputs": []
    },
    {
      "cell_type": "code",
      "source": [
        "new_w"
      ],
      "metadata": {
        "colab": {
          "base_uri": "https://localhost:8080/"
        },
        "id": "omxPXPHnJ94H",
        "outputId": "1d4242b9-9ff1-4bd9-8cb9-d7711d6999ac"
      },
      "execution_count": 195,
      "outputs": [
        {
          "output_type": "execute_result",
          "data": {
            "text/plain": [
              "[[[0.09252367330531104, 0.19825255941161068],\n",
              "  [0.28504734661062203, 0.39650511882322137],\n",
              "  [0.4775710199159331, 0.594757678234832]],\n",
              " [[0.659521079677311, 0.6870164775333953],\n",
              "  [0.8583373245161284, -0.01628758361206635]]]"
            ]
          },
          "metadata": {},
          "execution_count": 195
        }
      ]
    },
    {
      "cell_type": "code",
      "source": [
        "new_b"
      ],
      "metadata": {
        "colab": {
          "base_uri": "https://localhost:8080/"
        },
        "id": "fY7ZLpu5J-QN",
        "outputId": "32903735-10ac-4134-ecc6-d0714bb5b2d5"
      },
      "execution_count": 196,
      "outputs": [
        {
          "output_type": "execute_result",
          "data": {
            "text/plain": [
              "[[0.49538811635846086], [0.2508672105170272]]"
            ]
          },
          "metadata": {},
          "execution_count": 196
        }
      ]
    },
    {
      "cell_type": "code",
      "source": [],
      "metadata": {
        "id": "YbI93oIjJ-xy"
      },
      "execution_count": null,
      "outputs": []
    }
  ]
}