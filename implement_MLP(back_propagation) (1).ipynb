{
  "nbformat": 4,
  "nbformat_minor": 0,
  "metadata": {
    "colab": {
      "provenance": []
    },
    "kernelspec": {
      "name": "python3",
      "display_name": "Python 3"
    },
    "language_info": {
      "name": "python"
    }
  },
  "cells": [
    {
      "cell_type": "code",
      "execution_count": 187,
      "metadata": {
        "id": "VV1YFBuM-x-u"
      },
      "outputs": [],
      "source": [
        "import numpy as np"
      ]
    },
    {
      "cell_type": "markdown",
      "source": [
        "입력값과 임의의 타겟값의 지정"
      ],
      "metadata": {
        "id": "nPGhJkoLA7AR"
      }
    },
    {
      "cell_type": "code",
      "source": [
        "data = np.array(([1],[2],[3]))\n",
        "data"
      ],
      "metadata": {
        "colab": {
          "base_uri": "https://localhost:8080/"
        },
        "id": "qTjBHhDL_IVo",
        "outputId": "a5fc5850-7a8f-458a-e86d-9c6f13d3e686"
      },
      "execution_count": 188,
      "outputs": [
        {
          "output_type": "execute_result",
          "data": {
            "text/plain": [
              "array([[1],\n",
              "       [2],\n",
              "       [3]])"
            ]
          },
          "metadata": {},
          "execution_count": 188
        }
      ]
    },
    {
      "cell_type": "code",
      "source": [
        "target = np.array(([0.5],[0.1]))\n",
        "target"
      ],
      "metadata": {
        "colab": {
          "base_uri": "https://localhost:8080/"
        },
        "id": "U0irQbth_pG3",
        "outputId": "8e6059e3-fb52-4dfe-b9c6-a39a75a9fa31"
      },
      "execution_count": 189,
      "outputs": [
        {
          "output_type": "execute_result",
          "data": {
            "text/plain": [
              "array([[0.5],\n",
              "       [0.1]])"
            ]
          },
          "metadata": {},
          "execution_count": 189
        }
      ]
    },
    {
      "cell_type": "markdown",
      "source": [
        "임의의 가중치 지정"
      ],
      "metadata": {
        "id": "zCuqhvEMA96W"
      }
    },
    {
      "cell_type": "code",
      "source": [
        "w = []"
      ],
      "metadata": {
        "id": "Um8L4h6FNira"
      },
      "execution_count": 190,
      "outputs": []
    },
    {
      "cell_type": "code",
      "source": [
        "w.append(np.array([[0.1, 0.2], [0.3, 0.4], [0.5, 0.6]]))"
      ],
      "metadata": {
        "id": "6mmkcoQNNOxa"
      },
      "execution_count": 191,
      "outputs": []
    },
    {
      "cell_type": "code",
      "source": [
        "w.append(np.array([[0.7, 0.8], [0.9, 0.1]]))"
      ],
      "metadata": {
        "id": "8fQlTpw2NkKw"
      },
      "execution_count": 192,
      "outputs": []
    },
    {
      "cell_type": "code",
      "source": [
        "w"
      ],
      "metadata": {
        "colab": {
          "base_uri": "https://localhost:8080/"
        },
        "id": "OLNFfQtLiwA6",
        "outputId": "3c9d7658-b5de-4d2c-b8d5-bdc2e543d8b0"
      },
      "execution_count": 193,
      "outputs": [
        {
          "output_type": "execute_result",
          "data": {
            "text/plain": [
              "[array([[0.1, 0.2],\n",
              "        [0.3, 0.4],\n",
              "        [0.5, 0.6]]), array([[0.7, 0.8],\n",
              "        [0.9, 0.1]])]"
            ]
          },
          "metadata": {},
          "execution_count": 193
        }
      ]
    },
    {
      "cell_type": "code",
      "source": [
        "b = []"
      ],
      "metadata": {
        "id": "DbjwRDZPeIIL"
      },
      "execution_count": 194,
      "outputs": []
    },
    {
      "cell_type": "code",
      "source": [
        "b.append(np.array([[0.5]]))"
      ],
      "metadata": {
        "id": "Ab3weN7hirus"
      },
      "execution_count": 195,
      "outputs": []
    },
    {
      "cell_type": "code",
      "source": [
        "b.append(np.array([[0.3]]))"
      ],
      "metadata": {
        "id": "qL3Z6bLyi0ZN"
      },
      "execution_count": 196,
      "outputs": []
    },
    {
      "cell_type": "code",
      "source": [
        "b"
      ],
      "metadata": {
        "id": "y1JUp8PAiwjV",
        "outputId": "e80323c7-e9ae-45d3-f33e-adf4ec318f36",
        "colab": {
          "base_uri": "https://localhost:8080/"
        }
      },
      "execution_count": 197,
      "outputs": [
        {
          "output_type": "execute_result",
          "data": {
            "text/plain": [
              "[array([[0.5]]), array([[0.3]])]"
            ]
          },
          "metadata": {},
          "execution_count": 197
        }
      ]
    },
    {
      "cell_type": "code",
      "source": [
        "class cost_function:\n",
        "  # 예측값\n",
        "  predict = []\n",
        "  # 타겟값\n",
        "  target = []\n",
        "\n",
        "  # 오차 제곱합\n",
        "  def errer_squared_sum(self, predict, target):\n",
        "    self.predict = predict\n",
        "    self.target = target\n",
        "\n",
        "    error_cost = np.sum(0.5*((predict - target)**2))\n",
        "    return error_cost\n",
        "\n",
        "  # 오차 제곱합 미분 함수\n",
        "  def diff_error_squared_sum(self):\n",
        "    return self.predict - self.target"
      ],
      "metadata": {
        "id": "G0nD-WVBMq_G"
      },
      "execution_count": 198,
      "outputs": []
    },
    {
      "cell_type": "code",
      "source": [
        "class activation:\n",
        "  def sigmoid(self, x):\n",
        "    return 1 / (1+np.e**-x)\n",
        "  \n",
        "  def sigmoid_diff(self, x):\n",
        "  # 활성화 함수의 계산 값이 예측값이다.\n",
        "    return x * (1 - x)"
      ],
      "metadata": {
        "id": "eZ-6cSrDeLar"
      },
      "execution_count": 199,
      "outputs": []
    },
    {
      "cell_type": "code",
      "execution_count": 200,
      "metadata": {
        "id": "mj1m2ApBdPrL"
      },
      "outputs": [],
      "source": [
        "class MLP:\n",
        "  input_data = []\n",
        "  weight = []\n",
        "  bias = []\n",
        "    \n",
        "  node_input = []\n",
        "  node_output = []\n",
        "\n",
        "  predict = []\n",
        "  target = []\n",
        "\n",
        "  delta = []\n",
        "\n",
        "  cost_function1 = cost_function()\n",
        "  activation1 = activation()\n",
        "\n",
        "  weight_update = []\n",
        "  \n",
        "  #순전파 계산산\n",
        "  def forward_cal(self, input, w, b):\n",
        "    #가중치와 편향 값의 지정\n",
        "    self.weight = w\n",
        "    self.bias = b\n",
        "        \n",
        "    #데이터 입력값이 입력층의 노드의 출력이 됨\n",
        "    output = input\n",
        "    self.node_output.append(output)\n",
        "        \n",
        "    #3차원 배열 형태의 가중치의 층 갯수만큼 순전파 연산의 반복\n",
        "    for i in range(len(w)):\n",
        "      #행렬곱 연산을 위한 numpy_array 변환\n",
        "      w_numpy = np.array(w[i])\n",
        "            \n",
        "      #가중치와 노드 출력의 행렬곱연산, 편향값 덧셈\n",
        "      hidden_input = w_numpy.T @ output + b[i][0]\n",
        "            \n",
        "      #노드 입력과 활성화 함수 연산을 통한 노드 출력 계산\n",
        "      output = self.activation1.sigmoid(hidden_input)\n",
        "            \n",
        "      self.node_output.append(output)\n",
        "      \n",
        "      #최종 연산 결과, 예측값의 저장\n",
        "      self.predict = output\n",
        "\n",
        "    return output\n",
        "\n",
        "  def cost_function(self, target):\n",
        "    self.target = target\n",
        "    return self.cost_function1.errer_squared_sum(self.predict, target)\n",
        "\n",
        "  #델타(노드 변화량에 대한 비용 함수의 변화량 계산)\n",
        "  def cal_delta(self):\n",
        "    #출력층 노드의 변화량에 대한 오차 함수의 변화량 계산\n",
        "    delta = (self.cost_function1.diff_error_squared_sum() * self.activation1.sigmoid_diff(self.predict))\n",
        "    self.delta.append(delta)\n",
        "\n",
        "    for i in range(len(self.node_output) - 2, -1, -1):\n",
        "      weight_update = (delta @ self.node_output[i].T).T\n",
        "      self.weight_update.append(weight_update)\n",
        "      delta = self.weight[i]@delta\n",
        "      delta = delta * self.activation1.sigmoid_diff(self.node_output[i])\n",
        "      self.delta.append(delta)\n",
        "      \n"
      ]
    },
    {
      "cell_type": "code",
      "source": [
        "mlp = MLP()"
      ],
      "metadata": {
        "id": "LHw-2RbPDdO6"
      },
      "execution_count": 201,
      "outputs": []
    },
    {
      "cell_type": "code",
      "source": [
        "result = mlp.forward_cal(data, w, b)\n",
        "result"
      ],
      "metadata": {
        "colab": {
          "base_uri": "https://localhost:8080/"
        },
        "id": "3SbwE49zFJNz",
        "outputId": "1dc985f1-c7c8-4c22-afa5-d3d92f5b5a49"
      },
      "execution_count": 202,
      "outputs": [
        {
          "output_type": "execute_result",
          "data": {
            "text/plain": [
              "array([[0.86103399],\n",
              "       [0.75879129]])"
            ]
          },
          "metadata": {},
          "execution_count": 202
        }
      ]
    },
    {
      "cell_type": "code",
      "source": [
        "mlp.cost_function(target)"
      ],
      "metadata": {
        "colab": {
          "base_uri": "https://localhost:8080/"
        },
        "id": "761rLRIgM_0C",
        "outputId": "f538d715-059b-45d7-95c7-7438183d42c2"
      },
      "execution_count": 203,
      "outputs": [
        {
          "output_type": "execute_result",
          "data": {
            "text/plain": [
              "0.2821757530435978"
            ]
          },
          "metadata": {},
          "execution_count": 203
        }
      ]
    },
    {
      "cell_type": "code",
      "source": [
        "mlp.cal_delta()"
      ],
      "metadata": {
        "id": "87xEzts2rZR7"
      },
      "execution_count": 204,
      "outputs": []
    },
    {
      "cell_type": "code",
      "source": [
        "mlp.delta"
      ],
      "metadata": {
        "id": "lcaNSV0NrbNG",
        "colab": {
          "base_uri": "https://localhost:8080/"
        },
        "outputId": "003017de-a2cd-4023-fcba-86756e65b84a"
      },
      "execution_count": 205,
      "outputs": [
        {
          "output_type": "execute_result",
          "data": {
            "text/plain": [
              "[array([[0.04319933],\n",
              "        [0.12057664]]), array([[0.00747633],\n",
              "        [0.00174744]]), array([[ 0.        ],\n",
              "        [-0.00588375],\n",
              "        [-0.02871977]])]"
            ]
          },
          "metadata": {},
          "execution_count": 205
        }
      ]
    },
    {
      "cell_type": "code",
      "source": [
        "mlp.weight"
      ],
      "metadata": {
        "id": "yjBPTZCc-3yH",
        "colab": {
          "base_uri": "https://localhost:8080/"
        },
        "outputId": "cda25038-e89f-494e-a143-9d6d77c595ee"
      },
      "execution_count": 206,
      "outputs": [
        {
          "output_type": "execute_result",
          "data": {
            "text/plain": [
              "[array([[0.1, 0.2],\n",
              "        [0.3, 0.4],\n",
              "        [0.5, 0.6]]), array([[0.7, 0.8],\n",
              "        [0.9, 0.1]])]"
            ]
          },
          "metadata": {},
          "execution_count": 206
        }
      ]
    },
    {
      "cell_type": "code",
      "source": [
        "mlp.weight_update"
      ],
      "metadata": {
        "id": "GKA64IRz5KeM",
        "colab": {
          "base_uri": "https://localhost:8080/"
        },
        "outputId": "782093b1-8f57-4149-c141-57f9fa9a7d29"
      },
      "execution_count": 211,
      "outputs": [
        {
          "output_type": "execute_result",
          "data": {
            "text/plain": [
              "[array([[0.04047892, 0.11298352],\n",
              "        [0.04166268, 0.11628758]]), array([[0.00747633, 0.00174744],\n",
              "        [0.01495265, 0.00349488],\n",
              "        [0.02242898, 0.00524232]])]"
            ]
          },
          "metadata": {},
          "execution_count": 211
        }
      ]
    },
    {
      "cell_type": "code",
      "source": [
        "mlp.delta"
      ],
      "metadata": {
        "colab": {
          "base_uri": "https://localhost:8080/"
        },
        "id": "n89NA2QYOF6Z",
        "outputId": "8384efd2-900a-4a79-b9ce-7018eddbb47f"
      },
      "execution_count": 212,
      "outputs": [
        {
          "output_type": "execute_result",
          "data": {
            "text/plain": [
              "[array([[0.04319933],\n",
              "        [0.12057664]]), array([[0.00747633],\n",
              "        [0.00174744]]), array([[ 0.        ],\n",
              "        [-0.00588375],\n",
              "        [-0.02871977]])]"
            ]
          },
          "metadata": {},
          "execution_count": 212
        }
      ]
    },
    {
      "cell_type": "code",
      "source": [],
      "metadata": {
        "id": "-jXsgK4oOG3d"
      },
      "execution_count": null,
      "outputs": []
    }
  ]
}