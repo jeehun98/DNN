{
  "nbformat": 4,
  "nbformat_minor": 0,
  "metadata": {
    "colab": {
      "provenance": []
    },
    "kernelspec": {
      "name": "python3",
      "display_name": "Python 3"
    },
    "language_info": {
      "name": "python"
    }
  },
  "cells": [
    {
      "cell_type": "code",
      "execution_count": 120,
      "metadata": {
        "id": "tmiMCncq1Sj_"
      },
      "outputs": [],
      "source": [
        "import numpy as np"
      ]
    },
    {
      "cell_type": "code",
      "source": [
        "import sympy"
      ],
      "metadata": {
        "id": "46_qwvI9VstQ"
      },
      "execution_count": 121,
      "outputs": []
    },
    {
      "cell_type": "code",
      "source": [
        "perch_length = np.array(\n",
        "    [8.4, 13.7, 15.0, 16.2, 17.4, 18.0, 18.7, 19.0, 19.6, 20.0, \n",
        "     21.0, 21.0, 21.0, 21.3, 22.0, 22.0, 22.0, 22.0, 22.0, 22.5, \n",
        "     22.5, 22.7, 23.0, 23.5, 24.0, 24.0, 24.6, 25.0, 25.6, 26.5, \n",
        "     27.3, 27.5, 27.5, 27.5, 28.0, 28.7, 30.0, 32.8, 34.5, 35.0, \n",
        "     36.5, 36.0, 37.0, 37.0, 39.0, 39.0, 39.0, 40.0, 40.0, 40.0, \n",
        "     40.0, 42.0, 43.0, 43.0, 43.5, 44.0]\n",
        "     )\n",
        "perch_weight = np.array(\n",
        "    [5.9, 32.0, 40.0, 51.5, 70.0, 100.0, 78.0, 80.0, 85.0, 85.0, \n",
        "     110.0, 115.0, 125.0, 130.0, 120.0, 120.0, 130.0, 135.0, 110.0, \n",
        "     130.0, 150.0, 145.0, 150.0, 170.0, 225.0, 145.0, 188.0, 180.0, \n",
        "     197.0, 218.0, 300.0, 260.0, 265.0, 250.0, 250.0, 300.0, 320.0, \n",
        "     514.0, 556.0, 840.0, 685.0, 700.0, 700.0, 690.0, 900.0, 650.0, \n",
        "     820.0, 850.0, 900.0, 1015.0, 820.0, 1100.0, 1000.0, 1100.0, \n",
        "     1000.0, 1000.0]\n",
        "     )"
      ],
      "metadata": {
        "id": "luITXD-QV0_m"
      },
      "execution_count": 122,
      "outputs": []
    },
    {
      "cell_type": "code",
      "source": [
        "input = perch_length[:5].reshape(-1,1)\n",
        "target = perch_weight[:2].reshape(-1,1)\n",
        "\n",
        "input.shape"
      ],
      "metadata": {
        "colab": {
          "base_uri": "https://localhost:8080/"
        },
        "id": "oJEficfNV4hs",
        "outputId": "b09f24ef-33e0-400b-a0cb-e8ac04908d13"
      },
      "execution_count": 123,
      "outputs": [
        {
          "output_type": "execute_result",
          "data": {
            "text/plain": [
              "(5, 1)"
            ]
          },
          "metadata": {},
          "execution_count": 123
        }
      ]
    },
    {
      "cell_type": "markdown",
      "source": [
        "활성화 함수와 그 미분값을 미리 정해야 한다."
      ],
      "metadata": {
        "id": "ne3gWbi65ar8"
      }
    },
    {
      "cell_type": "code",
      "source": [
        "class Activation:\n",
        "  \"\"\"\n",
        "  데이터의 활성화 함수 연산 결과를 얻기 위함\n",
        "  추가로 역전파 계산에 필요한 활성화 함수의 미분 함수\n",
        "  \"\"\"\n",
        "  # 활성화 함수\n",
        "  fx = 0\n",
        "  # 활성화 함수의 미분 함수\n",
        "  d_fx = 0\n",
        "\n",
        "  def sigmoid_fun(self, input):\n",
        "    \"\"\"\n",
        "    시그모이드 함수\n",
        "    자연 상수의 지수 함수를 사용한 0~1 사이의 값 출력\n",
        "    Args:\n",
        "      input : 입력값\n",
        "    Return:\n",
        "      0~1 사이의 값\n",
        "    \"\"\"\n",
        "    x = sympy.Symbol('x')\n",
        "    result = []\n",
        "\n",
        "    self.fx = 1/(1+np.e**(-x))\n",
        "\n",
        "    self.d_fx = sympy.diff(self.fx, x)\n",
        "\n",
        "    for i in range(input.shape[0]):\n",
        "      result.append(self.fx.subs([(x, input[i][0])]))\n",
        "\n",
        "    return np.array(result).reshape(-1, 1)\n",
        "\n",
        "  def d_sigmoid_fun(self, input):\n",
        "    \"\"\"\n",
        "    시그모이드 함수의 미분값\n",
        "    arg\n",
        "      input : 입력값\n",
        "    return\n",
        "      시그모이드 미분 함수의 계산 값\n",
        "    \"\"\"\n",
        "    result = []\n",
        "\n",
        "    x = sympy.Symbol('x')\n",
        "\n",
        "    for i in range(input.shape[0]):\n",
        "      result.append(self.d_fx.subs([(x,input[i][0])]))\n",
        "\n",
        "    return np.array(result).reshape(-1, 1)"
      ],
      "metadata": {
        "id": "uG-6NTNW5ZdN"
      },
      "execution_count": 124,
      "outputs": []
    },
    {
      "cell_type": "markdown",
      "source": [
        "오차 함수와 그 미분값의 정의"
      ],
      "metadata": {
        "id": "xBMB78Al5efZ"
      }
    },
    {
      "cell_type": "code",
      "source": [
        "class Error:\n",
        "  \"\"\"\n",
        "  오차 함수와 오차 함수의 미분 함수를 얻을 수 있다.  \n",
        "  \"\"\"\n",
        "  # 오차 함수\n",
        "  fx = 0\n",
        "  \n",
        "  # 오차 함수의 미분값\n",
        "  d_fx = 0\n",
        "  \n",
        "  def RMSE(self, target, predict):\n",
        "    \"\"\"\n",
        "    일반적인 제곱 오차 함수\n",
        "    args:\n",
        "      target : 목표 변수\n",
        "      predict : 예측 변수\n",
        "    return:\n",
        "      제곱 오차 평균 값\n",
        "    \"\"\"\n",
        "    result = (predict - target)**2\n",
        "    self.result = np.mean(result)\n",
        "\n",
        "    t = sympy.Symbol('t')\n",
        "    y = sympy.Symbol('y')\n",
        "\n",
        "    self.fx = 1/2*((y-t)**2)\n",
        "\n",
        "    self.d_fx = sympy.diff(self.fx, y)\n",
        "\n",
        "    return self.result\n",
        "\n",
        "  def d_RMSE(self, target, predict):\n",
        "    \"\"\"\n",
        "    RMSE 의 미분 함수\n",
        "    args\n",
        "      target : 목표 변수\n",
        "      predict : 예측 변수\n",
        "    return:\n",
        "      미분 함수의 계산 값\n",
        "    \"\"\"\n",
        "    result = []\n",
        "\n",
        "    t = sympy.Symbol('t')\n",
        "    y = sympy.Symbol('y')\n",
        "\n",
        "    for i in range(target.shape[0]):\n",
        "      result.append(self.d_fx.subs([(t, target[i][0]), (y, predict[i][0])]))\n",
        "    \n",
        "    return np.array(result).reshape(-1, 1)\n"
      ],
      "metadata": {
        "id": "7zzvCA0C5eBs"
      },
      "execution_count": 125,
      "outputs": []
    },
    {
      "cell_type": "code",
      "source": [
        "class Dense:\n",
        "  \"\"\"\n",
        "  완전 연결층의 계산\n",
        "  \"\"\"\n",
        "  # 가중치 w\n",
        "  w = []\n",
        "\n",
        "  # 편향 값 bais\n",
        "  bias = []\n",
        "\n",
        "  def cal_dense(self, input, unit, w = [], bias = []):\n",
        "    \"\"\"\n",
        "    args\n",
        "      input : 입력 데이터\n",
        "      unit : 은닉층 노드의 개수\n",
        "    return \n",
        "      각 가중치 별 입력 데이터와의 연산 결과\n",
        "    \"\"\"\n",
        "    # 가중치 w의 생성\n",
        "    if not w:\n",
        "      w = np.random.rand(input.shape[0], unit)\n",
        "    \n",
        "    if not bias:\n",
        "      bias = np.random.rand()\n",
        "\n",
        "    self.w.append(w)\n",
        "\n",
        "    self.bias.append(bias)\n",
        "\n",
        "    return w.T.dot(input) + bias"
      ],
      "metadata": {
        "id": "gj1AWF1L3rng"
      },
      "execution_count": 126,
      "outputs": []
    },
    {
      "cell_type": "code",
      "source": [
        "class Delta:\n",
        "  def cal_delta(activation, error):\n",
        "    return 0"
      ],
      "metadata": {
        "id": "PvHLIjtd1joj"
      },
      "execution_count": 127,
      "outputs": []
    },
    {
      "cell_type": "code",
      "source": [
        "dense = Dense()"
      ],
      "metadata": {
        "id": "gL3hPWkf7sLE"
      },
      "execution_count": 128,
      "outputs": []
    },
    {
      "cell_type": "code",
      "source": [
        "hidden_input = dense.cal_dense(input, 3)\n",
        "hidden_input"
      ],
      "metadata": {
        "colab": {
          "base_uri": "https://localhost:8080/"
        },
        "id": "T45Kl3-m7tZG",
        "outputId": "9618c7a0-5b0d-4b8a-ec64-fc941d4f7bf1"
      },
      "execution_count": 129,
      "outputs": [
        {
          "output_type": "execute_result",
          "data": {
            "text/plain": [
              "array([[33.15714305],\n",
              "       [28.84156589],\n",
              "       [37.4602806 ]])"
            ]
          },
          "metadata": {},
          "execution_count": 129
        }
      ]
    },
    {
      "cell_type": "markdown",
      "source": [
        "행의 개수는 입력의 개수, 열은 은닉층의 개수이다."
      ],
      "metadata": {
        "id": "hE_m2deVR7pM"
      }
    },
    {
      "cell_type": "code",
      "source": [
        "dense.w"
      ],
      "metadata": {
        "colab": {
          "base_uri": "https://localhost:8080/"
        },
        "id": "zmu26iupGOy3",
        "outputId": "5e3d02f5-9b55-42f5-d1f4-a88a55985fb4"
      },
      "execution_count": 130,
      "outputs": [
        {
          "output_type": "execute_result",
          "data": {
            "text/plain": [
              "[array([[0.82681769, 0.84198361, 0.56215597],\n",
              "        [0.27622698, 0.35631161, 0.23478584],\n",
              "        [0.26161022, 0.42151498, 0.66583165],\n",
              "        [0.47509517, 0.21312774, 0.52868693],\n",
              "        [0.60382295, 0.39147644, 0.61316385]])]"
            ]
          },
          "metadata": {},
          "execution_count": 130
        }
      ]
    },
    {
      "cell_type": "code",
      "source": [
        "dense.bias"
      ],
      "metadata": {
        "colab": {
          "base_uri": "https://localhost:8080/"
        },
        "id": "MYnQmsV99ulu",
        "outputId": "b385ee61-c885-4221-cb9a-b991f063a498"
      },
      "execution_count": 131,
      "outputs": [
        {
          "output_type": "execute_result",
          "data": {
            "text/plain": [
              "[0.30035050066304647]"
            ]
          },
          "metadata": {},
          "execution_count": 131
        }
      ]
    },
    {
      "cell_type": "code",
      "source": [
        "act = Activation()"
      ],
      "metadata": {
        "id": "fgIt7FSLSEIy"
      },
      "execution_count": 132,
      "outputs": []
    },
    {
      "cell_type": "code",
      "source": [
        "hidden_input"
      ],
      "metadata": {
        "colab": {
          "base_uri": "https://localhost:8080/"
        },
        "id": "7uUe0sUOUBJp",
        "outputId": "3f209602-bdfc-4ff5-cbde-f56c3e0a3858"
      },
      "execution_count": 133,
      "outputs": [
        {
          "output_type": "execute_result",
          "data": {
            "text/plain": [
              "array([[33.15714305],\n",
              "       [28.84156589],\n",
              "       [37.4602806 ]])"
            ]
          },
          "metadata": {},
          "execution_count": 133
        }
      ]
    },
    {
      "cell_type": "code",
      "source": [
        "hidden_output = act.sigmoid_fun(hidden_input)\n",
        "hidden_output"
      ],
      "metadata": {
        "colab": {
          "base_uri": "https://localhost:8080/"
        },
        "id": "s6IVHAq_Tf_d",
        "outputId": "bf42b289-e705-446f-b8a9-8ada5574e445"
      },
      "execution_count": 134,
      "outputs": [
        {
          "output_type": "execute_result",
          "data": {
            "text/plain": [
              "array([[0.999999999999996],\n",
              "       [0.999999999999702],\n",
              "       [1.00000000000000]], dtype=object)"
            ]
          },
          "metadata": {},
          "execution_count": 134
        }
      ]
    },
    {
      "cell_type": "code",
      "source": [
        "result_input = dense.cal_dense(input, 2)\n",
        "result_input"
      ],
      "metadata": {
        "colab": {
          "base_uri": "https://localhost:8080/"
        },
        "id": "0fuO0RR2T2vw",
        "outputId": "dfff1726-780a-406c-9d20-6d8a6e6c220a"
      },
      "execution_count": 135,
      "outputs": [
        {
          "output_type": "execute_result",
          "data": {
            "text/plain": [
              "array([[47.96596583],\n",
              "       [36.15787577]])"
            ]
          },
          "metadata": {},
          "execution_count": 135
        }
      ]
    },
    {
      "cell_type": "code",
      "source": [
        "result_output = act.sigmoid_fun(result_input)\n",
        "result_output"
      ],
      "metadata": {
        "colab": {
          "base_uri": "https://localhost:8080/"
        },
        "id": "GgdaZqVCV79O",
        "outputId": "81c254c1-fd57-41c0-f825-d2fc934810cc"
      },
      "execution_count": 136,
      "outputs": [
        {
          "output_type": "execute_result",
          "data": {
            "text/plain": [
              "array([[1.00000000000000],\n",
              "       [1.00000000000000]], dtype=object)"
            ]
          },
          "metadata": {},
          "execution_count": 136
        }
      ]
    },
    {
      "cell_type": "code",
      "source": [
        "err = Error()"
      ],
      "metadata": {
        "id": "QVjM_AStV-nD"
      },
      "execution_count": 137,
      "outputs": []
    },
    {
      "cell_type": "code",
      "source": [
        "result = err.RMSE(target, result_output)"
      ],
      "metadata": {
        "id": "WAXkFMAcZj4G"
      },
      "execution_count": 138,
      "outputs": []
    },
    {
      "cell_type": "markdown",
      "source": [
        "출력층의 델타 계산\n",
        "오차함수 변화량 * 활성화 함수 변화량"
      ],
      "metadata": {
        "id": "rkhunyAojUdN"
      }
    },
    {
      "cell_type": "code",
      "source": [
        "err.d_fx"
      ],
      "metadata": {
        "colab": {
          "base_uri": "https://localhost:8080/",
          "height": 38
        },
        "id": "JYNmwkWJbB4g",
        "outputId": "ee894a1d-1fbd-4671-b7fb-84c146ed6b3e"
      },
      "execution_count": 139,
      "outputs": [
        {
          "output_type": "execute_result",
          "data": {
            "text/plain": [
              "-1.0*t + 1.0*y"
            ],
            "text/latex": "$\\displaystyle - 1.0 t + 1.0 y$"
          },
          "metadata": {},
          "execution_count": 139
        }
      ]
    },
    {
      "cell_type": "code",
      "source": [
        "d_err = err.d_RMSE(target, result_output)\n",
        "d_err"
      ],
      "metadata": {
        "id": "3gp7VxIywoJY",
        "colab": {
          "base_uri": "https://localhost:8080/"
        },
        "outputId": "f767679c-3bbe-4547-e260-a0102ba713fa"
      },
      "execution_count": 140,
      "outputs": [
        {
          "output_type": "execute_result",
          "data": {
            "text/plain": [
              "array([[-4.90000000000000],\n",
              "       [-31.0000000000000]], dtype=object)"
            ]
          },
          "metadata": {},
          "execution_count": 140
        }
      ]
    },
    {
      "cell_type": "code",
      "source": [
        "act.d_fx"
      ],
      "metadata": {
        "colab": {
          "base_uri": "https://localhost:8080/",
          "height": 60
        },
        "id": "CiQXfx1rlREd",
        "outputId": "b93dfa4f-8fde-4add-84ee-cc64cbecb634"
      },
      "execution_count": 141,
      "outputs": [
        {
          "output_type": "execute_result",
          "data": {
            "text/plain": [
              "1.0*2.71828182845905**(-x)/(1 + 2.71828182845905**(-x))**2"
            ],
            "text/latex": "$\\displaystyle \\frac{1.0 \\cdot 2.71828182845905^{- x}}{\\left(1 + 2.71828182845905^{- x}\\right)^{2}}$"
          },
          "metadata": {},
          "execution_count": 141
        }
      ]
    },
    {
      "cell_type": "code",
      "source": [
        "d_act = act.d_sigmoid_fun(result_output)\n",
        "d_act"
      ],
      "metadata": {
        "colab": {
          "base_uri": "https://localhost:8080/"
        },
        "id": "QbIlDnGrkzpi",
        "outputId": "01b8d1d7-e98a-41fe-fbba-6c2a0b571ef6"
      },
      "execution_count": 147,
      "outputs": [
        {
          "output_type": "execute_result",
          "data": {
            "text/plain": [
              "array([[0.196611933241482],\n",
              "       [0.196611933241482]], dtype=object)"
            ]
          },
          "metadata": {},
          "execution_count": 147
        }
      ]
    },
    {
      "cell_type": "code",
      "source": [
        "delta = d_err * d_act\n",
        "delta"
      ],
      "metadata": {
        "colab": {
          "base_uri": "https://localhost:8080/"
        },
        "id": "6wXQIS76lE0r",
        "outputId": "899a579c-0030-4447-ee8d-35527d1fb2db"
      },
      "execution_count": 148,
      "outputs": [
        {
          "output_type": "execute_result",
          "data": {
            "text/plain": [
              "array([[-0.963398472883261],\n",
              "       [-6.09496993048594]], dtype=object)"
            ]
          },
          "metadata": {},
          "execution_count": 148
        }
      ]
    },
    {
      "cell_type": "code",
      "source": [],
      "metadata": {
        "id": "qpB78TaOmzcB"
      },
      "execution_count": 148,
      "outputs": []
    }
  ]
}