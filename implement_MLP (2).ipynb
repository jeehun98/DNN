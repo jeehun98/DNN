{
  "nbformat": 4,
  "nbformat_minor": 0,
  "metadata": {
    "colab": {
      "provenance": []
    },
    "kernelspec": {
      "name": "python3",
      "display_name": "Python 3"
    },
    "language_info": {
      "name": "python"
    }
  },
  "cells": [
    {
      "cell_type": "code",
      "execution_count": 13,
      "metadata": {
        "id": "VV1YFBuM-x-u"
      },
      "outputs": [],
      "source": [
        "import numpy as np"
      ]
    },
    {
      "cell_type": "markdown",
      "source": [
        "입력값과 임의의 타겟값의 지정"
      ],
      "metadata": {
        "id": "nPGhJkoLA7AR"
      }
    },
    {
      "cell_type": "code",
      "source": [
        "data = np.array(([1],[2],[3]))\n",
        "data"
      ],
      "metadata": {
        "colab": {
          "base_uri": "https://localhost:8080/"
        },
        "id": "qTjBHhDL_IVo",
        "outputId": "e3d9a680-f8e6-463d-c82c-fa014da855bb"
      },
      "execution_count": 14,
      "outputs": [
        {
          "output_type": "execute_result",
          "data": {
            "text/plain": [
              "array([[1],\n",
              "       [2],\n",
              "       [3]])"
            ]
          },
          "metadata": {},
          "execution_count": 14
        }
      ]
    },
    {
      "cell_type": "code",
      "source": [
        "target = np.array(([0.5],[0.1]))\n",
        "target"
      ],
      "metadata": {
        "colab": {
          "base_uri": "https://localhost:8080/"
        },
        "id": "U0irQbth_pG3",
        "outputId": "1c90d2fd-7179-4743-f6ef-6e491a58ff4c"
      },
      "execution_count": 15,
      "outputs": [
        {
          "output_type": "execute_result",
          "data": {
            "text/plain": [
              "array([[0.5],\n",
              "       [0.1]])"
            ]
          },
          "metadata": {},
          "execution_count": 15
        }
      ]
    },
    {
      "cell_type": "markdown",
      "source": [
        "임의의 가중치 지정"
      ],
      "metadata": {
        "id": "zCuqhvEMA96W"
      }
    },
    {
      "cell_type": "code",
      "source": [
        "w1 = np.array(([0.1, 0.2], [0.3, 0.4], [0.5, 0.6]))\n",
        "w1"
      ],
      "metadata": {
        "colab": {
          "base_uri": "https://localhost:8080/"
        },
        "id": "mo3hLu0dAfPh",
        "outputId": "ac0146a9-acff-4869-e472-6dab93836e45"
      },
      "execution_count": 16,
      "outputs": [
        {
          "output_type": "execute_result",
          "data": {
            "text/plain": [
              "array([[0.1, 0.2],\n",
              "       [0.3, 0.4],\n",
              "       [0.5, 0.6]])"
            ]
          },
          "metadata": {},
          "execution_count": 16
        }
      ]
    },
    {
      "cell_type": "code",
      "source": [
        "b1 = np.array(([0.5]))\n",
        "b1"
      ],
      "metadata": {
        "colab": {
          "base_uri": "https://localhost:8080/"
        },
        "id": "hie1dpNSBwg7",
        "outputId": "bbf786ec-cf07-4664-e8aa-2aa09c749b6f"
      },
      "execution_count": 17,
      "outputs": [
        {
          "output_type": "execute_result",
          "data": {
            "text/plain": [
              "array([0.5])"
            ]
          },
          "metadata": {},
          "execution_count": 17
        }
      ]
    },
    {
      "cell_type": "code",
      "source": [
        "w2 = np.array(([0.7, 0.8], [0.9, 0.1]))\n",
        "w2"
      ],
      "metadata": {
        "colab": {
          "base_uri": "https://localhost:8080/"
        },
        "id": "xaCAFg3cBzrF",
        "outputId": "a4077366-f4b7-4847-809d-8f43a38b0904"
      },
      "execution_count": 18,
      "outputs": [
        {
          "output_type": "execute_result",
          "data": {
            "text/plain": [
              "array([[0.7, 0.8],\n",
              "       [0.9, 0.1]])"
            ]
          },
          "metadata": {},
          "execution_count": 18
        }
      ]
    },
    {
      "cell_type": "code",
      "source": [
        "b2 = np.array(([0.3]))\n",
        "b2"
      ],
      "metadata": {
        "colab": {
          "base_uri": "https://localhost:8080/"
        },
        "id": "0JoBcMoDB5FF",
        "outputId": "02bb3861-6490-480d-f388-78a82a1079e0"
      },
      "execution_count": 19,
      "outputs": [
        {
          "output_type": "execute_result",
          "data": {
            "text/plain": [
              "array([0.3])"
            ]
          },
          "metadata": {},
          "execution_count": 19
        }
      ]
    },
    {
      "cell_type": "markdown",
      "source": [
        "순전파의 계산 과정 - 은닉층 입력"
      ],
      "metadata": {
        "id": "cWwZ8du4B_-_"
      }
    },
    {
      "cell_type": "code",
      "source": [
        "hidden_input1 = w1.T @ data + b1\n",
        "hidden_input1"
      ],
      "metadata": {
        "colab": {
          "base_uri": "https://localhost:8080/"
        },
        "id": "-0UFQdxAB61c",
        "outputId": "b2c08dd1-b4da-4a33-f922-70559426e6eb"
      },
      "execution_count": 22,
      "outputs": [
        {
          "output_type": "execute_result",
          "data": {
            "text/plain": [
              "array([[2.7],\n",
              "       [3.3]])"
            ]
          },
          "metadata": {},
          "execution_count": 22
        }
      ]
    },
    {
      "cell_type": "markdown",
      "source": [
        "순전파의 계산 과정 - 은닉층 출력(활성화 함수 연산-시그모이드 함수)"
      ],
      "metadata": {
        "id": "S5XQsZYWDzqX"
      }
    },
    {
      "cell_type": "code",
      "source": [
        "class activation:\n",
        "  def sigmoid(self, x):\n",
        "    return 1 / (1+np.e**-x)"
      ],
      "metadata": {
        "id": "nHMaPGJbC0Ck"
      },
      "execution_count": 30,
      "outputs": []
    },
    {
      "cell_type": "code",
      "source": [
        "act = activation()"
      ],
      "metadata": {
        "id": "tp1MGFYuEq4w"
      },
      "execution_count": 33,
      "outputs": []
    },
    {
      "cell_type": "code",
      "source": [
        "hidden_output1 = act.sigmoid(hidden_input1)\n",
        "hidden_output1"
      ],
      "metadata": {
        "colab": {
          "base_uri": "https://localhost:8080/"
        },
        "id": "fN_C2zQYE1FC",
        "outputId": "d264bd4b-9082-4fb5-d31d-ae2943325aaa"
      },
      "execution_count": 34,
      "outputs": [
        {
          "output_type": "execute_result",
          "data": {
            "text/plain": [
              "array([[0.93702664],\n",
              "       [0.96442881]])"
            ]
          },
          "metadata": {},
          "execution_count": 34
        }
      ]
    },
    {
      "cell_type": "markdown",
      "source": [
        "은닉층-출력층까지의 계산(활성화 함수-시그모이드)"
      ],
      "metadata": {
        "id": "6aenqY3OHU6f"
      }
    },
    {
      "cell_type": "code",
      "source": [
        "hidden_input2 = w2.T @ hidden_output1 + b2\n",
        "hidden_input2"
      ],
      "metadata": {
        "colab": {
          "base_uri": "https://localhost:8080/"
        },
        "id": "RjBZcPY0EtTQ",
        "outputId": "2ad2dbb2-0a16-402d-803b-027e17500937"
      },
      "execution_count": 35,
      "outputs": [
        {
          "output_type": "execute_result",
          "data": {
            "text/plain": [
              "array([[1.82390458],\n",
              "       [1.1460642 ]])"
            ]
          },
          "metadata": {},
          "execution_count": 35
        }
      ]
    },
    {
      "cell_type": "code",
      "source": [
        "hidden_output2 = act.sigmoid(hidden_input2)\n",
        "hidden_output2"
      ],
      "metadata": {
        "colab": {
          "base_uri": "https://localhost:8080/"
        },
        "id": "0_oH6TPDOm_6",
        "outputId": "59aee077-a20c-4980-b9c3-50df00796402"
      },
      "execution_count": 36,
      "outputs": [
        {
          "output_type": "execute_result",
          "data": {
            "text/plain": [
              "array([[0.86103399],\n",
              "       [0.75879129]])"
            ]
          },
          "metadata": {},
          "execution_count": 36
        }
      ]
    },
    {
      "cell_type": "code",
      "source": [],
      "metadata": {
        "id": "ONuhynuSRCWD"
      },
      "execution_count": null,
      "outputs": []
    }
  ]
}