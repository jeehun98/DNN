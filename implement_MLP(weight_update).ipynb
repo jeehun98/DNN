{
  "nbformat": 4,
  "nbformat_minor": 0,
  "metadata": {
    "colab": {
      "provenance": []
    },
    "kernelspec": {
      "name": "python3",
      "display_name": "Python 3"
    },
    "language_info": {
      "name": "python"
    }
  },
  "cells": [
    {
      "cell_type": "code",
      "execution_count": 1,
      "metadata": {
        "id": "VV1YFBuM-x-u"
      },
      "outputs": [],
      "source": [
        "import numpy as np"
      ]
    },
    {
      "cell_type": "markdown",
      "source": [
        "입력값과 임의의 타겟값의 지정"
      ],
      "metadata": {
        "id": "nPGhJkoLA7AR"
      }
    },
    {
      "cell_type": "code",
      "source": [
        "data = np.array(([1],[2],[3]))\n",
        "data"
      ],
      "metadata": {
        "colab": {
          "base_uri": "https://localhost:8080/"
        },
        "id": "qTjBHhDL_IVo",
        "outputId": "c4972f8d-e623-4e49-e18d-ee9c6d6996ca"
      },
      "execution_count": 2,
      "outputs": [
        {
          "output_type": "execute_result",
          "data": {
            "text/plain": [
              "array([[1],\n",
              "       [2],\n",
              "       [3]])"
            ]
          },
          "metadata": {},
          "execution_count": 2
        }
      ]
    },
    {
      "cell_type": "code",
      "source": [
        "target = np.array(([0.5],[0.1]))\n",
        "target"
      ],
      "metadata": {
        "colab": {
          "base_uri": "https://localhost:8080/"
        },
        "id": "U0irQbth_pG3",
        "outputId": "f4145304-bca4-49d9-e504-170edba24c12"
      },
      "execution_count": 3,
      "outputs": [
        {
          "output_type": "execute_result",
          "data": {
            "text/plain": [
              "array([[0.5],\n",
              "       [0.1]])"
            ]
          },
          "metadata": {},
          "execution_count": 3
        }
      ]
    },
    {
      "cell_type": "markdown",
      "source": [
        "임의의 가중치 지정"
      ],
      "metadata": {
        "id": "zCuqhvEMA96W"
      }
    },
    {
      "cell_type": "code",
      "source": [
        "w = []"
      ],
      "metadata": {
        "id": "Um8L4h6FNira"
      },
      "execution_count": 4,
      "outputs": []
    },
    {
      "cell_type": "code",
      "source": [
        "w.append(np.array([[0.1, 0.2], [0.3, 0.4], [0.5, 0.6]]))"
      ],
      "metadata": {
        "id": "6mmkcoQNNOxa"
      },
      "execution_count": 5,
      "outputs": []
    },
    {
      "cell_type": "code",
      "source": [
        "w.append(np.array([[0.7, 0.8], [0.9, 0.1]]))"
      ],
      "metadata": {
        "id": "8fQlTpw2NkKw"
      },
      "execution_count": 6,
      "outputs": []
    },
    {
      "cell_type": "code",
      "source": [
        "w"
      ],
      "metadata": {
        "colab": {
          "base_uri": "https://localhost:8080/"
        },
        "id": "OLNFfQtLiwA6",
        "outputId": "5e343753-6431-49fe-9892-650d11315522"
      },
      "execution_count": 7,
      "outputs": [
        {
          "output_type": "execute_result",
          "data": {
            "text/plain": [
              "[array([[0.1, 0.2],\n",
              "        [0.3, 0.4],\n",
              "        [0.5, 0.6]]), array([[0.7, 0.8],\n",
              "        [0.9, 0.1]])]"
            ]
          },
          "metadata": {},
          "execution_count": 7
        }
      ]
    },
    {
      "cell_type": "code",
      "source": [
        "b = []"
      ],
      "metadata": {
        "id": "DbjwRDZPeIIL"
      },
      "execution_count": 8,
      "outputs": []
    },
    {
      "cell_type": "code",
      "source": [
        "b.append(np.array([[0.5]]))"
      ],
      "metadata": {
        "id": "Ab3weN7hirus"
      },
      "execution_count": 9,
      "outputs": []
    },
    {
      "cell_type": "code",
      "source": [
        "b.append(np.array([[0.3]]))"
      ],
      "metadata": {
        "id": "qL3Z6bLyi0ZN"
      },
      "execution_count": 10,
      "outputs": []
    },
    {
      "cell_type": "code",
      "source": [
        "b"
      ],
      "metadata": {
        "id": "y1JUp8PAiwjV",
        "outputId": "666e5b26-b99d-44ca-cbf1-4e5221059b56",
        "colab": {
          "base_uri": "https://localhost:8080/"
        }
      },
      "execution_count": 11,
      "outputs": [
        {
          "output_type": "execute_result",
          "data": {
            "text/plain": [
              "[array([[0.5]]), array([[0.3]])]"
            ]
          },
          "metadata": {},
          "execution_count": 11
        }
      ]
    },
    {
      "cell_type": "code",
      "source": [
        "class cost_function:\n",
        "  # 예측값\n",
        "  predict = []\n",
        "  # 타겟값\n",
        "  target = []\n",
        "\n",
        "  # 오차 제곱합\n",
        "  def errer_squared_sum(self, predict, target):\n",
        "    self.predict = predict\n",
        "    self.target = target\n",
        "\n",
        "    error_cost = np.sum(0.5*((predict - target)**2))\n",
        "    return error_cost\n",
        "\n",
        "  # 오차 제곱합 미분 함수\n",
        "  def diff_error_squared_sum(self):\n",
        "    return self.predict - self.target"
      ],
      "metadata": {
        "id": "G0nD-WVBMq_G"
      },
      "execution_count": 12,
      "outputs": []
    },
    {
      "cell_type": "code",
      "source": [
        "class activation:\n",
        "  def sigmoid(self, x):\n",
        "    return 1 / (1+np.e**-x)\n",
        "  \n",
        "  def sigmoid_diff(self, x):\n",
        "  # 활성화 함수의 계산 값이 예측값이다.\n",
        "    return x * (1 - x)"
      ],
      "metadata": {
        "id": "eZ-6cSrDeLar"
      },
      "execution_count": 13,
      "outputs": []
    },
    {
      "cell_type": "code",
      "execution_count": 14,
      "metadata": {
        "id": "mj1m2ApBdPrL"
      },
      "outputs": [],
      "source": [
        "class MLP:\n",
        "  input_data = []\n",
        "  weight = []\n",
        "  bias = []\n",
        "    \n",
        "  node_input = []\n",
        "  node_output = []\n",
        "\n",
        "  predict = []\n",
        "  target = []\n",
        "\n",
        "  delta = []\n",
        "\n",
        "  cost_function1 = cost_function()\n",
        "  activation1 = activation()\n",
        "\n",
        "  weight_update = []\n",
        "  \n",
        "  #순전파 계산산\n",
        "  def forward_cal(self, input, w, b):\n",
        "    #가중치와 편향 값의 지정\n",
        "    self.weight = w\n",
        "    self.bias = b\n",
        "        \n",
        "    #데이터 입력값이 입력층의 노드의 출력이 됨\n",
        "    output = input\n",
        "    self.node_output.append(output)\n",
        "        \n",
        "    #3차원 배열 형태의 가중치의 층 갯수만큼 순전파 연산의 반복\n",
        "    for i in range(len(w)):\n",
        "      #가중치와 노드 출력의 행렬곱연산, 편향값 덧셈\n",
        "      hidden_input = w[i].T @ output + b[i][0]\n",
        "            \n",
        "      #노드 입력과 활성화 함수 연산을 통한 노드 출력 계산\n",
        "      output = self.activation1.sigmoid(hidden_input)\n",
        "            \n",
        "      self.node_output.append(output)\n",
        "      \n",
        "      #최종 연산 결과, 예측값의 저장\n",
        "      self.predict = output\n",
        "\n",
        "    return output\n",
        "\n",
        "  def cost_function(self, target):\n",
        "    self.target = target\n",
        "    return self.cost_function1.errer_squared_sum(self.predict, target)\n",
        "\n",
        "  #델타(노드 변화량에 대한 비용 함수의 변화량 계산)\n",
        "  def cal_delta(self):\n",
        "    #출력층 노드의 변화량에 대한 오차 함수의 변화량 계산\n",
        "    delta = (self.cost_function1.diff_error_squared_sum() * self.activation1.sigmoid_diff(self.predict))\n",
        "    self.delta.append(delta)\n",
        "\n",
        "    #이전층 노드의 delta 값 계산과 함께, 가중치 변화량에 대한 비용 함수의 변화량을 계산한다.\n",
        "    for i in range(len(self.node_output) - 2, -1, -1):\n",
        "\n",
        "      weight_update = (delta @ self.node_output[i].T).T\n",
        "      self.weight_update.append(weight_update)\n",
        "      delta = self.weight[i]@delta\n",
        "      delta = delta * self.activation1.sigmoid_diff(self.node_output[i])\n",
        "      self.delta.append(delta)\n",
        "    \n",
        "  def update_weight(self, learning_rate):\n",
        "    self.weight_update = self.weight_update[::-1]\n",
        "    for i in range(len(self.weight)):\n",
        "      weight = self.weight[i]\n",
        "      weight_update = self.weight_update[i]\n",
        "\n",
        "      self.weight[i] = weight - weight_update * learning_rate\n"
      ]
    },
    {
      "cell_type": "code",
      "source": [
        "mlp = MLP()"
      ],
      "metadata": {
        "id": "LHw-2RbPDdO6"
      },
      "execution_count": 15,
      "outputs": []
    },
    {
      "cell_type": "code",
      "source": [
        "result = mlp.forward_cal(data, w, b)\n",
        "result"
      ],
      "metadata": {
        "colab": {
          "base_uri": "https://localhost:8080/"
        },
        "id": "3SbwE49zFJNz",
        "outputId": "4c5fb35e-6768-4fbc-a203-e24b79fc3253"
      },
      "execution_count": 16,
      "outputs": [
        {
          "output_type": "execute_result",
          "data": {
            "text/plain": [
              "array([[0.86103399],\n",
              "       [0.75879129]])"
            ]
          },
          "metadata": {},
          "execution_count": 16
        }
      ]
    },
    {
      "cell_type": "code",
      "source": [
        "mlp.cost_function(target)"
      ],
      "metadata": {
        "colab": {
          "base_uri": "https://localhost:8080/"
        },
        "id": "761rLRIgM_0C",
        "outputId": "b389b01d-e09d-4e85-f1c1-f348d763759c"
      },
      "execution_count": 17,
      "outputs": [
        {
          "output_type": "execute_result",
          "data": {
            "text/plain": [
              "0.2821757530435978"
            ]
          },
          "metadata": {},
          "execution_count": 17
        }
      ]
    },
    {
      "cell_type": "code",
      "source": [
        "mlp.cal_delta()"
      ],
      "metadata": {
        "id": "87xEzts2rZR7"
      },
      "execution_count": 18,
      "outputs": []
    },
    {
      "cell_type": "code",
      "source": [
        "mlp.delta"
      ],
      "metadata": {
        "id": "lcaNSV0NrbNG",
        "colab": {
          "base_uri": "https://localhost:8080/"
        },
        "outputId": "2ea1a410-cdb6-40bf-8336-1c2db6e06018"
      },
      "execution_count": 19,
      "outputs": [
        {
          "output_type": "execute_result",
          "data": {
            "text/plain": [
              "[array([[0.04319933],\n",
              "        [0.12057664]]), array([[0.00747633],\n",
              "        [0.00174744]]), array([[ 0.        ],\n",
              "        [-0.00588375],\n",
              "        [-0.02871977]])]"
            ]
          },
          "metadata": {},
          "execution_count": 19
        }
      ]
    },
    {
      "cell_type": "code",
      "source": [
        "mlp.weight"
      ],
      "metadata": {
        "id": "yjBPTZCc-3yH",
        "colab": {
          "base_uri": "https://localhost:8080/"
        },
        "outputId": "6cca0b96-0e55-4a0c-d117-d1dc535d3d0f"
      },
      "execution_count": 20,
      "outputs": [
        {
          "output_type": "execute_result",
          "data": {
            "text/plain": [
              "[array([[0.1, 0.2],\n",
              "        [0.3, 0.4],\n",
              "        [0.5, 0.6]]), array([[0.7, 0.8],\n",
              "        [0.9, 0.1]])]"
            ]
          },
          "metadata": {},
          "execution_count": 20
        }
      ]
    },
    {
      "cell_type": "code",
      "source": [
        "mlp.weight_update"
      ],
      "metadata": {
        "id": "GKA64IRz5KeM",
        "colab": {
          "base_uri": "https://localhost:8080/"
        },
        "outputId": "17cd9494-4a4a-4011-dc32-56e443513b28"
      },
      "execution_count": 21,
      "outputs": [
        {
          "output_type": "execute_result",
          "data": {
            "text/plain": [
              "[array([[0.04047892, 0.11298352],\n",
              "        [0.04166268, 0.11628758]]), array([[0.00747633, 0.00174744],\n",
              "        [0.01495265, 0.00349488],\n",
              "        [0.02242898, 0.00524232]])]"
            ]
          },
          "metadata": {},
          "execution_count": 21
        }
      ]
    },
    {
      "cell_type": "code",
      "source": [
        "mlp.delta"
      ],
      "metadata": {
        "id": "n89NA2QYOF6Z",
        "outputId": "f6697ae8-1dc7-4f99-a665-3df56ecc2d33",
        "colab": {
          "base_uri": "https://localhost:8080/"
        }
      },
      "execution_count": 22,
      "outputs": [
        {
          "output_type": "execute_result",
          "data": {
            "text/plain": [
              "[array([[0.04319933],\n",
              "        [0.12057664]]), array([[0.00747633],\n",
              "        [0.00174744]]), array([[ 0.        ],\n",
              "        [-0.00588375],\n",
              "        [-0.02871977]])]"
            ]
          },
          "metadata": {},
          "execution_count": 22
        }
      ]
    },
    {
      "cell_type": "code",
      "source": [
        "mlp.update_weight(0.01)"
      ],
      "metadata": {
        "id": "kv4PosooZL5i"
      },
      "execution_count": 23,
      "outputs": []
    },
    {
      "cell_type": "code",
      "source": [
        "mlp.weight"
      ],
      "metadata": {
        "colab": {
          "base_uri": "https://localhost:8080/"
        },
        "id": "cRBCp-2lZN0y",
        "outputId": "2aecee28-b23e-4c96-f5e7-bb50127825ed"
      },
      "execution_count": 24,
      "outputs": [
        {
          "output_type": "execute_result",
          "data": {
            "text/plain": [
              "[array([[0.09992524, 0.19998253],\n",
              "        [0.29985047, 0.39996505],\n",
              "        [0.49977571, 0.59994758]]), array([[0.69959521, 0.79887016],\n",
              "        [0.89958337, 0.09883712]])]"
            ]
          },
          "metadata": {},
          "execution_count": 24
        }
      ]
    },
    {
      "cell_type": "code",
      "source": [
        "mlp2 = MLP()"
      ],
      "metadata": {
        "id": "i0T2SWxWZO44"
      },
      "execution_count": 25,
      "outputs": []
    },
    {
      "cell_type": "code",
      "source": [
        "mlp2.forward_cal(data, mlp.weight, mlp.bias)"
      ],
      "metadata": {
        "colab": {
          "base_uri": "https://localhost:8080/"
        },
        "id": "8jpu1l5YF9dm",
        "outputId": "7c681f10-76a9-4580-c3d3-d87735278f93"
      },
      "execution_count": 28,
      "outputs": [
        {
          "output_type": "execute_result",
          "data": {
            "text/plain": [
              "array([[0.86093442],\n",
              "       [0.75838284]])"
            ]
          },
          "metadata": {},
          "execution_count": 28
        }
      ]
    },
    {
      "cell_type": "code",
      "source": [
        "mlp2.cost_function(target)"
      ],
      "metadata": {
        "colab": {
          "base_uri": "https://localhost:8080/"
        },
        "id": "dOI4S0AtGFY8",
        "outputId": "b27bddd9-e40b-46ab-948a-f2bd76631ee1"
      },
      "execution_count": 30,
      "outputs": [
        {
          "output_type": "execute_result",
          "data": {
            "text/plain": [
              "0.28187080575359613"
            ]
          },
          "metadata": {},
          "execution_count": 30
        }
      ]
    },
    {
      "cell_type": "code",
      "source": [],
      "metadata": {
        "id": "9OFMv2r1GgTL"
      },
      "execution_count": null,
      "outputs": []
    }
  ]
}