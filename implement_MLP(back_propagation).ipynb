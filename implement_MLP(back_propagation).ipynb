{
  "nbformat": 4,
  "nbformat_minor": 0,
  "metadata": {
    "colab": {
      "provenance": []
    },
    "kernelspec": {
      "name": "python3",
      "display_name": "Python 3"
    },
    "language_info": {
      "name": "python"
    }
  },
  "cells": [
    {
      "cell_type": "code",
      "execution_count": 165,
      "metadata": {
        "id": "VV1YFBuM-x-u"
      },
      "outputs": [],
      "source": [
        "import numpy as np"
      ]
    },
    {
      "cell_type": "markdown",
      "source": [
        "입력값과 임의의 타겟값의 지정"
      ],
      "metadata": {
        "id": "nPGhJkoLA7AR"
      }
    },
    {
      "cell_type": "code",
      "source": [
        "data = np.array(([1],[2],[3]))\n",
        "data"
      ],
      "metadata": {
        "colab": {
          "base_uri": "https://localhost:8080/"
        },
        "id": "qTjBHhDL_IVo",
        "outputId": "94b3a793-db47-4b97-b0eb-d051050fed9d"
      },
      "execution_count": 166,
      "outputs": [
        {
          "output_type": "execute_result",
          "data": {
            "text/plain": [
              "array([[1],\n",
              "       [2],\n",
              "       [3]])"
            ]
          },
          "metadata": {},
          "execution_count": 166
        }
      ]
    },
    {
      "cell_type": "code",
      "source": [
        "target = np.array(([0.5],[0.1]))\n",
        "target"
      ],
      "metadata": {
        "colab": {
          "base_uri": "https://localhost:8080/"
        },
        "id": "U0irQbth_pG3",
        "outputId": "ab3fdc1b-4f96-47ba-d2d9-a3382d39316c"
      },
      "execution_count": 167,
      "outputs": [
        {
          "output_type": "execute_result",
          "data": {
            "text/plain": [
              "array([[0.5],\n",
              "       [0.1]])"
            ]
          },
          "metadata": {},
          "execution_count": 167
        }
      ]
    },
    {
      "cell_type": "markdown",
      "source": [
        "임의의 가중치 지정"
      ],
      "metadata": {
        "id": "zCuqhvEMA96W"
      }
    },
    {
      "cell_type": "code",
      "source": [
        "w = []"
      ],
      "metadata": {
        "id": "Um8L4h6FNira"
      },
      "execution_count": 168,
      "outputs": []
    },
    {
      "cell_type": "code",
      "source": [
        "w.append(np.array([[0.1, 0.2], [0.3, 0.4], [0.5, 0.6]]))"
      ],
      "metadata": {
        "id": "6mmkcoQNNOxa"
      },
      "execution_count": 169,
      "outputs": []
    },
    {
      "cell_type": "code",
      "source": [
        "w.append(np.array([[0.7, 0.8], [0.9, 0.1]]))"
      ],
      "metadata": {
        "id": "8fQlTpw2NkKw"
      },
      "execution_count": 170,
      "outputs": []
    },
    {
      "cell_type": "code",
      "source": [
        "w"
      ],
      "metadata": {
        "colab": {
          "base_uri": "https://localhost:8080/"
        },
        "id": "OLNFfQtLiwA6",
        "outputId": "d19888ee-ee18-4dfa-9e0d-e2402ce17c13"
      },
      "execution_count": 171,
      "outputs": [
        {
          "output_type": "execute_result",
          "data": {
            "text/plain": [
              "[array([[0.1, 0.2],\n",
              "        [0.3, 0.4],\n",
              "        [0.5, 0.6]]), array([[0.7, 0.8],\n",
              "        [0.9, 0.1]])]"
            ]
          },
          "metadata": {},
          "execution_count": 171
        }
      ]
    },
    {
      "cell_type": "code",
      "source": [
        "b = []"
      ],
      "metadata": {
        "id": "DbjwRDZPeIIL"
      },
      "execution_count": 172,
      "outputs": []
    },
    {
      "cell_type": "code",
      "source": [
        "b.append(np.array([[0.5]]))"
      ],
      "metadata": {
        "id": "Ab3weN7hirus"
      },
      "execution_count": 173,
      "outputs": []
    },
    {
      "cell_type": "code",
      "source": [
        "b.append(np.array([[0.3]]))"
      ],
      "metadata": {
        "id": "qL3Z6bLyi0ZN"
      },
      "execution_count": 174,
      "outputs": []
    },
    {
      "cell_type": "code",
      "source": [
        "b"
      ],
      "metadata": {
        "id": "y1JUp8PAiwjV",
        "outputId": "33de1a55-f71d-4c36-dd86-1ecbadc7fabc",
        "colab": {
          "base_uri": "https://localhost:8080/"
        }
      },
      "execution_count": 175,
      "outputs": [
        {
          "output_type": "execute_result",
          "data": {
            "text/plain": [
              "[array([[0.5]]), array([[0.3]])]"
            ]
          },
          "metadata": {},
          "execution_count": 175
        }
      ]
    },
    {
      "cell_type": "code",
      "source": [
        "class cost_function:\n",
        "  # 예측값\n",
        "  predict = []\n",
        "  # 타겟값\n",
        "  target = []\n",
        "\n",
        "  # 오차 제곱합\n",
        "  def errer_squared_sum(self, predict, target):\n",
        "    self.predict = predict\n",
        "    self.target = target\n",
        "\n",
        "    error_cost = np.sum(0.5*((predict - target)**2))\n",
        "    return error_cost\n",
        "\n",
        "  # 오차 제곱합 미분 함수\n",
        "  def diff_error_squared_sum(self):\n",
        "    return self.predict - self.target"
      ],
      "metadata": {
        "id": "G0nD-WVBMq_G"
      },
      "execution_count": 176,
      "outputs": []
    },
    {
      "cell_type": "code",
      "source": [
        "class activation:\n",
        "  def sigmoid(self, x):\n",
        "    return 1 / (1+np.e**-x)\n",
        "  \n",
        "  def sigmoid_diff(self, x):\n",
        "  # 활성화 함수의 계산 값이 예측값이다.\n",
        "    return x * (1 - x)"
      ],
      "metadata": {
        "id": "eZ-6cSrDeLar"
      },
      "execution_count": 177,
      "outputs": []
    },
    {
      "cell_type": "code",
      "execution_count": 178,
      "metadata": {
        "id": "mj1m2ApBdPrL"
      },
      "outputs": [],
      "source": [
        "class MLP:\n",
        "  input_data = []\n",
        "  weight = []\n",
        "  bias = []\n",
        "    \n",
        "  node_input = []\n",
        "  node_output = []\n",
        "\n",
        "  predict = []\n",
        "  target = []\n",
        "\n",
        "  delta = []\n",
        "\n",
        "  cost_function1 = cost_function()\n",
        "  activation1 = activation()\n",
        "\n",
        "  weight_update = []\n",
        "  \n",
        "  #순전파 계산산\n",
        "  def forward_cal(self, input, w, b):\n",
        "    #가중치와 편향 값의 지정\n",
        "    self.weight = w\n",
        "    self.bias = b\n",
        "        \n",
        "    #데이터 입력값이 입력층의 노드의 출력이 됨\n",
        "    output = input\n",
        "    self.node_output.append(output)\n",
        "        \n",
        "    #3차원 배열 형태의 가중치의 층 갯수만큼 순전파 연산의 반복\n",
        "    for i in range(len(w)):\n",
        "      #행렬곱 연산을 위한 numpy_array 변환\n",
        "      w_numpy = np.array(w[i])\n",
        "            \n",
        "      #가중치와 노드 출력의 행렬곱연산, 편향값 덧셈\n",
        "      hidden_input = w_numpy.T @ output + b[i][0]\n",
        "            \n",
        "      #노드 입력과 활성화 함수 연산을 통한 노드 출력 계산\n",
        "      output = self.activation1.sigmoid(hidden_input)\n",
        "            \n",
        "      self.node_output.append(output)\n",
        "      \n",
        "      #최종 연산 결과, 예측값의 저장\n",
        "      self.predict = output\n",
        "\n",
        "    return output\n",
        "\n",
        "  def cost_function(self, target):\n",
        "    self.target = target\n",
        "    return self.cost_function1.errer_squared_sum(self.predict, target)\n",
        "\n",
        "  #델타(노드 변화량에 대한 비용 함수의 변화량 계산)\n",
        "  def cal_delta(self):\n",
        "    #출력층 노드의 변화량에 대한 오차 함수의 변화량 계산\n",
        "    delta = (self.cost_function1.diff_error_squared_sum() * self.activation1.sigmoid_diff(self.predict))\n",
        "    self.delta.append(delta)\n",
        "\n",
        "    for i in range(len(self.node_output) - 2, -1, -1):\n",
        "      weight_update = delta * self.node_output[i]\n",
        "      self.weight_update.append(weight_update)\n",
        "      print(weight_update, \"확인\")\n",
        "      delta = delta * self.weight[i]\n",
        "      print(delta, \"확인2\")\n",
        "      \n"
      ]
    },
    {
      "cell_type": "code",
      "source": [
        "mlp = MLP()"
      ],
      "metadata": {
        "id": "LHw-2RbPDdO6"
      },
      "execution_count": 179,
      "outputs": []
    },
    {
      "cell_type": "code",
      "source": [
        "result = mlp.forward_cal(data, w, b)\n",
        "result"
      ],
      "metadata": {
        "colab": {
          "base_uri": "https://localhost:8080/"
        },
        "id": "3SbwE49zFJNz",
        "outputId": "5c35dd80-6fef-4433-b5cd-08834431d552"
      },
      "execution_count": 180,
      "outputs": [
        {
          "output_type": "execute_result",
          "data": {
            "text/plain": [
              "array([[0.86103399],\n",
              "       [0.75879129]])"
            ]
          },
          "metadata": {},
          "execution_count": 180
        }
      ]
    },
    {
      "cell_type": "code",
      "source": [
        "mlp.cost_function(target)"
      ],
      "metadata": {
        "colab": {
          "base_uri": "https://localhost:8080/"
        },
        "id": "761rLRIgM_0C",
        "outputId": "4105f43d-1279-4e0e-d7e3-9501cc1c8649"
      },
      "execution_count": 181,
      "outputs": [
        {
          "output_type": "execute_result",
          "data": {
            "text/plain": [
              "0.2821757530435978"
            ]
          },
          "metadata": {},
          "execution_count": 181
        }
      ]
    },
    {
      "cell_type": "code",
      "source": [
        "mlp.cal_delta()"
      ],
      "metadata": {
        "id": "87xEzts2rZR7",
        "colab": {
          "base_uri": "https://localhost:8080/",
          "height": 376
        },
        "outputId": "6ab1681a-f8bd-452f-8948-a76121830244"
      },
      "execution_count": 182,
      "outputs": [
        {
          "output_type": "stream",
          "name": "stdout",
          "text": [
            "[[0.04047892]\n",
            " [0.11628758]] 확인\n",
            "[[0.03023953 0.03455946]\n",
            " [0.10851897 0.01205766]] 확인2\n"
          ]
        },
        {
          "output_type": "error",
          "ename": "ValueError",
          "evalue": "ignored",
          "traceback": [
            "\u001b[0;31m---------------------------------------------------------------------------\u001b[0m",
            "\u001b[0;31mValueError\u001b[0m                                Traceback (most recent call last)",
            "\u001b[0;32m<ipython-input-182-2caabb1c2b3e>\u001b[0m in \u001b[0;36m<module>\u001b[0;34m\u001b[0m\n\u001b[0;32m----> 1\u001b[0;31m \u001b[0mmlp\u001b[0m\u001b[0;34m.\u001b[0m\u001b[0mcal_delta\u001b[0m\u001b[0;34m(\u001b[0m\u001b[0;34m)\u001b[0m\u001b[0;34m\u001b[0m\u001b[0;34m\u001b[0m\u001b[0m\n\u001b[0m",
            "\u001b[0;32m<ipython-input-178-326a32b821d6>\u001b[0m in \u001b[0;36mcal_delta\u001b[0;34m(self)\u001b[0m\n\u001b[1;32m     56\u001b[0m \u001b[0;34m\u001b[0m\u001b[0m\n\u001b[1;32m     57\u001b[0m     \u001b[0;32mfor\u001b[0m \u001b[0mi\u001b[0m \u001b[0;32min\u001b[0m \u001b[0mrange\u001b[0m\u001b[0;34m(\u001b[0m\u001b[0mlen\u001b[0m\u001b[0;34m(\u001b[0m\u001b[0mself\u001b[0m\u001b[0;34m.\u001b[0m\u001b[0mnode_output\u001b[0m\u001b[0;34m)\u001b[0m \u001b[0;34m-\u001b[0m \u001b[0;36m2\u001b[0m\u001b[0;34m,\u001b[0m \u001b[0;34m-\u001b[0m\u001b[0;36m1\u001b[0m\u001b[0;34m,\u001b[0m \u001b[0;34m-\u001b[0m\u001b[0;36m1\u001b[0m\u001b[0;34m)\u001b[0m\u001b[0;34m:\u001b[0m\u001b[0;34m\u001b[0m\u001b[0;34m\u001b[0m\u001b[0m\n\u001b[0;32m---> 58\u001b[0;31m       \u001b[0mweight_update\u001b[0m \u001b[0;34m=\u001b[0m \u001b[0mdelta\u001b[0m \u001b[0;34m*\u001b[0m \u001b[0mself\u001b[0m\u001b[0;34m.\u001b[0m\u001b[0mnode_output\u001b[0m\u001b[0;34m[\u001b[0m\u001b[0mi\u001b[0m\u001b[0;34m]\u001b[0m\u001b[0;34m\u001b[0m\u001b[0;34m\u001b[0m\u001b[0m\n\u001b[0m\u001b[1;32m     59\u001b[0m       \u001b[0mself\u001b[0m\u001b[0;34m.\u001b[0m\u001b[0mweight_update\u001b[0m\u001b[0;34m.\u001b[0m\u001b[0mappend\u001b[0m\u001b[0;34m(\u001b[0m\u001b[0mweight_update\u001b[0m\u001b[0;34m)\u001b[0m\u001b[0;34m\u001b[0m\u001b[0;34m\u001b[0m\u001b[0m\n\u001b[1;32m     60\u001b[0m       \u001b[0mprint\u001b[0m\u001b[0;34m(\u001b[0m\u001b[0mweight_update\u001b[0m\u001b[0;34m,\u001b[0m \u001b[0;34m\"확인\"\u001b[0m\u001b[0;34m)\u001b[0m\u001b[0;34m\u001b[0m\u001b[0;34m\u001b[0m\u001b[0m\n",
            "\u001b[0;31mValueError\u001b[0m: operands could not be broadcast together with shapes (2,2) (3,1) "
          ]
        }
      ]
    },
    {
      "cell_type": "code",
      "source": [
        "mlp.delta"
      ],
      "metadata": {
        "id": "lcaNSV0NrbNG"
      },
      "execution_count": null,
      "outputs": []
    },
    {
      "cell_type": "code",
      "source": [
        "mlp.weight"
      ],
      "metadata": {
        "id": "yjBPTZCc-3yH"
      },
      "execution_count": null,
      "outputs": []
    },
    {
      "cell_type": "code",
      "source": [
        "mlp.delta[0] * mlp.node_output[1]"
      ],
      "metadata": {
        "id": "Xa9hgxzq9ZMC"
      },
      "execution_count": null,
      "outputs": []
    },
    {
      "cell_type": "code",
      "source": [
        "mlp.node_output"
      ],
      "metadata": {
        "id": "s8duAWJr2ndj"
      },
      "execution_count": null,
      "outputs": []
    },
    {
      "cell_type": "code",
      "source": [
        "mlp.node_output[1]"
      ],
      "metadata": {
        "id": "qb4qr5739PEt"
      },
      "execution_count": null,
      "outputs": []
    },
    {
      "cell_type": "code",
      "source": [
        "for i in range(len(mlp.node_output)-2, -1, -1):\n",
        "  print(i)"
      ],
      "metadata": {
        "id": "FAavbu-04X0_"
      },
      "execution_count": null,
      "outputs": []
    },
    {
      "cell_type": "code",
      "source": [],
      "metadata": {
        "id": "GKA64IRz5KeM"
      },
      "execution_count": null,
      "outputs": []
    }
  ]
}