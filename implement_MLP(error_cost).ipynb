{
  "nbformat": 4,
  "nbformat_minor": 0,
  "metadata": {
    "colab": {
      "provenance": []
    },
    "kernelspec": {
      "name": "python3",
      "display_name": "Python 3"
    },
    "language_info": {
      "name": "python"
    }
  },
  "cells": [
    {
      "cell_type": "code",
      "execution_count": 2,
      "metadata": {
        "id": "VV1YFBuM-x-u"
      },
      "outputs": [],
      "source": [
        "import numpy as np"
      ]
    },
    {
      "cell_type": "markdown",
      "source": [
        "입력값과 임의의 타겟값의 지정"
      ],
      "metadata": {
        "id": "nPGhJkoLA7AR"
      }
    },
    {
      "cell_type": "code",
      "source": [
        "data = np.array(([1],[2],[3]))\n",
        "data"
      ],
      "metadata": {
        "colab": {
          "base_uri": "https://localhost:8080/"
        },
        "id": "qTjBHhDL_IVo",
        "outputId": "6688aafb-6688-4d8a-94cd-d080fdb7ec56"
      },
      "execution_count": 3,
      "outputs": [
        {
          "output_type": "execute_result",
          "data": {
            "text/plain": [
              "array([[1],\n",
              "       [2],\n",
              "       [3]])"
            ]
          },
          "metadata": {},
          "execution_count": 3
        }
      ]
    },
    {
      "cell_type": "code",
      "source": [
        "target = np.array(([0.5],[0.1]))\n",
        "target"
      ],
      "metadata": {
        "colab": {
          "base_uri": "https://localhost:8080/"
        },
        "id": "U0irQbth_pG3",
        "outputId": "c199186d-5852-4986-b666-5a72f9363424"
      },
      "execution_count": 4,
      "outputs": [
        {
          "output_type": "execute_result",
          "data": {
            "text/plain": [
              "array([[0.5],\n",
              "       [0.1]])"
            ]
          },
          "metadata": {},
          "execution_count": 4
        }
      ]
    },
    {
      "cell_type": "markdown",
      "source": [
        "임의의 가중치 지정"
      ],
      "metadata": {
        "id": "zCuqhvEMA96W"
      }
    },
    {
      "cell_type": "code",
      "source": [
        "w1 = [[[0.1, 0.2], [0.3, 0.4], [0.5, 0.6]]]\n",
        "w1"
      ],
      "metadata": {
        "colab": {
          "base_uri": "https://localhost:8080/"
        },
        "id": "4B9m38nKqHOK",
        "outputId": "097dfa23-7f07-4877-86df-12a8e0540d70"
      },
      "execution_count": 5,
      "outputs": [
        {
          "output_type": "execute_result",
          "data": {
            "text/plain": [
              "[[[0.1, 0.2], [0.3, 0.4], [0.5, 0.6]]]"
            ]
          },
          "metadata": {},
          "execution_count": 5
        }
      ]
    },
    {
      "cell_type": "code",
      "source": [
        "w2 = [[0.7, 0.8], [0.9, 0.1]]\n",
        "w2"
      ],
      "metadata": {
        "colab": {
          "base_uri": "https://localhost:8080/"
        },
        "id": "rn03Ulw_qXrI",
        "outputId": "81dd8c76-912b-4006-bb40-1bcecfe80f4e"
      },
      "execution_count": 6,
      "outputs": [
        {
          "output_type": "execute_result",
          "data": {
            "text/plain": [
              "[[0.7, 0.8], [0.9, 0.1]]"
            ]
          },
          "metadata": {},
          "execution_count": 6
        }
      ]
    },
    {
      "cell_type": "code",
      "source": [
        "w1.append(w2)\n",
        "w1"
      ],
      "metadata": {
        "colab": {
          "base_uri": "https://localhost:8080/"
        },
        "id": "zrkt0XvPqRHq",
        "outputId": "dc313ac6-a1b7-4e02-dde1-efffaad45a48"
      },
      "execution_count": 7,
      "outputs": [
        {
          "output_type": "execute_result",
          "data": {
            "text/plain": [
              "[[[0.1, 0.2], [0.3, 0.4], [0.5, 0.6]], [[0.7, 0.8], [0.9, 0.1]]]"
            ]
          },
          "metadata": {},
          "execution_count": 7
        }
      ]
    },
    {
      "cell_type": "code",
      "source": [
        "w = w1\n",
        "w"
      ],
      "metadata": {
        "colab": {
          "base_uri": "https://localhost:8080/"
        },
        "id": "B69v13USsQQM",
        "outputId": "16e27133-ad1f-4351-cf3c-0a5ff3bd4623"
      },
      "execution_count": 8,
      "outputs": [
        {
          "output_type": "execute_result",
          "data": {
            "text/plain": [
              "[[[0.1, 0.2], [0.3, 0.4], [0.5, 0.6]], [[0.7, 0.8], [0.9, 0.1]]]"
            ]
          },
          "metadata": {},
          "execution_count": 8
        }
      ]
    },
    {
      "cell_type": "code",
      "source": [
        "b = [[0.5],[0.3]]\n",
        "b"
      ],
      "metadata": {
        "id": "DbjwRDZPeIIL",
        "outputId": "25b37da1-a5ae-4e78-f6d3-5d42d4a5b9f1",
        "colab": {
          "base_uri": "https://localhost:8080/"
        }
      },
      "execution_count": 9,
      "outputs": [
        {
          "output_type": "execute_result",
          "data": {
            "text/plain": [
              "[[0.5], [0.3]]"
            ]
          },
          "metadata": {},
          "execution_count": 9
        }
      ]
    },
    {
      "cell_type": "code",
      "source": [
        "class cost_function:\n",
        "  def errer_squared_sum(self, predict, target):\n",
        "    error_cost = np.sum(0.5*((predict - target)**2))\n",
        "    return error_cost"
      ],
      "metadata": {
        "id": "G0nD-WVBMq_G"
      },
      "execution_count": 21,
      "outputs": []
    },
    {
      "cell_type": "code",
      "source": [
        "class activation:\n",
        "  def sigmoid(self, x):\n",
        "    return 1 / (1+np.e**-x)\n",
        "  \n",
        "  def sigmoid_diff(self, x):\n",
        "  # 활성화 함수의 계산 값이 예측값이다.\n",
        "    return x * (1 - x)"
      ],
      "metadata": {
        "id": "eZ-6cSrDeLar"
      },
      "execution_count": 22,
      "outputs": []
    },
    {
      "cell_type": "code",
      "execution_count": 23,
      "metadata": {
        "id": "mj1m2ApBdPrL"
      },
      "outputs": [],
      "source": [
        "class MLP:\n",
        "  input_data = []\n",
        "  weight = []\n",
        "  bias = []\n",
        "    \n",
        "  node_input = []\n",
        "  node_output = []\n",
        "\n",
        "  predict = []\n",
        "\n",
        "  cost_function1 = cost_function()\n",
        "  activation1 = activation()\n",
        "    \n",
        "  def forward_cal(self, input, w, b):\n",
        "    #가중치와 편향 값의 지정\n",
        "    self.w = w\n",
        "    self.b = b\n",
        "        \n",
        "    #데이터 입력값이 입력층의 노드의 출력이 됨\n",
        "    output = input\n",
        "    self.node_output.append(output)\n",
        "        \n",
        "    #3차원 배열 형태의 가중치의 층 갯수만큼 순전파 연산의 반복\n",
        "    for i in range(len(w)):\n",
        "      #행렬곱 연산을 위한 numpy_array 변환\n",
        "      w_numpy = np.array(w[i])\n",
        "            \n",
        "      #가중치와 노드 출력의 행렬곱연산, 편향값 덧셈\n",
        "      hidden_input = w_numpy.T @ output + b[i][0]\n",
        "            \n",
        "      #노드 입력과 활성화 함수 연산을 통한 노드 출력 계산\n",
        "      output = self.activation1.sigmoid(hidden_input)\n",
        "            \n",
        "      self.node_output.append(output)\n",
        "      \n",
        "      #최종 연산 결과, 예측값의 저장\n",
        "      self.predict = output\n",
        "\n",
        "    return output\n",
        "\n",
        "  def cost_function(self, target):\n",
        "    a = self.cost_function1.errer_squared_sum(self.predict, target)\n",
        "    return a"
      ]
    },
    {
      "cell_type": "code",
      "source": [
        "mlp = MLP()"
      ],
      "metadata": {
        "id": "LHw-2RbPDdO6"
      },
      "execution_count": 24,
      "outputs": []
    },
    {
      "cell_type": "code",
      "source": [
        "result = mlp.forward_cal(data, w, b)\n",
        "result"
      ],
      "metadata": {
        "colab": {
          "base_uri": "https://localhost:8080/"
        },
        "id": "3SbwE49zFJNz",
        "outputId": "1659e15c-68b0-4ea3-a673-5048e7ee8a08"
      },
      "execution_count": 25,
      "outputs": [
        {
          "output_type": "execute_result",
          "data": {
            "text/plain": [
              "array([[0.86103399],\n",
              "       [0.75879129]])"
            ]
          },
          "metadata": {},
          "execution_count": 25
        }
      ]
    },
    {
      "cell_type": "code",
      "source": [
        "mlp.cost_function(target)"
      ],
      "metadata": {
        "colab": {
          "base_uri": "https://localhost:8080/"
        },
        "id": "761rLRIgM_0C",
        "outputId": "6db4efdd-9678-436a-d076-7303fc5a59c7"
      },
      "execution_count": 26,
      "outputs": [
        {
          "output_type": "execute_result",
          "data": {
            "text/plain": [
              "0.2821757530435978"
            ]
          },
          "metadata": {},
          "execution_count": 26
        }
      ]
    },
    {
      "cell_type": "code",
      "source": [],
      "metadata": {
        "id": "yIOgiyX4NvsN"
      },
      "execution_count": 26,
      "outputs": []
    }
  ]
}