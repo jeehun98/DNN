{
  "nbformat": 4,
  "nbformat_minor": 0,
  "metadata": {
    "colab": {
      "provenance": []
    },
    "kernelspec": {
      "name": "python3",
      "display_name": "Python 3"
    },
    "language_info": {
      "name": "python"
    }
  },
  "cells": [
    {
      "cell_type": "code",
      "execution_count": 1,
      "metadata": {
        "id": "tmiMCncq1Sj_"
      },
      "outputs": [],
      "source": [
        "import numpy as np"
      ]
    },
    {
      "cell_type": "code",
      "source": [
        "import sympy"
      ],
      "metadata": {
        "id": "46_qwvI9VstQ"
      },
      "execution_count": 2,
      "outputs": []
    },
    {
      "cell_type": "code",
      "source": [
        "perch_length = np.array(\n",
        "    [8.4, 13.7, 15.0, 16.2, 17.4, 18.0, 18.7, 19.0, 19.6, 20.0, \n",
        "     21.0, 21.0, 21.0, 21.3, 22.0, 22.0, 22.0, 22.0, 22.0, 22.5, \n",
        "     22.5, 22.7, 23.0, 23.5, 24.0, 24.0, 24.6, 25.0, 25.6, 26.5, \n",
        "     27.3, 27.5, 27.5, 27.5, 28.0, 28.7, 30.0, 32.8, 34.5, 35.0, \n",
        "     36.5, 36.0, 37.0, 37.0, 39.0, 39.0, 39.0, 40.0, 40.0, 40.0, \n",
        "     40.0, 42.0, 43.0, 43.0, 43.5, 44.0]\n",
        "     )\n",
        "perch_weight = np.array(\n",
        "    [5.9, 32.0, 40.0, 51.5, 70.0, 100.0, 78.0, 80.0, 85.0, 85.0, \n",
        "     110.0, 115.0, 125.0, 130.0, 120.0, 120.0, 130.0, 135.0, 110.0, \n",
        "     130.0, 150.0, 145.0, 150.0, 170.0, 225.0, 145.0, 188.0, 180.0, \n",
        "     197.0, 218.0, 300.0, 260.0, 265.0, 250.0, 250.0, 300.0, 320.0, \n",
        "     514.0, 556.0, 840.0, 685.0, 700.0, 700.0, 690.0, 900.0, 650.0, \n",
        "     820.0, 850.0, 900.0, 1015.0, 820.0, 1100.0, 1000.0, 1100.0, \n",
        "     1000.0, 1000.0]\n",
        "     )"
      ],
      "metadata": {
        "id": "luITXD-QV0_m"
      },
      "execution_count": 3,
      "outputs": []
    },
    {
      "cell_type": "code",
      "source": [
        "input = perch_length[:5].reshape(-1,1)\n",
        "target = perch_weight[:2].reshape(-1,1)\n",
        "\n",
        "input.shape"
      ],
      "metadata": {
        "colab": {
          "base_uri": "https://localhost:8080/"
        },
        "id": "oJEficfNV4hs",
        "outputId": "b28d47e3-e203-4749-87ba-aa26fb4f863e"
      },
      "execution_count": 4,
      "outputs": [
        {
          "output_type": "execute_result",
          "data": {
            "text/plain": [
              "(5, 1)"
            ]
          },
          "metadata": {},
          "execution_count": 4
        }
      ]
    },
    {
      "cell_type": "code",
      "source": [
        "class Dense:\n",
        "  \"\"\"\n",
        "  완전 연결층의 계산\n",
        "  \"\"\"\n",
        "  # 가중치 w\n",
        "  w = []\n",
        "\n",
        "  # 편향 값 bais\n",
        "  bias = []\n",
        "\n",
        "  def cal_dense(self, input, unit, w = [], bias = []):\n",
        "    \"\"\"\n",
        "    args\n",
        "      input : 입력 데이터\n",
        "      unit : 은닉층 노드의 개수\n",
        "    return \n",
        "      각 가중치 별 입력 데이터와의 연산 결과\n",
        "    \"\"\"\n",
        "    # 가중치 w의 생성\n",
        "    if not w:\n",
        "      w = np.random.rand(input.shape[0], unit)\n",
        "    \n",
        "    if not bias:\n",
        "      bias = np.random.rand()\n",
        "\n",
        "    self.w.append(w)\n",
        "    self.bias.append(bias)\n",
        "\n",
        "    print(w)\n",
        "    print(\"확인\")\n",
        "\n",
        "    return w.T.dot(input) + bias"
      ],
      "metadata": {
        "id": "fbg7iQlq7J9v"
      },
      "execution_count": 5,
      "outputs": []
    },
    {
      "cell_type": "code",
      "source": [
        "class Layer:\n",
        "  \"\"\"\n",
        "  MLP 의 층이 Layer에서 완성된다.\n",
        "  \"\"\"\n",
        "  w = []\n",
        "  bias = []\n",
        "\n",
        "  units = []\n",
        "\n",
        "  def dense(self, input, unit, w = [], bias = []):\n",
        "    dense = Dense()\n",
        "    \n",
        "    result = dense.cal_dense(input, unit, w, bias)\n",
        "\n",
        "    self.w.append(dense.w)\n",
        "    self.bias.append(dense.bias)\n",
        "\n",
        "    return result\n",
        "\n",
        "  def add(self, unit):\n",
        "    self.units.append(unit)\n",
        "\n",
        "  def cal_dense(self, input, w = [], bias = []):\n",
        "    layer = Layer()\n",
        "    for i in self.units:\n",
        "      layer.dense(input, i)\n",
        "      self.bias.append(layer.bias)\n",
        "      self.w.append(layer.w)\n"
      ],
      "metadata": {
        "id": "clHjM6UN9KCa"
      },
      "execution_count": 6,
      "outputs": []
    },
    {
      "cell_type": "code",
      "source": [
        "layer = Layer()"
      ],
      "metadata": {
        "id": "htnhYJqj8g3S"
      },
      "execution_count": 7,
      "outputs": []
    },
    {
      "cell_type": "code",
      "source": [
        "layer.add(3)"
      ],
      "metadata": {
        "id": "hCU8cWWb-bA5"
      },
      "execution_count": 8,
      "outputs": []
    },
    {
      "cell_type": "code",
      "source": [
        "layer.add(2)"
      ],
      "metadata": {
        "id": "FZtZbKfl-eoC"
      },
      "execution_count": 9,
      "outputs": []
    },
    {
      "cell_type": "code",
      "source": [
        "layer.units"
      ],
      "metadata": {
        "colab": {
          "base_uri": "https://localhost:8080/"
        },
        "id": "9Cpv6JsJ_Gsn",
        "outputId": "235c5d8b-a153-47dc-fb4a-79b5eb32c415"
      },
      "execution_count": 10,
      "outputs": [
        {
          "output_type": "execute_result",
          "data": {
            "text/plain": [
              "[3, 2]"
            ]
          },
          "metadata": {},
          "execution_count": 10
        }
      ]
    },
    {
      "cell_type": "code",
      "source": [
        "layer.cal_dense(input)"
      ],
      "metadata": {
        "colab": {
          "base_uri": "https://localhost:8080/"
        },
        "id": "4-zT-Kva_Ic-",
        "outputId": "800224bb-966e-4a9e-9bea-d00334265bbe"
      },
      "execution_count": 11,
      "outputs": [
        {
          "output_type": "stream",
          "name": "stdout",
          "text": [
            "[[0.55361919 0.10326803 0.20183276]\n",
            " [0.77347362 0.05282373 0.14634001]\n",
            " [0.84955397 0.84928058 0.34283571]\n",
            " [0.56234416 0.49564779 0.27120385]\n",
            " [0.00839895 0.23663408 0.85563302]]\n",
            "확인\n",
            "[[0.53454119 0.4408105 ]\n",
            " [0.15770347 0.33802785]\n",
            " [0.45785773 0.16992285]\n",
            " [0.79126823 0.74915364]\n",
            " [0.82121428 0.69285917]]\n",
            "확인\n"
          ]
        }
      ]
    },
    {
      "cell_type": "code",
      "source": [
        "layer.w"
      ],
      "metadata": {
        "colab": {
          "base_uri": "https://localhost:8080/"
        },
        "id": "D0igQqT4_yJ7",
        "outputId": "de704cbf-bd39-4e1b-eadb-c593f1a6c5af"
      },
      "execution_count": 12,
      "outputs": [
        {
          "output_type": "execute_result",
          "data": {
            "text/plain": [
              "[[array([[0.55361919, 0.10326803, 0.20183276],\n",
              "         [0.77347362, 0.05282373, 0.14634001],\n",
              "         [0.84955397, 0.84928058, 0.34283571],\n",
              "         [0.56234416, 0.49564779, 0.27120385],\n",
              "         [0.00839895, 0.23663408, 0.85563302]]),\n",
              "  array([[0.53454119, 0.4408105 ],\n",
              "         [0.15770347, 0.33802785],\n",
              "         [0.45785773, 0.16992285],\n",
              "         [0.79126823, 0.74915364],\n",
              "         [0.82121428, 0.69285917]])],\n",
              " [...],\n",
              " [array([[0.55361919, 0.10326803, 0.20183276],\n",
              "         [0.77347362, 0.05282373, 0.14634001],\n",
              "         [0.84955397, 0.84928058, 0.34283571],\n",
              "         [0.56234416, 0.49564779, 0.27120385],\n",
              "         [0.00839895, 0.23663408, 0.85563302]]),\n",
              "  array([[0.53454119, 0.4408105 ],\n",
              "         [0.15770347, 0.33802785],\n",
              "         [0.45785773, 0.16992285],\n",
              "         [0.79126823, 0.74915364],\n",
              "         [0.82121428, 0.69285917]])],\n",
              " [...]]"
            ]
          },
          "metadata": {},
          "execution_count": 12
        }
      ]
    },
    {
      "cell_type": "code",
      "source": [
        "layer.bias"
      ],
      "metadata": {
        "colab": {
          "base_uri": "https://localhost:8080/"
        },
        "id": "s7xex0dQAtPx",
        "outputId": "8ffa04e2-1f20-4e61-cca1-78316759e628"
      },
      "execution_count": 13,
      "outputs": [
        {
          "output_type": "execute_result",
          "data": {
            "text/plain": [
              "[[0.6356708794779734, 0.9297794124820543],\n",
              " [...],\n",
              " [0.6356708794779734, 0.9297794124820543],\n",
              " [...]]"
            ]
          },
          "metadata": {},
          "execution_count": 13
        }
      ]
    },
    {
      "cell_type": "code",
      "source": [
        "len(layer.bias)"
      ],
      "metadata": {
        "colab": {
          "base_uri": "https://localhost:8080/"
        },
        "id": "UAnNGio9AvZ4",
        "outputId": "bcdba805-8601-4fef-dded-15468f1f1c88"
      },
      "execution_count": 16,
      "outputs": [
        {
          "output_type": "execute_result",
          "data": {
            "text/plain": [
              "4"
            ]
          },
          "metadata": {},
          "execution_count": 16
        }
      ]
    },
    {
      "cell_type": "code",
      "source": [
        "len(layer.w)"
      ],
      "metadata": {
        "colab": {
          "base_uri": "https://localhost:8080/"
        },
        "id": "yehqGhmFA4Mk",
        "outputId": "6b3701a6-aaf3-4009-c958-076a7fd3875b"
      },
      "execution_count": 17,
      "outputs": [
        {
          "output_type": "execute_result",
          "data": {
            "text/plain": [
              "4"
            ]
          },
          "metadata": {},
          "execution_count": 17
        }
      ]
    },
    {
      "cell_type": "code",
      "source": [],
      "metadata": {
        "id": "Hyqa_S38BBRV"
      },
      "execution_count": null,
      "outputs": []
    }
  ]
}