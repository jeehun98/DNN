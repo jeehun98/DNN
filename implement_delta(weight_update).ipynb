{
  "nbformat": 4,
  "nbformat_minor": 0,
  "metadata": {
    "colab": {
      "provenance": []
    },
    "kernelspec": {
      "name": "python3",
      "display_name": "Python 3"
    },
    "language_info": {
      "name": "python"
    }
  },
  "cells": [
    {
      "cell_type": "code",
      "execution_count": null,
      "metadata": {
        "id": "o-qhUiDIoveh"
      },
      "outputs": [],
      "source": []
    },
    {
      "cell_type": "code",
      "execution_count": 1,
      "metadata": {
        "id": "tmiMCncq1Sj_"
      },
      "outputs": [],
      "source": [
        "import numpy as np"
      ]
    },
    {
      "cell_type": "code",
      "source": [
        "import sympy"
      ],
      "metadata": {
        "id": "46_qwvI9VstQ"
      },
      "execution_count": 2,
      "outputs": []
    },
    {
      "cell_type": "code",
      "source": [
        "perch_length = np.array(\n",
        "    [8.4, 13.7, 15.0, 16.2, 17.4, 18.0, 18.7, 19.0, 19.6, 20.0, \n",
        "     21.0, 21.0, 21.0, 21.3, 22.0, 22.0, 22.0, 22.0, 22.0, 22.5, \n",
        "     22.5, 22.7, 23.0, 23.5, 24.0, 24.0, 24.6, 25.0, 25.6, 26.5, \n",
        "     27.3, 27.5, 27.5, 27.5, 28.0, 28.7, 30.0, 32.8, 34.5, 35.0, \n",
        "     36.5, 36.0, 37.0, 37.0, 39.0, 39.0, 39.0, 40.0, 40.0, 40.0, \n",
        "     40.0, 42.0, 43.0, 43.0, 43.5, 44.0]\n",
        "     )\n",
        "perch_weight = np.array(\n",
        "    [5.9, 32.0, 40.0, 51.5, 70.0, 100.0, 78.0, 80.0, 85.0, 85.0, \n",
        "     110.0, 115.0, 125.0, 130.0, 120.0, 120.0, 130.0, 135.0, 110.0, \n",
        "     130.0, 150.0, 145.0, 150.0, 170.0, 225.0, 145.0, 188.0, 180.0, \n",
        "     197.0, 218.0, 300.0, 260.0, 265.0, 250.0, 250.0, 300.0, 320.0, \n",
        "     514.0, 556.0, 840.0, 685.0, 700.0, 700.0, 690.0, 900.0, 650.0, \n",
        "     820.0, 850.0, 900.0, 1015.0, 820.0, 1100.0, 1000.0, 1100.0, \n",
        "     1000.0, 1000.0]\n",
        "     )"
      ],
      "metadata": {
        "id": "luITXD-QV0_m"
      },
      "execution_count": 3,
      "outputs": []
    },
    {
      "cell_type": "code",
      "source": [
        "input = perch_length[:5].reshape(-1,1)\n",
        "target = perch_weight[:2].reshape(-1,1)\n",
        "\n",
        "input.shape"
      ],
      "metadata": {
        "colab": {
          "base_uri": "https://localhost:8080/"
        },
        "id": "oJEficfNV4hs",
        "outputId": "4fa85383-b27e-4f5e-d6f9-bc84694cfe06"
      },
      "execution_count": 4,
      "outputs": [
        {
          "output_type": "execute_result",
          "data": {
            "text/plain": [
              "(5, 1)"
            ]
          },
          "metadata": {},
          "execution_count": 4
        }
      ]
    },
    {
      "cell_type": "markdown",
      "source": [
        "활성화 함수와 그 미분값을 미리 정해야 한다."
      ],
      "metadata": {
        "id": "ne3gWbi65ar8"
      }
    },
    {
      "cell_type": "code",
      "source": [
        "class Activation:\n",
        "  \"\"\"\n",
        "  데이터의 활성화 함수 연산 결과를 얻기 위함\n",
        "  추가로 역전파 계산에 필요한 활성화 함수의 미분 함수\n",
        "  \"\"\"\n",
        "  # 활성화 함수\n",
        "  fx = 0\n",
        "  # 활성화 함수의 미분 함수\n",
        "  d_fx = 0\n",
        "\n",
        "  def sigmoid_fun(self, input):\n",
        "    \"\"\"\n",
        "    시그모이드 함수\n",
        "    자연 상수의 지수 함수를 사용한 0~1 사이의 값 출력\n",
        "    Args:\n",
        "      input : 입력값\n",
        "    Return:\n",
        "      0~1 사이의 값\n",
        "    \"\"\"\n",
        "    x = sympy.Symbol('x')\n",
        "    result = []\n",
        "\n",
        "    self.fx = 1/(1+np.e**(-x))\n",
        "\n",
        "    self.d_fx = sympy.diff(self.fx, x)\n",
        "\n",
        "    for i in range(input.shape[0]):\n",
        "      result.append(self.fx.subs([(x, input[i][0])]))\n",
        "\n",
        "    return np.array(result).reshape(-1, 1)\n",
        "\n",
        "  def d_sigmoid_fun(self, input):\n",
        "    \"\"\"\n",
        "    시그모이드 함수의 미분값\n",
        "    arg\n",
        "      input : 입력값\n",
        "    return\n",
        "      시그모이드 미분 함수의 계산 값\n",
        "    \"\"\"\n",
        "    result = []\n",
        "\n",
        "    x = sympy.Symbol('x')\n",
        "\n",
        "    for i in range(input.shape[0]):\n",
        "      result.append(self.d_fx.subs([(x,input[i][0])]))\n",
        "\n",
        "    return np.array(result).reshape(-1, 1)"
      ],
      "metadata": {
        "id": "uG-6NTNW5ZdN"
      },
      "execution_count": 5,
      "outputs": []
    },
    {
      "cell_type": "markdown",
      "source": [
        "오차 함수와 그 미분값의 정의"
      ],
      "metadata": {
        "id": "xBMB78Al5efZ"
      }
    },
    {
      "cell_type": "code",
      "source": [
        "class Error:\n",
        "  \"\"\"\n",
        "  오차 함수와 오차 함수의 미분 함수를 얻을 수 있다.  \n",
        "  \"\"\"\n",
        "  # 오차 함수\n",
        "  fx = 0\n",
        "  \n",
        "  # 오차 함수의 미분값\n",
        "  d_fx = 0\n",
        "  \n",
        "  def RMSE(self, target, predict):\n",
        "    \"\"\"\n",
        "    일반적인 제곱 오차 함수\n",
        "    args:\n",
        "      target : 목표 변수\n",
        "      predict : 예측 변수\n",
        "    return:\n",
        "      제곱 오차 평균 값\n",
        "    \"\"\"\n",
        "    result = (predict - target)**2\n",
        "    self.result = np.mean(result)\n",
        "\n",
        "    t = sympy.Symbol('t')\n",
        "    y = sympy.Symbol('y')\n",
        "\n",
        "    self.fx = 1/2*((y-t)**2)\n",
        "\n",
        "    self.d_fx = sympy.diff(self.fx, y)\n",
        "\n",
        "    return self.result\n",
        "\n",
        "  def d_RMSE(self, target, predict):\n",
        "    \"\"\"\n",
        "    RMSE 의 미분 함수\n",
        "    args\n",
        "      target : 목표 변수\n",
        "      predict : 예측 변수\n",
        "    return:\n",
        "      미분 함수의 계산 값\n",
        "    \"\"\"\n",
        "    result = []\n",
        "\n",
        "    t = sympy.Symbol('t')\n",
        "    y = sympy.Symbol('y')\n",
        "\n",
        "    for i in range(target.shape[0]):\n",
        "      result.append(self.d_fx.subs([(t, target[i][0]), (y, predict[i][0])]))\n",
        "    \n",
        "    return np.array(result).reshape(-1, 1)\n"
      ],
      "metadata": {
        "id": "7zzvCA0C5eBs"
      },
      "execution_count": 6,
      "outputs": []
    },
    {
      "cell_type": "code",
      "source": [
        "class Dense:\n",
        "  \"\"\"\n",
        "  완전 연결층의 계산\n",
        "  \"\"\"\n",
        "  # 가중치 w\n",
        "  w = []\n",
        "\n",
        "  # 편향 값 bais\n",
        "  bias = []\n",
        "\n",
        "  def cal_dense(self, input, unit, w = [], bias = []):\n",
        "    \"\"\"\n",
        "    args\n",
        "      input : 입력 데이터\n",
        "      unit : 은닉층 노드의 개수\n",
        "    return \n",
        "      각 가중치 별 입력 데이터와의 연산 결과\n",
        "    \"\"\"\n",
        "    # 가중치 w의 생성\n",
        "    if not w:\n",
        "      w = np.random.rand(input.shape[0], unit)\n",
        "    \n",
        "    if not bias:\n",
        "      bias = np.random.rand()\n",
        "\n",
        "    self.w.append(w)\n",
        "\n",
        "    self.bias.append(bias)\n",
        "\n",
        "    return w.T.dot(input) + bias"
      ],
      "metadata": {
        "id": "gj1AWF1L3rng"
      },
      "execution_count": 7,
      "outputs": []
    },
    {
      "cell_type": "code",
      "source": [
        "class Delta:\n",
        "  def cal_delta(activation, error):\n",
        "    return 0"
      ],
      "metadata": {
        "id": "PvHLIjtd1joj"
      },
      "execution_count": 8,
      "outputs": []
    },
    {
      "cell_type": "code",
      "source": [
        "dense = Dense()"
      ],
      "metadata": {
        "id": "gL3hPWkf7sLE"
      },
      "execution_count": 9,
      "outputs": []
    },
    {
      "cell_type": "code",
      "source": [
        "hidden_input = dense.cal_dense(input, 3)\n",
        "hidden_input"
      ],
      "metadata": {
        "colab": {
          "base_uri": "https://localhost:8080/"
        },
        "id": "T45Kl3-m7tZG",
        "outputId": "ca157049-504f-471d-ec35-1eee173814ca"
      },
      "execution_count": 10,
      "outputs": [
        {
          "output_type": "execute_result",
          "data": {
            "text/plain": [
              "array([[53.19563707],\n",
              "       [41.35397791],\n",
              "       [48.07734886]])"
            ]
          },
          "metadata": {},
          "execution_count": 10
        }
      ]
    },
    {
      "cell_type": "markdown",
      "source": [
        "행의 개수는 입력의 개수, 열은 은닉층의 개수이다."
      ],
      "metadata": {
        "id": "hE_m2deVR7pM"
      }
    },
    {
      "cell_type": "code",
      "source": [
        "dense.w"
      ],
      "metadata": {
        "colab": {
          "base_uri": "https://localhost:8080/"
        },
        "id": "zmu26iupGOy3",
        "outputId": "2465b388-5400-47a8-b600-63375c925da6"
      },
      "execution_count": 11,
      "outputs": [
        {
          "output_type": "execute_result",
          "data": {
            "text/plain": [
              "[array([[0.35538115, 0.92417174, 0.46410683],\n",
              "        [0.47913906, 0.33268205, 0.61933396],\n",
              "        [0.89320646, 0.80920439, 0.57831959],\n",
              "        [0.77567232, 0.60496196, 0.88791097],\n",
              "        [0.99716969, 0.38869266, 0.70709974]])]"
            ]
          },
          "metadata": {},
          "execution_count": 11
        }
      ]
    },
    {
      "cell_type": "code",
      "source": [
        "dense.bias"
      ],
      "metadata": {
        "colab": {
          "base_uri": "https://localhost:8080/"
        },
        "id": "MYnQmsV99ulu",
        "outputId": "9f8fd154-c93e-41a8-bbe9-bb0d96c7fb98"
      },
      "execution_count": 12,
      "outputs": [
        {
          "output_type": "execute_result",
          "data": {
            "text/plain": [
              "[0.3314892734574625]"
            ]
          },
          "metadata": {},
          "execution_count": 12
        }
      ]
    },
    {
      "cell_type": "code",
      "source": [
        "act = Activation()"
      ],
      "metadata": {
        "id": "fgIt7FSLSEIy"
      },
      "execution_count": 13,
      "outputs": []
    },
    {
      "cell_type": "code",
      "source": [
        "hidden_input"
      ],
      "metadata": {
        "colab": {
          "base_uri": "https://localhost:8080/"
        },
        "id": "7uUe0sUOUBJp",
        "outputId": "9f3c0754-b59c-4eb2-ca44-ca8dc765694c"
      },
      "execution_count": 14,
      "outputs": [
        {
          "output_type": "execute_result",
          "data": {
            "text/plain": [
              "array([[53.19563707],\n",
              "       [41.35397791],\n",
              "       [48.07734886]])"
            ]
          },
          "metadata": {},
          "execution_count": 14
        }
      ]
    },
    {
      "cell_type": "code",
      "source": [
        "hidden_output = act.sigmoid_fun(hidden_input)\n",
        "hidden_output"
      ],
      "metadata": {
        "colab": {
          "base_uri": "https://localhost:8080/"
        },
        "id": "s6IVHAq_Tf_d",
        "outputId": "f311e1b8-a8aa-4fc2-b17d-2f6fd6e6601f"
      },
      "execution_count": 15,
      "outputs": [
        {
          "output_type": "execute_result",
          "data": {
            "text/plain": [
              "array([[1.00000000000000],\n",
              "       [1.00000000000000],\n",
              "       [1.00000000000000]], dtype=object)"
            ]
          },
          "metadata": {},
          "execution_count": 15
        }
      ]
    },
    {
      "cell_type": "code",
      "source": [
        "result_input = dense.cal_dense(input, 2)\n",
        "result_input"
      ],
      "metadata": {
        "colab": {
          "base_uri": "https://localhost:8080/"
        },
        "id": "0fuO0RR2T2vw",
        "outputId": "a7d32bb8-aa1b-4743-d014-92872ba5ddb2"
      },
      "execution_count": 16,
      "outputs": [
        {
          "output_type": "execute_result",
          "data": {
            "text/plain": [
              "array([[40.36678564],\n",
              "       [22.33308955]])"
            ]
          },
          "metadata": {},
          "execution_count": 16
        }
      ]
    },
    {
      "cell_type": "code",
      "source": [
        "result_output = act.sigmoid_fun(result_input)\n",
        "result_output"
      ],
      "metadata": {
        "colab": {
          "base_uri": "https://localhost:8080/"
        },
        "id": "GgdaZqVCV79O",
        "outputId": "5ddad232-a818-46ea-8a38-39c92b39ca7f"
      },
      "execution_count": 17,
      "outputs": [
        {
          "output_type": "execute_result",
          "data": {
            "text/plain": [
              "array([[1.00000000000000],\n",
              "       [0.999999999800077]], dtype=object)"
            ]
          },
          "metadata": {},
          "execution_count": 17
        }
      ]
    },
    {
      "cell_type": "code",
      "source": [
        "err = Error()"
      ],
      "metadata": {
        "id": "QVjM_AStV-nD"
      },
      "execution_count": 18,
      "outputs": []
    },
    {
      "cell_type": "code",
      "source": [
        "result = err.RMSE(target, result_output)"
      ],
      "metadata": {
        "id": "WAXkFMAcZj4G"
      },
      "execution_count": 19,
      "outputs": []
    },
    {
      "cell_type": "markdown",
      "source": [
        "출력층의 델타 계산\n",
        "오차함수 변화량 * 활성화 함수 변화량"
      ],
      "metadata": {
        "id": "rkhunyAojUdN"
      }
    },
    {
      "cell_type": "code",
      "source": [
        "err.d_fx"
      ],
      "metadata": {
        "colab": {
          "base_uri": "https://localhost:8080/",
          "height": 38
        },
        "id": "JYNmwkWJbB4g",
        "outputId": "57446acd-f701-4c45-91b7-d84c4d596540"
      },
      "execution_count": 20,
      "outputs": [
        {
          "output_type": "execute_result",
          "data": {
            "text/plain": [
              "-1.0*t + 1.0*y"
            ],
            "text/latex": "$\\displaystyle - 1.0 t + 1.0 y$"
          },
          "metadata": {},
          "execution_count": 20
        }
      ]
    },
    {
      "cell_type": "code",
      "source": [
        "d_err = err.d_RMSE(target, result_output)\n",
        "d_err"
      ],
      "metadata": {
        "id": "3gp7VxIywoJY",
        "colab": {
          "base_uri": "https://localhost:8080/"
        },
        "outputId": "86ba9d79-e862-4fee-f272-89c5ffcd47aa"
      },
      "execution_count": 21,
      "outputs": [
        {
          "output_type": "execute_result",
          "data": {
            "text/plain": [
              "array([[-4.90000000000000],\n",
              "       [-31.0000000001999]], dtype=object)"
            ]
          },
          "metadata": {},
          "execution_count": 21
        }
      ]
    },
    {
      "cell_type": "code",
      "source": [
        "act.d_fx"
      ],
      "metadata": {
        "colab": {
          "base_uri": "https://localhost:8080/",
          "height": 60
        },
        "id": "CiQXfx1rlREd",
        "outputId": "70c15793-f707-4b62-a6da-447a41aa54b1"
      },
      "execution_count": 22,
      "outputs": [
        {
          "output_type": "execute_result",
          "data": {
            "text/plain": [
              "1.0*2.71828182845905**(-x)/(1 + 2.71828182845905**(-x))**2"
            ],
            "text/latex": "$\\displaystyle \\frac{1.0 \\cdot 2.71828182845905^{- x}}{\\left(1 + 2.71828182845905^{- x}\\right)^{2}}$"
          },
          "metadata": {},
          "execution_count": 22
        }
      ]
    },
    {
      "cell_type": "code",
      "source": [
        "d_act = act.d_sigmoid_fun(result_output)\n",
        "d_act"
      ],
      "metadata": {
        "colab": {
          "base_uri": "https://localhost:8080/"
        },
        "id": "QbIlDnGrkzpi",
        "outputId": "4ca9e4e7-967e-475d-8abb-0fefc6d585e6"
      },
      "execution_count": 23,
      "outputs": [
        {
          "output_type": "execute_result",
          "data": {
            "text/plain": [
              "array([[0.196611933241482],\n",
              "       [0.196611933259646]], dtype=object)"
            ]
          },
          "metadata": {},
          "execution_count": 23
        }
      ]
    },
    {
      "cell_type": "code",
      "source": [
        "delta = d_err * d_act\n",
        "delta"
      ],
      "metadata": {
        "colab": {
          "base_uri": "https://localhost:8080/"
        },
        "id": "6wXQIS76lE0r",
        "outputId": "5e22c170-3542-44d3-c09c-8ad98ab2391f"
      },
      "execution_count": 24,
      "outputs": [
        {
          "output_type": "execute_result",
          "data": {
            "text/plain": [
              "array([[-0.963398472883261],\n",
              "       [-6.09496993108835]], dtype=object)"
            ]
          },
          "metadata": {},
          "execution_count": 24
        }
      ]
    },
    {
      "cell_type": "code",
      "source": [
        "hidden_output"
      ],
      "metadata": {
        "colab": {
          "base_uri": "https://localhost:8080/"
        },
        "id": "g5koTjB2tjjt",
        "outputId": "71a1989c-17f4-4434-9c72-87c912752968"
      },
      "execution_count": 27,
      "outputs": [
        {
          "output_type": "execute_result",
          "data": {
            "text/plain": [
              "array([[1.00000000000000],\n",
              "       [1.00000000000000],\n",
              "       [1.00000000000000]], dtype=object)"
            ]
          },
          "metadata": {},
          "execution_count": 27
        }
      ]
    },
    {
      "cell_type": "code",
      "source": [
        "hidden_w_diff = hidden_output * delta.T\n",
        "hidden_w_diff"
      ],
      "metadata": {
        "colab": {
          "base_uri": "https://localhost:8080/"
        },
        "id": "y8ZXMLM_pDHX",
        "outputId": "43cb101e-d3c9-41a1-a669-09378e1dd8e0"
      },
      "execution_count": 28,
      "outputs": [
        {
          "output_type": "execute_result",
          "data": {
            "text/plain": [
              "array([[-0.963398472883261, -6.09496993108835],\n",
              "       [-0.963398472883261, -6.09496993108835],\n",
              "       [-0.963398472883261, -6.09496993108835]], dtype=object)"
            ]
          },
          "metadata": {},
          "execution_count": 28
        }
      ]
    },
    {
      "cell_type": "code",
      "source": [],
      "metadata": {
        "id": "HgDhU4GEtXeR"
      },
      "execution_count": null,
      "outputs": []
    }
  ]
}