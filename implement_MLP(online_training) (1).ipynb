{
  "nbformat": 4,
  "nbformat_minor": 0,
  "metadata": {
    "colab": {
      "provenance": []
    },
    "kernelspec": {
      "name": "python3",
      "display_name": "Python 3"
    },
    "language_info": {
      "name": "python"
    }
  },
  "cells": [
    {
      "cell_type": "code",
      "execution_count": 20,
      "metadata": {
        "id": "tmiMCncq1Sj_"
      },
      "outputs": [],
      "source": [
        "import numpy as np"
      ]
    },
    {
      "cell_type": "code",
      "source": [
        "import sympy"
      ],
      "metadata": {
        "id": "46_qwvI9VstQ"
      },
      "execution_count": 21,
      "outputs": []
    },
    {
      "cell_type": "code",
      "source": [
        "perch_length = np.array(\n",
        "    [8.4, 13.7, 15.0, 16.2, 17.4, 18.0, 18.7, 19.0, 19.6, 20.0, \n",
        "     21.0, 21.0, 21.0, 21.3, 22.0, 22.0, 22.0, 22.0, 22.0, 22.5, \n",
        "     22.5, 22.7, 23.0, 23.5, 24.0, 24.0, 24.6, 25.0, 25.6, 26.5, \n",
        "     27.3, 27.5, 27.5, 27.5, 28.0, 28.7, 30.0, 32.8, 34.5, 35.0, \n",
        "     36.5, 36.0, 37.0, 37.0, 39.0, 39.0, 39.0, 40.0, 40.0, 40.0, \n",
        "     40.0, 42.0, 43.0, 43.0, 43.5, 44.0]\n",
        "     )\n",
        "perch_weight = np.array(\n",
        "    [5.9, 32.0, 40.0, 51.5, 70.0, 100.0, 78.0, 80.0, 85.0, 85.0, \n",
        "     110.0, 115.0, 125.0, 130.0, 120.0, 120.0, 130.0, 135.0, 110.0, \n",
        "     130.0, 150.0, 145.0, 150.0, 170.0, 225.0, 145.0, 188.0, 180.0, \n",
        "     197.0, 218.0, 300.0, 260.0, 265.0, 250.0, 250.0, 300.0, 320.0, \n",
        "     514.0, 556.0, 840.0, 685.0, 700.0, 700.0, 690.0, 900.0, 650.0, \n",
        "     820.0, 850.0, 900.0, 1015.0, 820.0, 1100.0, 1000.0, 1100.0, \n",
        "     1000.0, 1000.0]\n",
        "     )"
      ],
      "metadata": {
        "id": "luITXD-QV0_m"
      },
      "execution_count": 22,
      "outputs": []
    },
    {
      "cell_type": "code",
      "source": [
        "input = perch_length[:5].reshape(-1,1)\n",
        "target = perch_weight[:2].reshape(-1,1)\n",
        "\n",
        "input.shape"
      ],
      "metadata": {
        "colab": {
          "base_uri": "https://localhost:8080/"
        },
        "id": "oJEficfNV4hs",
        "outputId": "3e82fb18-185f-4c61-9710-6470a32a1702"
      },
      "execution_count": 23,
      "outputs": [
        {
          "output_type": "execute_result",
          "data": {
            "text/plain": [
              "(5, 1)"
            ]
          },
          "metadata": {},
          "execution_count": 23
        }
      ]
    },
    {
      "cell_type": "code",
      "source": [
        "class Layer:\n",
        "  \"\"\"\n",
        "  MLP 의 층이 Layer에서 완성된다.\n",
        "  \"\"\"\n",
        "  w = []\n",
        "  bias = []\n",
        "\n",
        "  units = []\n",
        "\n",
        "  def dense(self, input, unit, w = [], bias = []):\n",
        "    \"\"\"\n",
        "    args\n",
        "      input : 입력 데이터\n",
        "      unit : 은닉층 노드의 개수\n",
        "    return \n",
        "      각 가중치 별 입력 데이터와의 연산 결과\n",
        "    \"\"\"\n",
        "    # 가중치 w의 생성\n",
        "    if not w:\n",
        "      w = np.random.rand(input.shape[0], unit)\n",
        "    \n",
        "    if not bias:\n",
        "      bias = np.random.rand()\n",
        "\n",
        "    self.w.append(w)\n",
        "    self.bias.append(bias)\n",
        "\n",
        "    return w.T.dot(input) + bias\n",
        "\n",
        "  def add(self, unit):\n",
        "    self.units.append(unit)\n",
        "\n",
        "  def cal_dense(self, input, w = [], bias = []):\n",
        "    for i in self.units:\n",
        "      self.dense(input, i)\n",
        "      self.bias.append(self.bias)\n",
        "      self.w.append(self.w)\n"
      ],
      "metadata": {
        "id": "clHjM6UN9KCa"
      },
      "execution_count": 24,
      "outputs": []
    },
    {
      "cell_type": "code",
      "source": [
        "layer = Layer()"
      ],
      "metadata": {
        "id": "htnhYJqj8g3S"
      },
      "execution_count": 25,
      "outputs": []
    },
    {
      "cell_type": "code",
      "source": [
        "layer.add(3)"
      ],
      "metadata": {
        "id": "hCU8cWWb-bA5"
      },
      "execution_count": 26,
      "outputs": []
    },
    {
      "cell_type": "code",
      "source": [
        "layer.add(2)"
      ],
      "metadata": {
        "id": "FZtZbKfl-eoC"
      },
      "execution_count": 27,
      "outputs": []
    },
    {
      "cell_type": "code",
      "source": [
        "layer.units"
      ],
      "metadata": {
        "colab": {
          "base_uri": "https://localhost:8080/"
        },
        "id": "9Cpv6JsJ_Gsn",
        "outputId": "746b53a5-6702-4b43-ff18-a90b4fad303e"
      },
      "execution_count": 28,
      "outputs": [
        {
          "output_type": "execute_result",
          "data": {
            "text/plain": [
              "[3, 2]"
            ]
          },
          "metadata": {},
          "execution_count": 28
        }
      ]
    },
    {
      "cell_type": "code",
      "source": [
        "layer.cal_dense(input)"
      ],
      "metadata": {
        "id": "4-zT-Kva_Ic-"
      },
      "execution_count": 29,
      "outputs": []
    },
    {
      "cell_type": "code",
      "source": [
        "layer.w"
      ],
      "metadata": {
        "colab": {
          "base_uri": "https://localhost:8080/"
        },
        "id": "D0igQqT4_yJ7",
        "outputId": "8725fc0e-c741-45d5-9f2d-1f5a3c87d9a0"
      },
      "execution_count": 30,
      "outputs": [
        {
          "output_type": "execute_result",
          "data": {
            "text/plain": [
              "[array([[0.26621402, 0.86821812, 0.10150118],\n",
              "        [0.29814841, 0.91056585, 0.85266577],\n",
              "        [0.41798077, 0.8701417 , 0.01757067],\n",
              "        [0.32702125, 0.37764567, 0.47075984],\n",
              "        [0.16198903, 0.652785  , 0.65354566]]),\n",
              " [...],\n",
              " array([[0.03673669, 0.05766468],\n",
              "        [0.05456317, 0.54189324],\n",
              "        [0.08116829, 0.90897628],\n",
              "        [0.46373332, 0.7887213 ],\n",
              "        [0.50616773, 0.22191251]]),\n",
              " [...]]"
            ]
          },
          "metadata": {},
          "execution_count": 30
        }
      ]
    },
    {
      "cell_type": "code",
      "source": [
        "layer.bias"
      ],
      "metadata": {
        "colab": {
          "base_uri": "https://localhost:8080/"
        },
        "id": "s7xex0dQAtPx",
        "outputId": "eeafc73a-51fb-4681-cf70-d93b2f50041f"
      },
      "execution_count": 31,
      "outputs": [
        {
          "output_type": "execute_result",
          "data": {
            "text/plain": [
              "[0.7294271430036043, [...], 0.4092280055492804, [...]]"
            ]
          },
          "metadata": {},
          "execution_count": 31
        }
      ]
    },
    {
      "cell_type": "code",
      "source": [
        "len(layer.bias)"
      ],
      "metadata": {
        "colab": {
          "base_uri": "https://localhost:8080/"
        },
        "id": "UAnNGio9AvZ4",
        "outputId": "1d00a372-c024-4c3e-a749-29f80830255b"
      },
      "execution_count": 32,
      "outputs": [
        {
          "output_type": "execute_result",
          "data": {
            "text/plain": [
              "4"
            ]
          },
          "metadata": {},
          "execution_count": 32
        }
      ]
    },
    {
      "cell_type": "code",
      "source": [
        "len(layer.w)"
      ],
      "metadata": {
        "colab": {
          "base_uri": "https://localhost:8080/"
        },
        "id": "yehqGhmFA4Mk",
        "outputId": "cbbdb6d3-6d37-43f9-b3dd-c62fc45cfad5"
      },
      "execution_count": 33,
      "outputs": [
        {
          "output_type": "execute_result",
          "data": {
            "text/plain": [
              "4"
            ]
          },
          "metadata": {},
          "execution_count": 33
        }
      ]
    },
    {
      "cell_type": "code",
      "source": [
        "layer.bias[0]"
      ],
      "metadata": {
        "id": "Hyqa_S38BBRV",
        "colab": {
          "base_uri": "https://localhost:8080/"
        },
        "outputId": "566dae1c-0406-4c8e-9503-6397ec896076"
      },
      "execution_count": 34,
      "outputs": [
        {
          "output_type": "execute_result",
          "data": {
            "text/plain": [
              "0.7294271430036043"
            ]
          },
          "metadata": {},
          "execution_count": 34
        }
      ]
    },
    {
      "cell_type": "code",
      "source": [
        "layer.bias[2]"
      ],
      "metadata": {
        "colab": {
          "base_uri": "https://localhost:8080/"
        },
        "id": "94MlhZLiMVV5",
        "outputId": "24572fff-fc33-4c51-ec56-5c3e3ffab6e5"
      },
      "execution_count": 35,
      "outputs": [
        {
          "output_type": "execute_result",
          "data": {
            "text/plain": [
              "0.4092280055492804"
            ]
          },
          "metadata": {},
          "execution_count": 35
        }
      ]
    },
    {
      "cell_type": "code",
      "source": [],
      "metadata": {
        "id": "gZZAsDgCMWD6"
      },
      "execution_count": 35,
      "outputs": []
    }
  ]
}