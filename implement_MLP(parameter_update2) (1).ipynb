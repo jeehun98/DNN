{
  "nbformat": 4,
  "nbformat_minor": 0,
  "metadata": {
    "colab": {
      "provenance": []
    },
    "kernelspec": {
      "name": "python3",
      "display_name": "Python 3"
    },
    "language_info": {
      "name": "python"
    }
  },
  "cells": [
    {
      "cell_type": "code",
      "execution_count": 1,
      "metadata": {
        "id": "VV1YFBuM-x-u"
      },
      "outputs": [],
      "source": [
        "import numpy as np"
      ]
    },
    {
      "cell_type": "markdown",
      "source": [
        "입력값과 임의의 타겟값의 지정"
      ],
      "metadata": {
        "id": "nPGhJkoLA7AR"
      }
    },
    {
      "cell_type": "code",
      "source": [
        "data = np.array(([1],[2],[3]))\n",
        "data"
      ],
      "metadata": {
        "colab": {
          "base_uri": "https://localhost:8080/"
        },
        "id": "qTjBHhDL_IVo",
        "outputId": "4639953a-e03a-482f-cd97-06e2b0b6d078"
      },
      "execution_count": 2,
      "outputs": [
        {
          "output_type": "execute_result",
          "data": {
            "text/plain": [
              "array([[1],\n",
              "       [2],\n",
              "       [3]])"
            ]
          },
          "metadata": {},
          "execution_count": 2
        }
      ]
    },
    {
      "cell_type": "code",
      "source": [
        "target = np.array(([0.5],[0.1]))\n",
        "target"
      ],
      "metadata": {
        "colab": {
          "base_uri": "https://localhost:8080/"
        },
        "id": "U0irQbth_pG3",
        "outputId": "36820e44-bcb6-4ba3-fa76-1c0970c242b0"
      },
      "execution_count": 3,
      "outputs": [
        {
          "output_type": "execute_result",
          "data": {
            "text/plain": [
              "array([[0.5],\n",
              "       [0.1]])"
            ]
          },
          "metadata": {},
          "execution_count": 3
        }
      ]
    },
    {
      "cell_type": "markdown",
      "source": [
        "임의의 가중치 지정"
      ],
      "metadata": {
        "id": "zCuqhvEMA96W"
      }
    },
    {
      "cell_type": "code",
      "source": [
        "w1 = [[[0.1, 0.2], [0.3, 0.4], [0.5, 0.6]]]\n",
        "w1"
      ],
      "metadata": {
        "colab": {
          "base_uri": "https://localhost:8080/"
        },
        "id": "4B9m38nKqHOK",
        "outputId": "8c56b469-2010-406f-af1a-6b2eb070a17a"
      },
      "execution_count": 4,
      "outputs": [
        {
          "output_type": "execute_result",
          "data": {
            "text/plain": [
              "[[[0.1, 0.2], [0.3, 0.4], [0.5, 0.6]]]"
            ]
          },
          "metadata": {},
          "execution_count": 4
        }
      ]
    },
    {
      "cell_type": "code",
      "source": [
        "w2 = [[0.7, 0.8], [0.9, 0.1]]\n",
        "w2"
      ],
      "metadata": {
        "colab": {
          "base_uri": "https://localhost:8080/"
        },
        "id": "rn03Ulw_qXrI",
        "outputId": "b346ad52-845f-489f-9d50-ab77fd97ad74"
      },
      "execution_count": 5,
      "outputs": [
        {
          "output_type": "execute_result",
          "data": {
            "text/plain": [
              "[[0.7, 0.8], [0.9, 0.1]]"
            ]
          },
          "metadata": {},
          "execution_count": 5
        }
      ]
    },
    {
      "cell_type": "code",
      "source": [
        "w1.append(w2)\n",
        "w1"
      ],
      "metadata": {
        "colab": {
          "base_uri": "https://localhost:8080/"
        },
        "id": "zrkt0XvPqRHq",
        "outputId": "87874463-8a33-4909-cac5-97a010d46e2b"
      },
      "execution_count": 6,
      "outputs": [
        {
          "output_type": "execute_result",
          "data": {
            "text/plain": [
              "[[[0.1, 0.2], [0.3, 0.4], [0.5, 0.6]], [[0.7, 0.8], [0.9, 0.1]]]"
            ]
          },
          "metadata": {},
          "execution_count": 6
        }
      ]
    },
    {
      "cell_type": "code",
      "source": [
        "w = w1\n",
        "w"
      ],
      "metadata": {
        "colab": {
          "base_uri": "https://localhost:8080/"
        },
        "id": "B69v13USsQQM",
        "outputId": "761dac86-6f9e-4164-c491-471f5437ae1d"
      },
      "execution_count": 7,
      "outputs": [
        {
          "output_type": "execute_result",
          "data": {
            "text/plain": [
              "[[[0.1, 0.2], [0.3, 0.4], [0.5, 0.6]], [[0.7, 0.8], [0.9, 0.1]]]"
            ]
          },
          "metadata": {},
          "execution_count": 7
        }
      ]
    },
    {
      "cell_type": "code",
      "source": [
        "w[0]"
      ],
      "metadata": {
        "colab": {
          "base_uri": "https://localhost:8080/"
        },
        "id": "ztSPGCvhuMvd",
        "outputId": "e906fe0d-7d51-44f7-b952-77ddaf22a1ba"
      },
      "execution_count": 8,
      "outputs": [
        {
          "output_type": "execute_result",
          "data": {
            "text/plain": [
              "[[0.1, 0.2], [0.3, 0.4], [0.5, 0.6]]"
            ]
          },
          "metadata": {},
          "execution_count": 8
        }
      ]
    },
    {
      "cell_type": "code",
      "source": [
        "w[1]"
      ],
      "metadata": {
        "colab": {
          "base_uri": "https://localhost:8080/"
        },
        "id": "pz1-xi1TovnN",
        "outputId": "ac1e5f09-f88c-47f7-f821-a6813e9418af"
      },
      "execution_count": 9,
      "outputs": [
        {
          "output_type": "execute_result",
          "data": {
            "text/plain": [
              "[[0.7, 0.8], [0.9, 0.1]]"
            ]
          },
          "metadata": {},
          "execution_count": 9
        }
      ]
    },
    {
      "cell_type": "code",
      "source": [
        "w[0][0]"
      ],
      "metadata": {
        "colab": {
          "base_uri": "https://localhost:8080/"
        },
        "id": "fp2K1d-7uRHv",
        "outputId": "f1e5da40-d48f-4267-e095-7b1562dca869"
      },
      "execution_count": 10,
      "outputs": [
        {
          "output_type": "execute_result",
          "data": {
            "text/plain": [
              "[0.1, 0.2]"
            ]
          },
          "metadata": {},
          "execution_count": 10
        }
      ]
    },
    {
      "cell_type": "code",
      "source": [
        "w[0][0][0]"
      ],
      "metadata": {
        "colab": {
          "base_uri": "https://localhost:8080/"
        },
        "id": "3YWR9gU3ughA",
        "outputId": "25ffbabc-58df-42a9-caa6-89626b152a70"
      },
      "execution_count": 11,
      "outputs": [
        {
          "output_type": "execute_result",
          "data": {
            "text/plain": [
              "0.1"
            ]
          },
          "metadata": {},
          "execution_count": 11
        }
      ]
    },
    {
      "cell_type": "code",
      "source": [
        "b = [[0.5],[0.3]]\n",
        "b"
      ],
      "metadata": {
        "colab": {
          "base_uri": "https://localhost:8080/"
        },
        "id": "tT8IVfoO0vt_",
        "outputId": "ba00b384-f60e-4570-8189-8cc7c9d22b26"
      },
      "execution_count": 12,
      "outputs": [
        {
          "output_type": "execute_result",
          "data": {
            "text/plain": [
              "[[0.5], [0.3]]"
            ]
          },
          "metadata": {},
          "execution_count": 12
        }
      ]
    },
    {
      "cell_type": "code",
      "source": [
        "b[1]"
      ],
      "metadata": {
        "colab": {
          "base_uri": "https://localhost:8080/"
        },
        "id": "VOLPmdDA01aa",
        "outputId": "30ac9487-8e57-4676-efaa-35b4b71f7004"
      },
      "execution_count": 13,
      "outputs": [
        {
          "output_type": "execute_result",
          "data": {
            "text/plain": [
              "[0.3]"
            ]
          },
          "metadata": {},
          "execution_count": 13
        }
      ]
    },
    {
      "cell_type": "code",
      "source": [
        "b[0][0]"
      ],
      "metadata": {
        "colab": {
          "base_uri": "https://localhost:8080/"
        },
        "id": "PpCkueKz03MK",
        "outputId": "80f7dafd-64e9-4b3e-f38b-9bf68c23d6be"
      },
      "execution_count": 14,
      "outputs": [
        {
          "output_type": "execute_result",
          "data": {
            "text/plain": [
              "0.5"
            ]
          },
          "metadata": {},
          "execution_count": 14
        }
      ]
    },
    {
      "cell_type": "markdown",
      "source": [
        "순전파의 계산 과정 - 은닉층 입력"
      ],
      "metadata": {
        "id": "cWwZ8du4B_-_"
      }
    },
    {
      "cell_type": "code",
      "source": [
        "w_array = np.array(w[0])\n",
        "w_array"
      ],
      "metadata": {
        "colab": {
          "base_uri": "https://localhost:8080/"
        },
        "id": "OKM-4XUm3KH8",
        "outputId": "cf788611-1ab9-44c0-8e39-20f52089c061"
      },
      "execution_count": 15,
      "outputs": [
        {
          "output_type": "execute_result",
          "data": {
            "text/plain": [
              "array([[0.1, 0.2],\n",
              "       [0.3, 0.4],\n",
              "       [0.5, 0.6]])"
            ]
          },
          "metadata": {},
          "execution_count": 15
        }
      ]
    },
    {
      "cell_type": "markdown",
      "source": [
        "순전파의 계산 과정 - 은닉층 출력(활성화 함수 연산-시그모이드 함수)"
      ],
      "metadata": {
        "id": "S5XQsZYWDzqX"
      }
    },
    {
      "cell_type": "code",
      "source": [
        "class activation:\n",
        "  def sigmoid(self, x):\n",
        "    return 1 / (1+np.e**-x)\n",
        "  \n",
        "  def sigmoid_diff(self, x):\n",
        "  # 활성화 함수의 계산 값이 예측값이다.\n",
        "    return x * (1 - x)"
      ],
      "metadata": {
        "id": "C8SHQyA52CP4"
      },
      "execution_count": 16,
      "outputs": []
    },
    {
      "cell_type": "code",
      "source": [
        "def forward_cal(input, w, b):\n",
        "  activation1 = activation()\n",
        "  hidden_output = input\n",
        "  hidden_output_array = []\n",
        "  hidden_output_array.append(hidden_output)\n",
        "  \n",
        "  for i in range(len(w)):\n",
        "    w_numpy_array = np.array(w[i])\n",
        "    hidden_input = w_numpy_array.T @ hidden_output + b[i][0]\n",
        "    hidden_output = activation1.sigmoid(hidden_input)\n",
        "    hidden_output_array.append(hidden_output)\n",
        "\n",
        "  predict = hidden_output\n",
        "\n",
        "  return predict, hidden_output_array"
      ],
      "metadata": {
        "id": "UKQDydu9lhhh"
      },
      "execution_count": 17,
      "outputs": []
    },
    {
      "cell_type": "code",
      "source": [
        "predict, hidden_output_array = forward_cal(data, w, b)\n",
        "predict"
      ],
      "metadata": {
        "colab": {
          "base_uri": "https://localhost:8080/"
        },
        "id": "j8B_VjsSmNmy",
        "outputId": "fc50d576-ef3d-4b79-aaf6-75b6ab5d3dae"
      },
      "execution_count": 18,
      "outputs": [
        {
          "output_type": "execute_result",
          "data": {
            "text/plain": [
              "array([[0.86103399],\n",
              "       [0.75879129]])"
            ]
          },
          "metadata": {},
          "execution_count": 18
        }
      ]
    },
    {
      "cell_type": "code",
      "source": [
        "hidden_output_array"
      ],
      "metadata": {
        "colab": {
          "base_uri": "https://localhost:8080/"
        },
        "id": "LcOjHwnnzqYp",
        "outputId": "f5bc4fc3-1484-4457-bcee-86ad7ad4f87f"
      },
      "execution_count": 19,
      "outputs": [
        {
          "output_type": "execute_result",
          "data": {
            "text/plain": [
              "[array([[1],\n",
              "        [2],\n",
              "        [3]]), array([[0.93702664],\n",
              "        [0.96442881]]), array([[0.86103399],\n",
              "        [0.75879129]])]"
            ]
          },
          "metadata": {},
          "execution_count": 19
        }
      ]
    },
    {
      "cell_type": "code",
      "source": [
        "hidden_output_array[0]"
      ],
      "metadata": {
        "colab": {
          "base_uri": "https://localhost:8080/"
        },
        "id": "t54cIq2lzvKJ",
        "outputId": "e9079d78-3e28-4127-d715-6bb61de25711"
      },
      "execution_count": 20,
      "outputs": [
        {
          "output_type": "execute_result",
          "data": {
            "text/plain": [
              "array([[1],\n",
              "       [2],\n",
              "       [3]])"
            ]
          },
          "metadata": {},
          "execution_count": 20
        }
      ]
    },
    {
      "cell_type": "code",
      "source": [
        "hidden_output_array[1]"
      ],
      "metadata": {
        "colab": {
          "base_uri": "https://localhost:8080/"
        },
        "id": "qRHVSL8czxzh",
        "outputId": "4fdb4627-e875-4e76-9647-05c08370cb89"
      },
      "execution_count": 21,
      "outputs": [
        {
          "output_type": "execute_result",
          "data": {
            "text/plain": [
              "array([[0.93702664],\n",
              "       [0.96442881]])"
            ]
          },
          "metadata": {},
          "execution_count": 21
        }
      ]
    },
    {
      "cell_type": "markdown",
      "source": [
        "비용함수의 정의(오차 제곱합)"
      ],
      "metadata": {
        "id": "WIfKUd-vwr3c"
      }
    },
    {
      "cell_type": "code",
      "source": [
        "target"
      ],
      "metadata": {
        "id": "jhrwTXT6TV8n",
        "colab": {
          "base_uri": "https://localhost:8080/"
        },
        "outputId": "45dd2ad5-c938-45cf-feb6-efef9f29799b"
      },
      "execution_count": 22,
      "outputs": [
        {
          "output_type": "execute_result",
          "data": {
            "text/plain": [
              "array([[0.5],\n",
              "       [0.1]])"
            ]
          },
          "metadata": {},
          "execution_count": 22
        }
      ]
    },
    {
      "cell_type": "code",
      "source": [
        "predict"
      ],
      "metadata": {
        "id": "5IpH0TytTX7t",
        "colab": {
          "base_uri": "https://localhost:8080/"
        },
        "outputId": "f891a2c2-18b5-4201-a8ce-ac311959f9bf"
      },
      "execution_count": 23,
      "outputs": [
        {
          "output_type": "execute_result",
          "data": {
            "text/plain": [
              "array([[0.86103399],\n",
              "       [0.75879129]])"
            ]
          },
          "metadata": {},
          "execution_count": 23
        }
      ]
    },
    {
      "cell_type": "code",
      "source": [
        "class cost_function:\n",
        "  def error_squared_sum(self, predict, target):\n",
        "    return 0.5*((predict - target)**2)"
      ],
      "metadata": {
        "id": "ONuhynuSRCWD"
      },
      "execution_count": 24,
      "outputs": []
    },
    {
      "cell_type": "code",
      "source": [
        "cost_function = cost_function()"
      ],
      "metadata": {
        "id": "S1eTwoyVzeeH"
      },
      "execution_count": 25,
      "outputs": []
    },
    {
      "cell_type": "code",
      "source": [
        "cost_function.error_squared_sum(predict, target)"
      ],
      "metadata": {
        "id": "g5z9Gj2D1-jH",
        "colab": {
          "base_uri": "https://localhost:8080/"
        },
        "outputId": "92baf5da-9a22-4c92-f642-9617f421c275"
      },
      "execution_count": 26,
      "outputs": [
        {
          "output_type": "execute_result",
          "data": {
            "text/plain": [
              "array([[0.06517277],\n",
              "       [0.21700298]])"
            ]
          },
          "metadata": {},
          "execution_count": 26
        }
      ]
    },
    {
      "cell_type": "markdown",
      "source": [
        "역전파 계산\n",
        "\n",
        "역전파 계산을 위해서는 미분식을 구할 수 있어야 한다. \n",
        "\n",
        "오차 함수를 정하면서 해당 함수의 미분식을 미리 알고 있으므로 미분식에 대한 함수를 미리 만들 수 있다."
      ],
      "metadata": {
        "id": "KPQAXyPaXhFX"
      }
    },
    {
      "cell_type": "markdown",
      "source": [
        "활성화 함수의 미분함수"
      ],
      "metadata": {
        "id": "CAvI-LpYr4dY"
      }
    },
    {
      "cell_type": "markdown",
      "source": [
        "오차 역전파(델타값 계산 : 노드 입력의 변화에 따른 비용 함수의 변화량)"
      ],
      "metadata": {
        "id": "5iJzkZQWZndz"
      }
    },
    {
      "cell_type": "code",
      "source": [
        "w"
      ],
      "metadata": {
        "colab": {
          "base_uri": "https://localhost:8080/"
        },
        "id": "cOnFEj7hhrQL",
        "outputId": "4045af36-060e-457b-9418-faf54bd7cb2a"
      },
      "execution_count": 27,
      "outputs": [
        {
          "output_type": "execute_result",
          "data": {
            "text/plain": [
              "[[[0.1, 0.2], [0.3, 0.4], [0.5, 0.6]], [[0.7, 0.8], [0.9, 0.1]]]"
            ]
          },
          "metadata": {},
          "execution_count": 27
        }
      ]
    },
    {
      "cell_type": "code",
      "source": [
        "w = w[::-1]\n",
        "w"
      ],
      "metadata": {
        "colab": {
          "base_uri": "https://localhost:8080/"
        },
        "id": "3sIqCPYxjYEQ",
        "outputId": "188df4e7-efc0-45ff-a177-bd1069bd53d3"
      },
      "execution_count": 28,
      "outputs": [
        {
          "output_type": "execute_result",
          "data": {
            "text/plain": [
              "[[[0.7, 0.8], [0.9, 0.1]], [[0.1, 0.2], [0.3, 0.4], [0.5, 0.6]]]"
            ]
          },
          "metadata": {},
          "execution_count": 28
        }
      ]
    },
    {
      "cell_type": "code",
      "source": [
        "b"
      ],
      "metadata": {
        "colab": {
          "base_uri": "https://localhost:8080/"
        },
        "id": "C0TDemVRxHwU",
        "outputId": "ac03a1ea-4734-4ab1-a729-a6c355b08b42"
      },
      "execution_count": 29,
      "outputs": [
        {
          "output_type": "execute_result",
          "data": {
            "text/plain": [
              "[[0.5], [0.3]]"
            ]
          },
          "metadata": {},
          "execution_count": 29
        }
      ]
    },
    {
      "cell_type": "code",
      "source": [
        "b = b[::-1]\n",
        "b"
      ],
      "metadata": {
        "colab": {
          "base_uri": "https://localhost:8080/"
        },
        "id": "RDv2WmZjxIiv",
        "outputId": "f61bf48e-a6aa-4d72-e20a-11aa0e207a8b"
      },
      "execution_count": 30,
      "outputs": [
        {
          "output_type": "execute_result",
          "data": {
            "text/plain": [
              "[[0.3], [0.5]]"
            ]
          },
          "metadata": {},
          "execution_count": 30
        }
      ]
    },
    {
      "cell_type": "code",
      "source": [
        "hidden_output_array = hidden_output_array[::-1]\n",
        "hidden_output_array"
      ],
      "metadata": {
        "colab": {
          "base_uri": "https://localhost:8080/"
        },
        "id": "24yBMzEykGp4",
        "outputId": "0590d6ec-eee0-4e1a-b659-c456124b6dc5"
      },
      "execution_count": 31,
      "outputs": [
        {
          "output_type": "execute_result",
          "data": {
            "text/plain": [
              "[array([[0.86103399],\n",
              "        [0.75879129]]), array([[0.93702664],\n",
              "        [0.96442881]]), array([[1],\n",
              "        [2],\n",
              "        [3]])]"
            ]
          },
          "metadata": {},
          "execution_count": 31
        }
      ]
    },
    {
      "cell_type": "code",
      "source": [
        "def cal_delta(target, predict, w, hidden_output_array):\n",
        "  activation1 = activation()\n",
        "  delta = ((predict - target) * activation1.sigmoid_diff(predict).tolist())\n",
        "  delta_array = []\n",
        "  delta_array.append(delta.tolist())\n",
        "  \n",
        "  # 출력층 이전의 층들에 대한 delta 값을 계산한다.\n",
        "  for i in range(len(w) - 1):\n",
        "    delta = (np.array(delta_array[i]).T @ np.array(w[0]).T).T * activation1.sigmoid_diff(np.array(hidden_output_array[1+i]))\n",
        "    delta_array.append(delta.tolist())\n",
        "  return delta_array"
      ],
      "metadata": {
        "id": "wdKSKg1Xe_QJ"
      },
      "execution_count": 32,
      "outputs": []
    },
    {
      "cell_type": "code",
      "source": [
        "delta_array = cal_delta(target, predict, w, hidden_output_array)\n",
        "delta_array"
      ],
      "metadata": {
        "colab": {
          "base_uri": "https://localhost:8080/"
        },
        "id": "ebSlR9L_kFNb",
        "outputId": "7c7c1f65-de3d-4edb-f0a2-be93e43c18c6"
      },
      "execution_count": 33,
      "outputs": [
        {
          "output_type": "execute_result",
          "data": {
            "text/plain": [
              "[[[0.043199326918126744], [0.1205766380251159]],\n",
              " [[0.007476326694688966], [0.001747440588389323]]]"
            ]
          },
          "metadata": {},
          "execution_count": 33
        }
      ]
    },
    {
      "cell_type": "code",
      "source": [
        "hidden_output_array"
      ],
      "metadata": {
        "colab": {
          "base_uri": "https://localhost:8080/"
        },
        "id": "nNIotZGeev6e",
        "outputId": "7bbca1bb-45fd-4804-8992-0b18bffb5043"
      },
      "execution_count": 34,
      "outputs": [
        {
          "output_type": "execute_result",
          "data": {
            "text/plain": [
              "[array([[0.86103399],\n",
              "        [0.75879129]]), array([[0.93702664],\n",
              "        [0.96442881]]), array([[1],\n",
              "        [2],\n",
              "        [3]])]"
            ]
          },
          "metadata": {},
          "execution_count": 34
        }
      ]
    },
    {
      "cell_type": "code",
      "source": [
        "delta_array[0]"
      ],
      "metadata": {
        "colab": {
          "base_uri": "https://localhost:8080/"
        },
        "id": "PioLH7Iooe8S",
        "outputId": "fe1207d5-6eb5-49cb-bef6-a6b1cf1a2437"
      },
      "execution_count": 35,
      "outputs": [
        {
          "output_type": "execute_result",
          "data": {
            "text/plain": [
              "[[0.043199326918126744], [0.1205766380251159]]"
            ]
          },
          "metadata": {},
          "execution_count": 35
        }
      ]
    },
    {
      "cell_type": "code",
      "source": [
        "np.array(delta_array[0]).shape"
      ],
      "metadata": {
        "colab": {
          "base_uri": "https://localhost:8080/"
        },
        "id": "xf7Lg0ERosHv",
        "outputId": "0103a344-afa9-40cf-e129-55dc82fb6204"
      },
      "execution_count": 36,
      "outputs": [
        {
          "output_type": "execute_result",
          "data": {
            "text/plain": [
              "(2, 1)"
            ]
          },
          "metadata": {},
          "execution_count": 36
        }
      ]
    },
    {
      "cell_type": "markdown",
      "source": [
        "해당 델타값은 출력층의 각 노드들의 입력값의 변화량에 따른 오차 함수의 변화량이다."
      ],
      "metadata": {
        "id": "61ovAlaKa0IG"
      }
    },
    {
      "cell_type": "markdown",
      "source": [
        "델타값을 통해 가중치 변화량에 따른 오차함수의 변화량을 구할 수 있다."
      ],
      "metadata": {
        "id": "ibcQiyc8bDSu"
      }
    },
    {
      "cell_type": "markdown",
      "source": [
        "가중치 변화에 따른 오차함수의 변화량은 이전 노드의 출력값이다."
      ],
      "metadata": {
        "id": "HN7hGyDKbOPD"
      }
    },
    {
      "cell_type": "code",
      "source": [
        "def cal_w_update(delta_array, hidden_output_array, b):\n",
        "  w_diff = []\n",
        "  b_diff = []\n",
        "  for i in range(len(delta_array)):\n",
        "    w_diff_list = (np.array(delta_array[i]) @ np.array(hidden_output_array[i+1]).T).tolist()\n",
        "    w_diff.append(w_diff_list)\n",
        "\n",
        "    b_diff_list = np.sum(np.array(delta_array[i]) * np.array(b[i]))\n",
        "    b_diff.append(b_diff_list)\n",
        "  \n",
        "  return w_diff, b_diff"
      ],
      "metadata": {
        "id": "b1fv5YpbrqK4"
      },
      "execution_count": 37,
      "outputs": []
    },
    {
      "cell_type": "code",
      "source": [
        "w_diff, b_diff = cal_w_update(delta_array, hidden_output_array, b)"
      ],
      "metadata": {
        "id": "WLXd6gyct8fB"
      },
      "execution_count": 38,
      "outputs": []
    },
    {
      "cell_type": "code",
      "source": [
        "w_diff"
      ],
      "metadata": {
        "colab": {
          "base_uri": "https://localhost:8080/"
        },
        "id": "wuXWc6lQxA7T",
        "outputId": "f097b5a7-e07e-45bc-c7b1-3b594d7dc44a"
      },
      "execution_count": 39,
      "outputs": [
        {
          "output_type": "execute_result",
          "data": {
            "text/plain": [
              "[[[0.040478920322688954, 0.04166267548387157],\n",
              "  [0.11298352246660469, 0.11628758361206636]],\n",
              " [[0.007476326694688966, 0.014952653389377932, 0.0224289800840669],\n",
              "  [0.001747440588389323, 0.003494881176778646, 0.005242321765167969]]]"
            ]
          },
          "metadata": {},
          "execution_count": 39
        }
      ]
    },
    {
      "cell_type": "code",
      "source": [
        "b_diff"
      ],
      "metadata": {
        "colab": {
          "base_uri": "https://localhost:8080/"
        },
        "id": "e-Iuaf7VxTEn",
        "outputId": "b9e72a59-fc6b-4269-c457-4d972857d678"
      },
      "execution_count": 40,
      "outputs": [
        {
          "output_type": "execute_result",
          "data": {
            "text/plain": [
              "[0.04913278948297279, 0.0046118836415391445]"
            ]
          },
          "metadata": {},
          "execution_count": 40
        }
      ]
    },
    {
      "cell_type": "markdown",
      "source": [
        "은닉층-출력층 사이 가중치 변화량에 따른 오차 함수의 변화량을 구할 수 있었다."
      ],
      "metadata": {
        "id": "hBnFYUXhdSIX"
      }
    },
    {
      "cell_type": "markdown",
      "source": [
        "delta 값을 이용하여 입력-은닉층까지의 가중치 변화량에 따른 오차 함수의 변화량을 계산한다."
      ],
      "metadata": {
        "id": "lBxph0DYdYgq"
      }
    },
    {
      "cell_type": "markdown",
      "source": [
        "각 은닉노드의 출력에 대한 오차 함수의 변화량을 계산하기 위해서는 delta 값에 노드 입력에 대한 변화량을 곱해준다."
      ],
      "metadata": {
        "id": "pDVtdaTidujo"
      }
    },
    {
      "cell_type": "markdown",
      "source": [
        "이는 각 은닉노드 출력의 변화에 따른 오차 함수의 변화량이다."
      ],
      "metadata": {
        "id": "g89ZZzlPemtX"
      }
    },
    {
      "cell_type": "markdown",
      "source": [
        "은닉노드의 입력의 변화에 따른 오차 함수의 변화량, 즉 delta1 을 계산한다."
      ],
      "metadata": {
        "id": "8Tk1lRCwfaRE"
      }
    },
    {
      "cell_type": "markdown",
      "source": [
        "이후 동일하게 은닉 노드의 입력, 즉 데이터값을 통해 입력-은닉 노드의 가중치 변화량에 대한 오차 함수의 변화량을 계산한다."
      ],
      "metadata": {
        "id": "TXDBw29VgHGx"
      }
    },
    {
      "cell_type": "code",
      "source": [
        "w_diff = w_diff[::-1]\n",
        "w_diff"
      ],
      "metadata": {
        "id": "V_1G1mNsIMpM",
        "colab": {
          "base_uri": "https://localhost:8080/"
        },
        "outputId": "dba231d1-0c70-489f-f7ef-dc0bff7277de"
      },
      "execution_count": 41,
      "outputs": [
        {
          "output_type": "execute_result",
          "data": {
            "text/plain": [
              "[[[0.007476326694688966, 0.014952653389377932, 0.0224289800840669],\n",
              "  [0.001747440588389323, 0.003494881176778646, 0.005242321765167969]],\n",
              " [[0.040478920322688954, 0.04166267548387157],\n",
              "  [0.11298352246660469, 0.11628758361206636]]]"
            ]
          },
          "metadata": {},
          "execution_count": 41
        }
      ]
    },
    {
      "cell_type": "code",
      "source": [
        "b_diff = b_diff[::-1]\n",
        "b_diff"
      ],
      "metadata": {
        "colab": {
          "base_uri": "https://localhost:8080/"
        },
        "id": "JZ5ZVy0Q1_ql",
        "outputId": "dfa5a94c-a561-4d61-d7f1-a28df5176bc7"
      },
      "execution_count": 42,
      "outputs": [
        {
          "output_type": "execute_result",
          "data": {
            "text/plain": [
              "[0.0046118836415391445, 0.04913278948297279]"
            ]
          },
          "metadata": {},
          "execution_count": 42
        }
      ]
    },
    {
      "cell_type": "code",
      "source": [
        "w = w[::-1]\n",
        "w"
      ],
      "metadata": {
        "colab": {
          "base_uri": "https://localhost:8080/"
        },
        "id": "lG_gq6dF2bej",
        "outputId": "ad6b0565-9987-4d00-e6dc-30e22f9f68b3"
      },
      "execution_count": 43,
      "outputs": [
        {
          "output_type": "execute_result",
          "data": {
            "text/plain": [
              "[[[0.1, 0.2], [0.3, 0.4], [0.5, 0.6]], [[0.7, 0.8], [0.9, 0.1]]]"
            ]
          },
          "metadata": {},
          "execution_count": 43
        }
      ]
    },
    {
      "cell_type": "code",
      "source": [
        "b = b[::-1]\n",
        "b"
      ],
      "metadata": {
        "colab": {
          "base_uri": "https://localhost:8080/"
        },
        "id": "9i6duVhA2hLh",
        "outputId": "79f0223b-9c3f-426d-b34d-b4d62cd5249f"
      },
      "execution_count": 44,
      "outputs": [
        {
          "output_type": "execute_result",
          "data": {
            "text/plain": [
              "[[0.5], [0.3]]"
            ]
          },
          "metadata": {},
          "execution_count": 44
        }
      ]
    },
    {
      "cell_type": "code",
      "source": [
        "w_diff[0]"
      ],
      "metadata": {
        "colab": {
          "base_uri": "https://localhost:8080/"
        },
        "id": "Ays6cxZFPd8N",
        "outputId": "33a69bc0-9a61-470c-f0af-c58caaeaff9c"
      },
      "execution_count": 45,
      "outputs": [
        {
          "output_type": "execute_result",
          "data": {
            "text/plain": [
              "[[0.007476326694688966, 0.014952653389377932, 0.0224289800840669],\n",
              " [0.001747440588389323, 0.003494881176778646, 0.005242321765167969]]"
            ]
          },
          "metadata": {},
          "execution_count": 45
        }
      ]
    },
    {
      "cell_type": "code",
      "source": [
        "w[0]"
      ],
      "metadata": {
        "colab": {
          "base_uri": "https://localhost:8080/"
        },
        "id": "4_NBY1dp_wjD",
        "outputId": "5ea513b7-dd0e-4f60-94a4-5a7e2cd39ac5"
      },
      "execution_count": 46,
      "outputs": [
        {
          "output_type": "execute_result",
          "data": {
            "text/plain": [
              "[[0.1, 0.2], [0.3, 0.4], [0.5, 0.6]]"
            ]
          },
          "metadata": {},
          "execution_count": 46
        }
      ]
    },
    {
      "cell_type": "code",
      "source": [
        "for i in range(len(w)):\n",
        "  w_narray = np.array(w[i])\n",
        "  print(w_narray)\n",
        "\n",
        "  w_diff_narray = np.array(w_diff[i]).T\n",
        "  print(w_diff_narray)\n",
        "\n",
        "  new_w = w_narray - w_diff_narray\n",
        "  print(new_w)\n",
        "\n",
        "  b_narray = np.array(b[i])\n",
        "  print(b_narray, \"b\")\n",
        "\n",
        "  b_diff_narray = np.array(b_diff[i])\n",
        "  print(b_diff_narray)\n",
        "\n",
        "  new_b = b_narray - b_diff_narray\n",
        "  print(new_b)\n"
      ],
      "metadata": {
        "colab": {
          "base_uri": "https://localhost:8080/"
        },
        "id": "Bg60ewh0_yxQ",
        "outputId": "07c6368c-fb26-430b-d839-895e3a4b90eb"
      },
      "execution_count": 47,
      "outputs": [
        {
          "output_type": "stream",
          "name": "stdout",
          "text": [
            "[[0.1 0.2]\n",
            " [0.3 0.4]\n",
            " [0.5 0.6]]\n",
            "[[0.00747633 0.00174744]\n",
            " [0.01495265 0.00349488]\n",
            " [0.02242898 0.00524232]]\n",
            "[[0.09252367 0.19825256]\n",
            " [0.28504735 0.39650512]\n",
            " [0.47757102 0.59475768]]\n",
            "[0.5] b\n",
            "0.0046118836415391445\n",
            "[0.49538812]\n",
            "[[0.7 0.8]\n",
            " [0.9 0.1]]\n",
            "[[0.04047892 0.11298352]\n",
            " [0.04166268 0.11628758]]\n",
            "[[ 0.65952108  0.68701648]\n",
            " [ 0.85833732 -0.01628758]]\n",
            "[0.3] b\n",
            "0.04913278948297279\n",
            "[0.25086721]\n"
          ]
        }
      ]
    },
    {
      "cell_type": "code",
      "source": [
        "def w_parameter_update(w, w_diff, b, b_diff):\n",
        "  new_w_array = []\n",
        "  new_b_array = []\n",
        "\n",
        "  for i in range(len(w)):\n",
        "    w_narray = np.array(w[i])\n",
        "    w_diff_narray = np.array(w_diff[i]).T\n",
        "\n",
        "    new_w = w_narray - w_diff_narray\n",
        "    \n",
        "    new_w_array.append(new_w.tolist())\n",
        "\n",
        "    b_narray = np.array(b[i])\n",
        "    b_diff_narray = np.array(b_diff[i])\n",
        "  \n",
        "    new_b = b_narray - b_diff_narray\n",
        "\n",
        "    new_b_array.append(new_b.tolist())\n",
        "\n",
        "  return new_w_array, new_b_array"
      ],
      "metadata": {
        "id": "X10tsJCK_11U"
      },
      "execution_count": 48,
      "outputs": []
    },
    {
      "cell_type": "code",
      "source": [
        "new_w, new_b = w_parameter_update(w, w_diff, b, b_diff)"
      ],
      "metadata": {
        "id": "4Uda6QCbJ4im"
      },
      "execution_count": 49,
      "outputs": []
    },
    {
      "cell_type": "code",
      "source": [
        "new_w"
      ],
      "metadata": {
        "colab": {
          "base_uri": "https://localhost:8080/"
        },
        "id": "omxPXPHnJ94H",
        "outputId": "6b1a80d5-85b7-4b47-be53-6c6dacd53163"
      },
      "execution_count": 50,
      "outputs": [
        {
          "output_type": "execute_result",
          "data": {
            "text/plain": [
              "[[[0.09252367330531104, 0.19825255941161068],\n",
              "  [0.28504734661062203, 0.39650511882322137],\n",
              "  [0.4775710199159331, 0.594757678234832]],\n",
              " [[0.659521079677311, 0.6870164775333953],\n",
              "  [0.8583373245161284, -0.01628758361206635]]]"
            ]
          },
          "metadata": {},
          "execution_count": 50
        }
      ]
    },
    {
      "cell_type": "code",
      "source": [
        "new_b"
      ],
      "metadata": {
        "colab": {
          "base_uri": "https://localhost:8080/"
        },
        "id": "fY7ZLpu5J-QN",
        "outputId": "b3b5abd2-051b-40b8-cf81-e37812d42ea0"
      },
      "execution_count": 51,
      "outputs": [
        {
          "output_type": "execute_result",
          "data": {
            "text/plain": [
              "[[0.49538811635846086], [0.2508672105170272]]"
            ]
          },
          "metadata": {},
          "execution_count": 51
        }
      ]
    },
    {
      "cell_type": "code",
      "source": [
        "def w_parameter_update2(w, w_diff, b, b_diff, r):\n",
        "  new_w_array = []\n",
        "  new_b_array = []\n",
        "\n",
        "  for i in range(len(w)):\n",
        "    w_narray = np.array(w[i])\n",
        "    w_diff_narray = np.array(w_diff[i]).T\n",
        "\n",
        "    new_w = w_narray - (w_diff_narray*r)\n",
        "    \n",
        "    new_w_array.append(new_w.tolist())\n",
        "\n",
        "    b_narray = np.array(b[i])\n",
        "    b_diff_narray = np.array(b_diff[i])\n",
        "  \n",
        "    new_b = b_narray - (b_diff_narray*r)\n",
        "\n",
        "    new_b_array.append(new_b.tolist())\n",
        "\n",
        "  return new_w_array, new_b_array"
      ],
      "metadata": {
        "id": "GmfzqyaSSsCI"
      },
      "execution_count": 54,
      "outputs": []
    },
    {
      "cell_type": "code",
      "source": [
        "new_w, new_b = w_parameter_update2(w, w_diff, b, b_diff, 0.01)"
      ],
      "metadata": {
        "id": "QIVL4N1KaI2i"
      },
      "execution_count": 55,
      "outputs": []
    },
    {
      "cell_type": "code",
      "source": [
        "new_w"
      ],
      "metadata": {
        "colab": {
          "base_uri": "https://localhost:8080/"
        },
        "outputId": "3d84ce11-4261-428c-f12f-cdc4a49c859a",
        "id": "W_VFe060aI2i"
      },
      "execution_count": 56,
      "outputs": [
        {
          "output_type": "execute_result",
          "data": {
            "text/plain": [
              "[[[0.09992523673305312, 0.1999825255941161],\n",
              "  [0.2998504734661062, 0.3999650511882322],\n",
              "  [0.49977571019915934, 0.5999475767823483]],\n",
              " [[0.6995952107967731, 0.798870164775334],\n",
              "  [0.8995833732451614, 0.09883712416387934]]]"
            ]
          },
          "metadata": {},
          "execution_count": 56
        }
      ]
    },
    {
      "cell_type": "code",
      "source": [
        "new_b"
      ],
      "metadata": {
        "colab": {
          "base_uri": "https://localhost:8080/"
        },
        "outputId": "f2bc4aa1-3805-40a9-e104-cf98b80b865e",
        "id": "ajJtfaUIaI2j"
      },
      "execution_count": 57,
      "outputs": [
        {
          "output_type": "execute_result",
          "data": {
            "text/plain": [
              "[[0.49995388116358463], [0.29950867210517024]]"
            ]
          },
          "metadata": {},
          "execution_count": 57
        }
      ]
    },
    {
      "cell_type": "code",
      "source": [
        "predict, hidden_output_array = forward_cal(data, new_w, new_b)\n",
        "predict"
      ],
      "metadata": {
        "colab": {
          "base_uri": "https://localhost:8080/"
        },
        "id": "IEY9PXgnaLHi",
        "outputId": "7e61c31a-e6a9-40f0-ccd5-14a0c4ddbb82"
      },
      "execution_count": 58,
      "outputs": [
        {
          "output_type": "execute_result",
          "data": {
            "text/plain": [
              "array([[0.86087518],\n",
              "       [0.75829237]])"
            ]
          },
          "metadata": {},
          "execution_count": 58
        }
      ]
    },
    {
      "cell_type": "code",
      "source": [
        "cost_function.error_squared_sum(predict, target)"
      ],
      "metadata": {
        "colab": {
          "base_uri": "https://localhost:8080/"
        },
        "id": "xT7YWzP3bB5u",
        "outputId": "9e572092-7897-4e8c-c47b-578bf71278f2"
      },
      "execution_count": 59,
      "outputs": [
        {
          "output_type": "execute_result",
          "data": {
            "text/plain": [
              "array([[0.06511545],\n",
              "       [0.21667442]])"
            ]
          },
          "metadata": {},
          "execution_count": 59
        }
      ]
    },
    {
      "cell_type": "code",
      "source": [
        "class MLP():\n",
        "  "
      ],
      "metadata": {
        "id": "oMl0lHqZbFm6"
      },
      "execution_count": null,
      "outputs": []
    }
  ]
}