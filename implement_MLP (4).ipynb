{
  "nbformat": 4,
  "nbformat_minor": 0,
  "metadata": {
    "colab": {
      "provenance": []
    },
    "kernelspec": {
      "name": "python3",
      "display_name": "Python 3"
    },
    "language_info": {
      "name": "python"
    }
  },
  "cells": [
    {
      "cell_type": "code",
      "execution_count": 60,
      "metadata": {
        "id": "VV1YFBuM-x-u"
      },
      "outputs": [],
      "source": [
        "import numpy as np"
      ]
    },
    {
      "cell_type": "markdown",
      "source": [
        "입력값과 임의의 타겟값의 지정"
      ],
      "metadata": {
        "id": "nPGhJkoLA7AR"
      }
    },
    {
      "cell_type": "code",
      "source": [
        "data = np.array(([1],[2],[3]))\n",
        "data"
      ],
      "metadata": {
        "colab": {
          "base_uri": "https://localhost:8080/"
        },
        "id": "qTjBHhDL_IVo",
        "outputId": "92b7d17c-ad1a-4910-ba41-7fc57bcc306d"
      },
      "execution_count": 61,
      "outputs": [
        {
          "output_type": "execute_result",
          "data": {
            "text/plain": [
              "array([[1],\n",
              "       [2],\n",
              "       [3]])"
            ]
          },
          "metadata": {},
          "execution_count": 61
        }
      ]
    },
    {
      "cell_type": "code",
      "source": [
        "target = np.array(([0.5],[0.1]))\n",
        "target"
      ],
      "metadata": {
        "colab": {
          "base_uri": "https://localhost:8080/"
        },
        "id": "U0irQbth_pG3",
        "outputId": "692df2eb-04db-4527-cf1e-2f333638fd18"
      },
      "execution_count": 62,
      "outputs": [
        {
          "output_type": "execute_result",
          "data": {
            "text/plain": [
              "array([[0.5],\n",
              "       [0.1]])"
            ]
          },
          "metadata": {},
          "execution_count": 62
        }
      ]
    },
    {
      "cell_type": "markdown",
      "source": [
        "임의의 가중치 지정"
      ],
      "metadata": {
        "id": "zCuqhvEMA96W"
      }
    },
    {
      "cell_type": "code",
      "source": [
        "w1 = np.array(([0.1, 0.2], [0.3, 0.4], [0.5, 0.6]))\n",
        "w1"
      ],
      "metadata": {
        "colab": {
          "base_uri": "https://localhost:8080/"
        },
        "id": "mo3hLu0dAfPh",
        "outputId": "32830eac-a4d0-4ca8-ad57-31d2cddec8af"
      },
      "execution_count": 63,
      "outputs": [
        {
          "output_type": "execute_result",
          "data": {
            "text/plain": [
              "array([[0.1, 0.2],\n",
              "       [0.3, 0.4],\n",
              "       [0.5, 0.6]])"
            ]
          },
          "metadata": {},
          "execution_count": 63
        }
      ]
    },
    {
      "cell_type": "code",
      "source": [
        "b1 = np.array(([0.5]))\n",
        "b1"
      ],
      "metadata": {
        "colab": {
          "base_uri": "https://localhost:8080/"
        },
        "id": "hie1dpNSBwg7",
        "outputId": "d7f9af57-7e80-47f6-f423-64c9e3080c61"
      },
      "execution_count": 64,
      "outputs": [
        {
          "output_type": "execute_result",
          "data": {
            "text/plain": [
              "array([0.5])"
            ]
          },
          "metadata": {},
          "execution_count": 64
        }
      ]
    },
    {
      "cell_type": "code",
      "source": [
        "w2 = np.array(([0.7, 0.8], [0.9, 0.1]))\n",
        "w2"
      ],
      "metadata": {
        "colab": {
          "base_uri": "https://localhost:8080/"
        },
        "id": "xaCAFg3cBzrF",
        "outputId": "d7892aa9-d589-4fcc-a2b9-0880b6fc75b8"
      },
      "execution_count": 65,
      "outputs": [
        {
          "output_type": "execute_result",
          "data": {
            "text/plain": [
              "array([[0.7, 0.8],\n",
              "       [0.9, 0.1]])"
            ]
          },
          "metadata": {},
          "execution_count": 65
        }
      ]
    },
    {
      "cell_type": "code",
      "source": [
        "b2 = np.array(([0.3]))\n",
        "b2"
      ],
      "metadata": {
        "colab": {
          "base_uri": "https://localhost:8080/"
        },
        "id": "0JoBcMoDB5FF",
        "outputId": "38b78a9d-dedd-4cbb-a608-f00fae3bab58"
      },
      "execution_count": 66,
      "outputs": [
        {
          "output_type": "execute_result",
          "data": {
            "text/plain": [
              "array([0.3])"
            ]
          },
          "metadata": {},
          "execution_count": 66
        }
      ]
    },
    {
      "cell_type": "markdown",
      "source": [
        "순전파의 계산 과정 - 은닉층 입력"
      ],
      "metadata": {
        "id": "cWwZ8du4B_-_"
      }
    },
    {
      "cell_type": "code",
      "source": [
        "hidden_input1 = w1.T @ data + b1\n",
        "hidden_input1"
      ],
      "metadata": {
        "colab": {
          "base_uri": "https://localhost:8080/"
        },
        "id": "-0UFQdxAB61c",
        "outputId": "cfc3d76f-eb48-4b3b-b26e-c96422fff1e2"
      },
      "execution_count": 67,
      "outputs": [
        {
          "output_type": "execute_result",
          "data": {
            "text/plain": [
              "array([[2.7],\n",
              "       [3.3]])"
            ]
          },
          "metadata": {},
          "execution_count": 67
        }
      ]
    },
    {
      "cell_type": "markdown",
      "source": [
        "순전파의 계산 과정 - 은닉층 출력(활성화 함수 연산-시그모이드 함수)"
      ],
      "metadata": {
        "id": "S5XQsZYWDzqX"
      }
    },
    {
      "cell_type": "code",
      "source": [
        "class activation:\n",
        "  def sigmoid(self, x):\n",
        "    return 1 / (1+np.e**-x)"
      ],
      "metadata": {
        "id": "nHMaPGJbC0Ck"
      },
      "execution_count": 68,
      "outputs": []
    },
    {
      "cell_type": "code",
      "source": [
        "act = activation()"
      ],
      "metadata": {
        "id": "tp1MGFYuEq4w"
      },
      "execution_count": 69,
      "outputs": []
    },
    {
      "cell_type": "code",
      "source": [
        "hidden_output1 = act.sigmoid(hidden_input1)\n",
        "hidden_output1"
      ],
      "metadata": {
        "colab": {
          "base_uri": "https://localhost:8080/"
        },
        "id": "fN_C2zQYE1FC",
        "outputId": "77179ef5-1c8a-4878-b797-d507022b4c1b"
      },
      "execution_count": 70,
      "outputs": [
        {
          "output_type": "execute_result",
          "data": {
            "text/plain": [
              "array([[0.93702664],\n",
              "       [0.96442881]])"
            ]
          },
          "metadata": {},
          "execution_count": 70
        }
      ]
    },
    {
      "cell_type": "markdown",
      "source": [
        "은닉층-출력층까지의 계산(활성화 함수-시그모이드)"
      ],
      "metadata": {
        "id": "6aenqY3OHU6f"
      }
    },
    {
      "cell_type": "code",
      "source": [
        "hidden_input2 = w2.T @ hidden_output1 + b2\n",
        "hidden_input2"
      ],
      "metadata": {
        "colab": {
          "base_uri": "https://localhost:8080/"
        },
        "id": "RjBZcPY0EtTQ",
        "outputId": "687e35cb-d675-49dc-ed60-567b3bf24abb"
      },
      "execution_count": 71,
      "outputs": [
        {
          "output_type": "execute_result",
          "data": {
            "text/plain": [
              "array([[1.82390458],\n",
              "       [1.1460642 ]])"
            ]
          },
          "metadata": {},
          "execution_count": 71
        }
      ]
    },
    {
      "cell_type": "code",
      "source": [
        "hidden_output2 = act.sigmoid(hidden_input2)\n",
        "hidden_output2"
      ],
      "metadata": {
        "colab": {
          "base_uri": "https://localhost:8080/"
        },
        "id": "0_oH6TPDOm_6",
        "outputId": "c86c6509-f15c-4d8c-ce91-d7451f98145f"
      },
      "execution_count": 72,
      "outputs": [
        {
          "output_type": "execute_result",
          "data": {
            "text/plain": [
              "array([[0.86103399],\n",
              "       [0.75879129]])"
            ]
          },
          "metadata": {},
          "execution_count": 72
        }
      ]
    },
    {
      "cell_type": "code",
      "source": [
        "predict = hidden_output2\n",
        "predict"
      ],
      "metadata": {
        "colab": {
          "base_uri": "https://localhost:8080/"
        },
        "id": "XUvrUArvzGqj",
        "outputId": "c7d4dad7-54a5-405a-ab3d-e7f9b80b542e"
      },
      "execution_count": 73,
      "outputs": [
        {
          "output_type": "execute_result",
          "data": {
            "text/plain": [
              "array([[0.86103399],\n",
              "       [0.75879129]])"
            ]
          },
          "metadata": {},
          "execution_count": 73
        }
      ]
    },
    {
      "cell_type": "markdown",
      "source": [
        "비용함수의 정의(오차 제곱합)"
      ],
      "metadata": {
        "id": "WIfKUd-vwr3c"
      }
    },
    {
      "cell_type": "code",
      "source": [
        "target"
      ],
      "metadata": {
        "colab": {
          "base_uri": "https://localhost:8080/"
        },
        "id": "jhrwTXT6TV8n",
        "outputId": "bcc262b8-8d3e-4dfc-f3a9-3f43d62262b2"
      },
      "execution_count": 74,
      "outputs": [
        {
          "output_type": "execute_result",
          "data": {
            "text/plain": [
              "array([[0.5],\n",
              "       [0.1]])"
            ]
          },
          "metadata": {},
          "execution_count": 74
        }
      ]
    },
    {
      "cell_type": "code",
      "source": [
        "predict"
      ],
      "metadata": {
        "colab": {
          "base_uri": "https://localhost:8080/"
        },
        "id": "5IpH0TytTX7t",
        "outputId": "3c63524b-23e4-4839-f15c-d196d326dc1f"
      },
      "execution_count": 75,
      "outputs": [
        {
          "output_type": "execute_result",
          "data": {
            "text/plain": [
              "array([[0.86103399],\n",
              "       [0.75879129]])"
            ]
          },
          "metadata": {},
          "execution_count": 75
        }
      ]
    },
    {
      "cell_type": "code",
      "source": [
        "class cost_function:\n",
        "  def error_squared_sum(self, predict, target):\n",
        "    return 0.5*((predict - target)**2)"
      ],
      "metadata": {
        "id": "ONuhynuSRCWD"
      },
      "execution_count": 76,
      "outputs": []
    },
    {
      "cell_type": "code",
      "source": [
        "cost_function = cost_function()"
      ],
      "metadata": {
        "id": "S1eTwoyVzeeH"
      },
      "execution_count": 77,
      "outputs": []
    },
    {
      "cell_type": "code",
      "source": [
        "cost_function.error_squared_sum(predict, target)"
      ],
      "metadata": {
        "colab": {
          "base_uri": "https://localhost:8080/"
        },
        "id": "g5z9Gj2D1-jH",
        "outputId": "54706f36-f93a-406b-de7d-c04d687c9417"
      },
      "execution_count": 78,
      "outputs": [
        {
          "output_type": "execute_result",
          "data": {
            "text/plain": [
              "array([[0.06517277],\n",
              "       [0.21700298]])"
            ]
          },
          "metadata": {},
          "execution_count": 78
        }
      ]
    },
    {
      "cell_type": "markdown",
      "source": [
        "역전파 계산\n",
        "\n",
        "역전파 계산을 위해서는 미분식을 구할 수 있어야 한다. \n",
        "\n",
        "오차 함수를 정하면서 해당 함수의 미분식을 미리 알고 있으므로 미분식에 대한 함수를 미리 만들 수 있다."
      ],
      "metadata": {
        "id": "KPQAXyPaXhFX"
      }
    },
    {
      "cell_type": "markdown",
      "source": [
        "활성화 함수의 미분함수"
      ],
      "metadata": {
        "id": "CAvI-LpYr4dY"
      }
    },
    {
      "cell_type": "code",
      "source": [
        "class activation:\n",
        "  def sigmoid(self, x):\n",
        "    return 1 / (1+np.e**-x)\n",
        "  \n",
        "  def sigmoid_diff(self, x):\n",
        "  # 활성화 함수의 계산 값이 예측값이다.\n",
        "    return x * (1 - x)"
      ],
      "metadata": {
        "id": "C8SHQyA52CP4"
      },
      "execution_count": 79,
      "outputs": []
    },
    {
      "cell_type": "markdown",
      "source": [
        "오차 역전파(델타값 계산 : 노드 입력의 변화에 따른 비용 함수의 변화량)"
      ],
      "metadata": {
        "id": "5iJzkZQWZndz"
      }
    },
    {
      "cell_type": "code",
      "source": [
        "activation = activation()"
      ],
      "metadata": {
        "id": "dLjx7Y6kaHyp"
      },
      "execution_count": 80,
      "outputs": []
    },
    {
      "cell_type": "code",
      "source": [
        "delta2 = (predict - target) * activation.sigmoid_diff(predict)\n",
        "delta2"
      ],
      "metadata": {
        "colab": {
          "base_uri": "https://localhost:8080/"
        },
        "id": "5udu8TiIZjDM",
        "outputId": "5cfe9c16-2d9c-43d5-bdd5-9768df4526f6"
      },
      "execution_count": 81,
      "outputs": [
        {
          "output_type": "execute_result",
          "data": {
            "text/plain": [
              "array([[0.04319933],\n",
              "       [0.12057664]])"
            ]
          },
          "metadata": {},
          "execution_count": 81
        }
      ]
    },
    {
      "cell_type": "markdown",
      "source": [
        "해당 델타값은 출력층의 각 노드들의 입력값의 변화량에 따른 오차 함수의 변화량이다."
      ],
      "metadata": {
        "id": "61ovAlaKa0IG"
      }
    },
    {
      "cell_type": "markdown",
      "source": [
        "델타값을 통해 가중치 변화량에 따른 오차함수의 변화량을 구할 수 있다."
      ],
      "metadata": {
        "id": "ibcQiyc8bDSu"
      }
    },
    {
      "cell_type": "markdown",
      "source": [
        "가중치 변화에 따른 오차함수의 변화량은 이전 노드의 출력값이다."
      ],
      "metadata": {
        "id": "HN7hGyDKbOPD"
      }
    },
    {
      "cell_type": "code",
      "source": [
        "hidden_output1"
      ],
      "metadata": {
        "colab": {
          "base_uri": "https://localhost:8080/"
        },
        "id": "48Koh8evbow0",
        "outputId": "ff843edb-6414-48de-8afc-2281183074ea"
      },
      "execution_count": 82,
      "outputs": [
        {
          "output_type": "execute_result",
          "data": {
            "text/plain": [
              "array([[0.93702664],\n",
              "       [0.96442881]])"
            ]
          },
          "metadata": {},
          "execution_count": 82
        }
      ]
    },
    {
      "cell_type": "code",
      "source": [
        "w2_diff = (delta2 @ hidden_output1.T).T\n",
        "w2_diff"
      ],
      "metadata": {
        "colab": {
          "base_uri": "https://localhost:8080/"
        },
        "id": "WOId4V57a-qk",
        "outputId": "f3dad308-7fd3-4db6-a8e0-55e1b3e9c06d"
      },
      "execution_count": 83,
      "outputs": [
        {
          "output_type": "execute_result",
          "data": {
            "text/plain": [
              "array([[0.04047892, 0.11298352],\n",
              "       [0.04166268, 0.11628758]])"
            ]
          },
          "metadata": {},
          "execution_count": 83
        }
      ]
    },
    {
      "cell_type": "code",
      "source": [
        "b2_diff = np.sum(delta2*b2)\n",
        "b2_diff"
      ],
      "metadata": {
        "colab": {
          "base_uri": "https://localhost:8080/"
        },
        "id": "h_6ypnNlaVgj",
        "outputId": "9ad09fe8-b5e8-429e-8372-c689f776d84b"
      },
      "execution_count": 84,
      "outputs": [
        {
          "output_type": "execute_result",
          "data": {
            "text/plain": [
              "0.04913278948297279"
            ]
          },
          "metadata": {},
          "execution_count": 84
        }
      ]
    },
    {
      "cell_type": "markdown",
      "source": [
        "은닉층-출력층 사이 가중치 변화량에 따른 오차 함수의 변화량을 구할 수 있었다."
      ],
      "metadata": {
        "id": "hBnFYUXhdSIX"
      }
    },
    {
      "cell_type": "markdown",
      "source": [
        "delta 값을 이용하여 입력-은닉층까지의 가중치 변화량에 따른 오차 함수의 변화량을 계산한다."
      ],
      "metadata": {
        "id": "lBxph0DYdYgq"
      }
    },
    {
      "cell_type": "code",
      "source": [
        "delta2"
      ],
      "metadata": {
        "colab": {
          "base_uri": "https://localhost:8080/"
        },
        "id": "VM5G7QZmdrBV",
        "outputId": "e993a369-9b46-4c00-8870-88cd4d41b180"
      },
      "execution_count": 85,
      "outputs": [
        {
          "output_type": "execute_result",
          "data": {
            "text/plain": [
              "array([[0.04319933],\n",
              "       [0.12057664]])"
            ]
          },
          "metadata": {},
          "execution_count": 85
        }
      ]
    },
    {
      "cell_type": "code",
      "source": [
        "w2"
      ],
      "metadata": {
        "colab": {
          "base_uri": "https://localhost:8080/"
        },
        "id": "M9fVvINFeVc1",
        "outputId": "35f9959c-17c6-4156-b63d-1294a2a8f564"
      },
      "execution_count": 86,
      "outputs": [
        {
          "output_type": "execute_result",
          "data": {
            "text/plain": [
              "array([[0.7, 0.8],\n",
              "       [0.9, 0.1]])"
            ]
          },
          "metadata": {},
          "execution_count": 86
        }
      ]
    },
    {
      "cell_type": "markdown",
      "source": [
        "각 은닉노드의 출력에 대한 오차 함수의 변화량을 계산하기 위해서는 delta 값에 노드 입력에 대한 변화량을 곱해준다."
      ],
      "metadata": {
        "id": "pDVtdaTidujo"
      }
    },
    {
      "cell_type": "code",
      "source": [
        "delta2.T @ w2.T"
      ],
      "metadata": {
        "colab": {
          "base_uri": "https://localhost:8080/"
        },
        "id": "v1SrTSh1dE-7",
        "outputId": "623e0bb9-12be-442d-bc73-55b71fd176cd"
      },
      "execution_count": 87,
      "outputs": [
        {
          "output_type": "execute_result",
          "data": {
            "text/plain": [
              "array([[0.12670084, 0.05093706]])"
            ]
          },
          "metadata": {},
          "execution_count": 87
        }
      ]
    },
    {
      "cell_type": "markdown",
      "source": [
        "이는 각 은닉노드 출력의 변화에 따른 오차 함수의 변화량이다."
      ],
      "metadata": {
        "id": "g89ZZzlPemtX"
      }
    },
    {
      "cell_type": "markdown",
      "source": [
        "은닉노드의 입력의 변화에 따른 오차 함수의 변화량, 즉 delta1 을 계산한다."
      ],
      "metadata": {
        "id": "8Tk1lRCwfaRE"
      }
    },
    {
      "cell_type": "code",
      "source": [
        "delta1 = (delta2.T @ w2.T).T * activation.sigmoid_diff(hidden_output1)\n",
        "delta1"
      ],
      "metadata": {
        "colab": {
          "base_uri": "https://localhost:8080/"
        },
        "id": "JKaWoScodhT9",
        "outputId": "449d4109-78c9-49a1-bc08-b54e74c1e5da"
      },
      "execution_count": 88,
      "outputs": [
        {
          "output_type": "execute_result",
          "data": {
            "text/plain": [
              "array([[0.00747633],\n",
              "       [0.00174744]])"
            ]
          },
          "metadata": {},
          "execution_count": 88
        }
      ]
    },
    {
      "cell_type": "markdown",
      "source": [
        "이후 동일하게 은닉 노드의 입력, 즉 데이터값을 통해 입력-은닉 노드의 가중치 변화량에 대한 오차 함수의 변화량을 계산한다."
      ],
      "metadata": {
        "id": "TXDBw29VgHGx"
      }
    },
    {
      "cell_type": "code",
      "source": [
        "w1_diff = (data * delta1.T).T\n",
        "w1_diff"
      ],
      "metadata": {
        "colab": {
          "base_uri": "https://localhost:8080/"
        },
        "id": "rtrhjxyXf7TQ",
        "outputId": "203f8810-2c32-4af9-fd95-4d5b9e8280a1"
      },
      "execution_count": 89,
      "outputs": [
        {
          "output_type": "execute_result",
          "data": {
            "text/plain": [
              "array([[0.00747633, 0.01495265, 0.02242898],\n",
              "       [0.00174744, 0.00349488, 0.00524232]])"
            ]
          },
          "metadata": {},
          "execution_count": 89
        }
      ]
    },
    {
      "cell_type": "code",
      "source": [
        "b1_diff = np.sum(delta1*b1)\n",
        "b1_diff"
      ],
      "metadata": {
        "colab": {
          "base_uri": "https://localhost:8080/"
        },
        "id": "3B6vnzJXgXRx",
        "outputId": "e8554ae6-988f-4b1d-9de3-8548613f9d15"
      },
      "execution_count": 90,
      "outputs": [
        {
          "output_type": "execute_result",
          "data": {
            "text/plain": [
              "0.0046118836415391445"
            ]
          },
          "metadata": {},
          "execution_count": 90
        }
      ]
    },
    {
      "cell_type": "code",
      "source": [],
      "metadata": {
        "id": "WrjjANhdhBMj"
      },
      "execution_count": 90,
      "outputs": []
    }
  ]
}